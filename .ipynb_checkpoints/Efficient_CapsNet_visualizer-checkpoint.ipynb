{
 "cells": [
  {
   "cell_type": "code",
   "execution_count": 1,
   "metadata": {
    "ExecuteTime": {
     "end_time": "2021-01-02T11:23:07.254161Z",
     "start_time": "2021-01-02T11:23:06.226026Z"
    }
   },
   "outputs": [],
   "source": [
    "from ipywidgets import interact, widgets, interactive\n",
    "import os\n",
    "import numpy as np\n",
    "import matplotlib.pyplot as plt\n",
    "import tensorflow as tf\n",
    "from pathlib import Path\n",
    "from PIL import Image\n",
    "import math\n",
    "from utils.layers import *\n",
    "from utils.tools import *"
   ]
  },
  {
   "cell_type": "code",
   "execution_count": 2,
   "metadata": {
    "ExecuteTime": {
     "end_time": "2021-01-02T11:23:07.297424Z",
     "start_time": "2021-01-02T11:23:07.262908Z"
    }
   },
   "outputs": [],
   "source": [
    "gpus = tf.config.experimental.list_physical_devices('GPU')\n",
    "tf.config.experimental.set_visible_devices(gpus[0], 'GPU')\n",
    "tf.config.experimental.set_memory_growth(gpus[0], True)"
   ]
  },
  {
   "cell_type": "code",
   "execution_count": 3,
   "metadata": {
    "ExecuteTime": {
     "end_time": "2021-01-02T11:23:07.309085Z",
     "start_time": "2021-01-02T11:23:07.306961Z"
    }
   },
   "outputs": [],
   "source": [
    "# set some paths and config\n",
    "PATH_DIR = Path.cwd()\n",
    "model_dir = PATH_DIR.joinpath('bin')\n",
    "media_dir = PATH_DIR.joinpath('media')\n",
    "\n",
    "\n",
    "input_shape = (28,28,1)\n",
    "ROUTING = False"
   ]
  },
  {
   "cell_type": "markdown",
   "metadata": {},
   "source": [
    "# Import the dataset"
   ]
  },
  {
   "cell_type": "code",
   "execution_count": 4,
   "metadata": {
    "ExecuteTime": {
     "end_time": "2021-01-02T11:23:07.494933Z",
     "start_time": "2021-01-02T11:23:07.317636Z"
    }
   },
   "outputs": [],
   "source": [
    "# import the datatset\n",
    "(X_train, y_train), (X_test, y_test) = tf.keras.datasets.mnist.load_data(path='mnist.npz')"
   ]
  },
  {
   "cell_type": "code",
   "execution_count": 5,
   "metadata": {
    "ExecuteTime": {
     "end_time": "2021-01-02T11:23:07.507771Z",
     "start_time": "2021-01-02T11:23:07.506092Z"
    }
   },
   "outputs": [],
   "source": [
    "# normalize dataset\n",
    "def pre_process(x, y):\n",
    "    return (x / 255)[...,None], tf.keras.utils.to_categorical(y, num_classes=10)"
   ]
  },
  {
   "cell_type": "code",
   "execution_count": 6,
   "metadata": {
    "ExecuteTime": {
     "end_time": "2021-01-02T11:23:07.591916Z",
     "start_time": "2021-01-02T11:23:07.518723Z"
    }
   },
   "outputs": [],
   "source": [
    "# prepare the data\n",
    "X_train, y_train = pre_process(X_train, y_train)\n",
    "X_test, y_test = pre_process(X_test, y_test)"
   ]
  },
  {
   "cell_type": "markdown",
   "metadata": {},
   "source": [
    "# Create model"
   ]
  },
  {
   "cell_type": "code",
   "execution_count": 7,
   "metadata": {
    "ExecuteTime": {
     "end_time": "2021-01-02T11:23:07.613831Z",
     "start_time": "2021-01-02T11:23:07.611138Z"
    }
   },
   "outputs": [],
   "source": [
    "def Generator():\n",
    "    inputs = tf.keras.Input(16*10)\n",
    "    \n",
    "    x = tf.keras.layers.Dense(512, activation='relu')(inputs)\n",
    "    x = tf.keras.layers.Dense(1024, activation='relu')(x)\n",
    "    x = tf.keras.layers.Dense(np.prod(input_shape), activation='sigmoid')(x)\n",
    "    x = tf.keras.layers.Reshape(target_shape=input_shape, name='out_generator')(x)\n",
    "    \n",
    "    return tf.keras.Model(inputs=inputs, outputs=x, name='Generator')"
   ]
  },
  {
   "cell_type": "code",
   "execution_count": 8,
   "metadata": {
    "ExecuteTime": {
     "end_time": "2021-01-02T11:23:07.690540Z",
     "start_time": "2021-01-02T11:23:07.683799Z"
    }
   },
   "outputs": [],
   "source": [
    "def CapsNet():\n",
    "    inputs = tf.keras.Input(input_shape)\n",
    "    \n",
    "    x = tf.keras.layers.Conv2D(32,5,activation=\"relu\", padding='valid', kernel_initializer='he_normal')(inputs)\n",
    "    x = tf.keras.layers.BatchNormalization()(x)\n",
    "    x = tf.keras.layers.Conv2D(64,3, activation='relu', padding='valid', kernel_initializer='he_normal')(x)\n",
    "    x = tf.keras.layers.BatchNormalization()(x)\n",
    "    x = tf.keras.layers.Conv2D(64,3, activation='relu', padding='valid', kernel_initializer='he_normal')(x)   \n",
    "    x = tf.keras.layers.BatchNormalization()(x)\n",
    "    x = tf.keras.layers.Conv2D(128,3,2, activation='relu', padding='valid', kernel_initializer='he_normal')(x)   \n",
    "    x = tf.keras.layers.BatchNormalization()(x)\n",
    "    x = tf.keras.layers.Conv2D(128, 9, activation='linear', groups=128, padding='valid')(x)\n",
    "    x = tf.keras.layers.Reshape((16,8))(x)\n",
    "    x = tf.keras.layers.Lambda(squash, name='squash')(x)\n",
    "    digit_caps = DigitCaps(10,16)(x)\n",
    "    \n",
    "    digit_caps_len = Length(name='micro_capsnet_output')(digit_caps)\n",
    "\n",
    "    return tf.keras.Model(inputs=inputs,outputs=[digit_caps,digit_caps_len], name='CapsNet')"
   ]
  },
  {
   "cell_type": "code",
   "execution_count": 9,
   "metadata": {
    "ExecuteTime": {
     "end_time": "2021-01-02T11:23:07.886752Z",
     "start_time": "2021-01-02T11:23:07.880640Z"
    }
   },
   "outputs": [],
   "source": [
    "def modelPlay(generator):\n",
    "    inputs = tf.keras.Input(input_shape)\n",
    "    noise = tf.keras.layers.Input(shape=(10, 16))\n",
    "    y_true = tf.keras.layers.Input(shape=(10,))\n",
    "    \n",
    "    digit_caps, digit_caps_len = CapsNet()(inputs)\n",
    "    noised_digitcaps = tf.keras.layers.Add()([digit_caps, noise])\n",
    "\n",
    "    masked = Mask()(digit_caps)  # Mask using the capsule with maximal length. For prediction\n",
    "    masked_noised_y = Mask()([noised_digitcaps, y_true])\n",
    "    \n",
    "    x_rec_play = generator(masked_noised_y)\n",
    "    \n",
    "    \n",
    "    return  tf.keras.models.Model([inputs, y_true, noise], x_rec_play)"
   ]
  },
  {
   "cell_type": "code",
   "execution_count": 10,
   "metadata": {
    "ExecuteTime": {
     "end_time": "2021-01-02T11:23:09.140714Z",
     "start_time": "2021-01-02T11:23:08.151705Z"
    }
   },
   "outputs": [
    {
     "name": "stdout",
     "output_type": "stream",
     "text": [
      "Model: \"functional_1\"\n",
      "__________________________________________________________________________________________________\n",
      "Layer (type)                    Output Shape         Param #     Connected to                     \n",
      "==================================================================================================\n",
      "input_2 (InputLayer)            [(None, 28, 28, 1)]  0                                            \n",
      "__________________________________________________________________________________________________\n",
      "CapsNet (Functional)            [(None, 10, 16), (No 162400      input_2[0][0]                    \n",
      "__________________________________________________________________________________________________\n",
      "input_3 (InputLayer)            [(None, 10, 16)]     0                                            \n",
      "__________________________________________________________________________________________________\n",
      "add (Add)                       (None, 10, 16)       0           CapsNet[0][0]                    \n",
      "                                                                 input_3[0][0]                    \n",
      "__________________________________________________________________________________________________\n",
      "input_4 (InputLayer)            [(None, 10)]         0                                            \n",
      "__________________________________________________________________________________________________\n",
      "mask_1 (Mask)                   (None, 160)          0           add[0][0]                        \n",
      "                                                                 input_4[0][0]                    \n",
      "__________________________________________________________________________________________________\n",
      "Generator (Functional)          (None, 28, 28, 1)    1411344     mask_1[0][0]                     \n",
      "==================================================================================================\n",
      "Total params: 1,573,744\n",
      "Trainable params: 1,573,168\n",
      "Non-trainable params: 576\n",
      "__________________________________________________________________________________________________\n"
     ]
    }
   ],
   "source": [
    "model_play = modelPlay(Generator())\n",
    "model_play.summary()"
   ]
  },
  {
   "cell_type": "code",
   "execution_count": 11,
   "metadata": {
    "ExecuteTime": {
     "end_time": "2021-01-02T11:23:09.178040Z",
     "start_time": "2021-01-02T11:23:09.159414Z"
    }
   },
   "outputs": [],
   "source": [
    "name_model = 'efficient_capsnet_mnist_022.h5'\n",
    "\n",
    "model_play.load_weights(model_dir.joinpath(name_model))"
   ]
  },
  {
   "cell_type": "markdown",
   "metadata": {},
   "source": [
    "# Interact with model"
   ]
  },
  {
   "cell_type": "code",
   "execution_count": 20,
   "metadata": {
    "ExecuteTime": {
     "end_time": "2021-01-02T11:34:03.703093Z",
     "start_time": "2021-01-02T11:34:03.693585Z"
    }
   },
   "outputs": [],
   "source": [
    "class Visualizer(object):\n",
    "    def __init__(self):\n",
    "        self.min_value = - 0.30\n",
    "        self.max_value = + 0.30\n",
    "        self.step = 0.05\n",
    "        self.sliders = {str(i):widgets.FloatSlider(min=self.min_value, max=self.max_value, step=self.step) for i in range(16)}\n",
    "        self.text = widgets.IntText()\n",
    "        self.sliders['index'] = self.text\n",
    "        \n",
    "    def affineTransform(self, **info):\n",
    "    \n",
    "        index = abs(int(info['index']))\n",
    "        tmp = np.zeros([1, 10, 16])\n",
    "\n",
    "        for d in range(16):\n",
    "            tmp[:,:,d] = info[str(d)]\n",
    "\n",
    "        X_gen = model_play.predict([X_test[index:index+1], y_test[index:index+1], tmp])\n",
    "\n",
    "        fig, ax = plt.subplots(1, 2, figsize=(12,12))\n",
    "        ax[0].imshow(X_test[index], cmap='gray')\n",
    "        ax[0].set_title('Input Digit')\n",
    "        ax[1].imshow(X_gen[0], cmap='gray')\n",
    "        ax[1].set_title('Output Generator')\n",
    "        plt.show()\n",
    "    \n",
    "    def on_button_clicked(self, k):\n",
    "        for i in range(16):\n",
    "            self.sliders[str(i)].value = 0\n",
    "        \n",
    "    def start(self):\n",
    "        button = widgets.Button(description=\"Reset\")\n",
    "        button.on_click(self.on_button_clicked)\n",
    "        \n",
    "        main = widgets.HBox([self.text, button])\n",
    "        u1 = widgets.HBox([self.sliders[str(i)] for i in range(0,4)])\n",
    "        u2 = widgets.HBox([self.sliders[str(i)] for i in range(4,8)])\n",
    "        u3 = widgets.HBox([self.sliders[str(i)] for i in range(8,12)])\n",
    "        u4 = widgets.HBox([self.sliders[str(i)] for i in range(12,16)])\n",
    "        \n",
    "        out = widgets.interactive_output(self.affineTransform, self.sliders)\n",
    "        \n",
    "        display(main, u1, u2, u3, u4, out)"
   ]
  },
  {
   "cell_type": "code",
   "execution_count": 21,
   "metadata": {
    "ExecuteTime": {
     "end_time": "2021-01-02T11:34:04.398513Z",
     "start_time": "2021-01-02T11:34:04.121118Z"
    },
    "scrolled": false
   },
   "outputs": [
    {
     "data": {
      "application/vnd.jupyter.widget-view+json": {
       "model_id": "2bbc9288c37146218d8e476d6c1c5e38",
       "version_major": 2,
       "version_minor": 0
      },
      "text/plain": [
       "HBox(children=(IntText(value=0), Button(description='Reset', style=ButtonStyle())))"
      ]
     },
     "metadata": {},
     "output_type": "display_data"
    },
    {
     "data": {
      "application/vnd.jupyter.widget-view+json": {
       "model_id": "773edcedea004d32a590179504c378a9",
       "version_major": 2,
       "version_minor": 0
      },
      "text/plain": [
       "HBox(children=(FloatSlider(value=0.0, max=7.3, min=-7.3, step=0.05), FloatSlider(value=0.0, max=7.3, min=-7.3,…"
      ]
     },
     "metadata": {},
     "output_type": "display_data"
    },
    {
     "data": {
      "application/vnd.jupyter.widget-view+json": {
       "model_id": "cfb478f1377e4af8ae2217d7aa12e656",
       "version_major": 2,
       "version_minor": 0
      },
      "text/plain": [
       "HBox(children=(FloatSlider(value=0.0, max=7.3, min=-7.3, step=0.05), FloatSlider(value=0.0, max=7.3, min=-7.3,…"
      ]
     },
     "metadata": {},
     "output_type": "display_data"
    },
    {
     "data": {
      "application/vnd.jupyter.widget-view+json": {
       "model_id": "6a85c7a949174bfd83c74ab50fd510a7",
       "version_major": 2,
       "version_minor": 0
      },
      "text/plain": [
       "HBox(children=(FloatSlider(value=0.0, max=7.3, min=-7.3, step=0.05), FloatSlider(value=0.0, max=7.3, min=-7.3,…"
      ]
     },
     "metadata": {},
     "output_type": "display_data"
    },
    {
     "data": {
      "application/vnd.jupyter.widget-view+json": {
       "model_id": "40687c02a597471cb107d8faa718fa24",
       "version_major": 2,
       "version_minor": 0
      },
      "text/plain": [
       "HBox(children=(FloatSlider(value=0.0, max=7.3, min=-7.3, step=0.05), FloatSlider(value=0.0, max=7.3, min=-7.3,…"
      ]
     },
     "metadata": {},
     "output_type": "display_data"
    },
    {
     "data": {
      "application/vnd.jupyter.widget-view+json": {
       "model_id": "f5dcfee8a2f74148a193eec08d57ed57",
       "version_major": 2,
       "version_minor": 0
      },
      "text/plain": [
       "Output()"
      ]
     },
     "metadata": {},
     "output_type": "display_data"
    }
   ],
   "source": [
    "Visualizer().start()"
   ]
  },
  {
   "cell_type": "code",
   "execution_count": null,
   "metadata": {},
   "outputs": [],
   "source": []
  }
 ],
 "metadata": {
  "kernelspec": {
   "display_name": "Tensorflow2.0",
   "language": "python",
   "name": "tensorflow2.0"
  },
  "language_info": {
   "codemirror_mode": {
    "name": "ipython",
    "version": 3
   },
   "file_extension": ".py",
   "mimetype": "text/x-python",
   "name": "python",
   "nbconvert_exporter": "python",
   "pygments_lexer": "ipython3",
   "version": "3.6.0"
  },
  "toc": {
   "base_numbering": 1,
   "nav_menu": {},
   "number_sections": true,
   "sideBar": true,
   "skip_h1_title": false,
   "title_cell": "Table of Contents",
   "title_sidebar": "Contents",
   "toc_cell": false,
   "toc_position": {},
   "toc_section_display": true,
   "toc_window_display": false
  },
  "varInspector": {
   "cols": {
    "lenName": 16,
    "lenType": 16,
    "lenVar": 40
   },
   "kernels_config": {
    "python": {
     "delete_cmd_postfix": "",
     "delete_cmd_prefix": "del ",
     "library": "var_list.py",
     "varRefreshCmd": "print(var_dic_list())"
    },
    "r": {
     "delete_cmd_postfix": ") ",
     "delete_cmd_prefix": "rm(",
     "library": "var_list.r",
     "varRefreshCmd": "cat(var_dic_list()) "
    }
   },
   "types_to_exclude": [
    "module",
    "function",
    "builtin_function_or_method",
    "instance",
    "_Feature"
   ],
   "window_display": false
  }
 },
 "nbformat": 4,
 "nbformat_minor": 4
}
