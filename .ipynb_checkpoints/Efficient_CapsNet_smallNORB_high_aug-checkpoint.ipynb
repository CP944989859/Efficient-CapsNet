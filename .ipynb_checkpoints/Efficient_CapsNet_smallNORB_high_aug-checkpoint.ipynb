{
 "cells": [
  {
   "cell_type": "markdown",
   "metadata": {},
   "source": [
    "# All Capsules Need is Self-Attention"
   ]
  },
  {
   "cell_type": "code",
   "execution_count": 1,
   "metadata": {
    "ExecuteTime": {
     "end_time": "2020-12-29T14:06:12.038171Z",
     "start_time": "2020-12-29T14:06:11.903823Z"
    }
   },
   "outputs": [],
   "source": [
    "%matplotlib inline\n",
    "%reload_ext autoreload\n",
    "%autoreload 2"
   ]
  },
  {
   "cell_type": "code",
   "execution_count": 2,
   "metadata": {
    "ExecuteTime": {
     "end_time": "2020-12-29T14:06:13.509868Z",
     "start_time": "2020-12-29T14:06:12.269595Z"
    },
    "executionInfo": {
     "elapsed": 2372,
     "status": "ok",
     "timestamp": 1606507320391,
     "user": {
      "displayName": "Francesco Salvetti",
      "photoUrl": "https://lh3.googleusercontent.com/a-/AOh14Gh51hhSjGpYBdTUoBi9QzXQ_ZQ71SITK1bwMzjV=s64",
      "userId": "12996531273344737864"
     },
     "user_tz": -60
    },
    "id": "QkauzhWdH0wf"
   },
   "outputs": [],
   "source": [
    "import os\n",
    "import numpy as np\n",
    "import matplotlib.pyplot as plt\n",
    "import tensorflow as tf\n",
    "from pathlib import Path\n",
    "from PIL import Image\n",
    "import math\n",
    "import tensorflow_datasets as tfds\n",
    "from utils.visualize import plotImages\n",
    "from tqdm.notebook import tqdm\n",
    "from small_norb.smallnorb.dataset import SmallNORBDataset\n",
    "import tensorflow_addons as tfa\n",
    "tf2 = tf.compat.v2\n",
    "import cv2"
   ]
  },
  {
   "cell_type": "code",
   "execution_count": 3,
   "metadata": {
    "ExecuteTime": {
     "end_time": "2020-12-29T14:06:13.765530Z",
     "start_time": "2020-12-29T14:06:13.716801Z"
    }
   },
   "outputs": [],
   "source": [
    "gpus = tf.config.experimental.list_physical_devices('GPU')\n",
    "tf.config.experimental.set_visible_devices(gpus[1], 'GPU')\n",
    "tf.config.experimental.set_memory_growth(gpus[1], True)"
   ]
  },
  {
   "cell_type": "code",
   "execution_count": 123,
   "metadata": {
    "ExecuteTime": {
     "end_time": "2020-12-29T18:32:49.380223Z",
     "start_time": "2020-12-29T18:32:49.336355Z"
    }
   },
   "outputs": [],
   "source": [
    "# set some paths and config\n",
    "PATH_DIR = Path.cwd()\n",
    "name_model = 'efficient_capsnet_smallNorrb'\n",
    "model_dir = PATH_DIR.joinpath('bin')\n",
    "dataset_dir = PATH_DIR.joinpath('small_norb/small_norb_root')\n",
    "media_dir = PATH_DIR.joinpath('media')\n",
    "log_dir = PATH_DIR.joinpath('logs')\n",
    "saved_model_name= model_dir.joinpath(f'{name_model}.h5')\n",
    "\n",
    "\n",
    "ROUTING = False\n",
    "scale = 64\n",
    "patch = 48\n",
    "BATCH = 64\n",
    "res = (scale - patch)//2 \n",
    "input_shape = (patch,patch,2)\n",
    "MNIST_IMG_SIZE = patch"
   ]
  },
  {
   "cell_type": "markdown",
   "metadata": {
    "id": "cHqF42VpH0wf"
   },
   "source": [
    "# Import the Dataset"
   ]
  },
  {
   "cell_type": "code",
   "execution_count": 124,
   "metadata": {
    "ExecuteTime": {
     "end_time": "2020-12-29T18:33:33.704570Z",
     "start_time": "2020-12-29T18:32:49.740935Z"
    },
    "colab": {
     "base_uri": "https://localhost:8080/"
    },
    "executionInfo": {
     "elapsed": 1080,
     "status": "ok",
     "timestamp": 1606507412037,
     "user": {
      "displayName": "Francesco Salvetti",
      "photoUrl": "https://lh3.googleusercontent.com/a-/AOh14Gh51hhSjGpYBdTUoBi9QzXQ_ZQ71SITK1bwMzjV=s64",
      "userId": "12996531273344737864"
     },
     "user_tz": -60
    },
    "id": "edBtSa9DH0wf",
    "outputId": "21611749-b306-4e34-8e23-148a18f4584c"
   },
   "outputs": [
    {
     "name": "stderr",
     "output_type": "stream",
     "text": [
      "Loading images...: 100%|██████████| 48600/48600 [00:21<00:00, 2217.78it/s]\n",
      "Loading categories...: 100%|██████████| 24300/24300 [00:00<00:00, 2606423.57it/s]\n",
      "Loading info...: 100%|██████████| 24300/24300 [00:00<00:00, 743486.48it/s]\n",
      "Loading images...: 100%|██████████| 48600/48600 [00:21<00:00, 2227.12it/s]\n",
      "Loading categories...: 100%|██████████| 24300/24300 [00:00<00:00, 2572543.15it/s]\n",
      "Loading info...: 100%|██████████| 24300/24300 [00:00<00:00, 765740.46it/s]\n"
     ]
    }
   ],
   "source": [
    "dataset = SmallNORBDataset(dataset_root=dataset_dir)"
   ]
  },
  {
   "cell_type": "code",
   "execution_count": 125,
   "metadata": {
    "ExecuteTime": {
     "end_time": "2020-12-29T18:33:34.076383Z",
     "start_time": "2020-12-29T18:33:34.058894Z"
    }
   },
   "outputs": [],
   "source": [
    "classes = dataset.categories"
   ]
  },
  {
   "cell_type": "code",
   "execution_count": 126,
   "metadata": {
    "ExecuteTime": {
     "end_time": "2020-12-29T18:33:34.447881Z",
     "start_time": "2020-12-29T18:33:34.429071Z"
    }
   },
   "outputs": [],
   "source": [
    "def create_dataset_tensors(split):\n",
    "    X = np.empty((dataset.n_examples, 96, 96, 2))\n",
    "    y = np.empty((dataset.n_examples))\n",
    "    index = 0\n",
    "    for i in tqdm(range(dataset.n_examples)):\n",
    "        X[index,:,:,0] = dataset.data[split][i].image_lt\n",
    "        X[index,:,:,1] = dataset.data[split][i].image_rt\n",
    "        y[index] = dataset.data[split][i].category\n",
    "        index += 1\n",
    "        \n",
    "    return X, y"
   ]
  },
  {
   "cell_type": "code",
   "execution_count": 127,
   "metadata": {
    "ExecuteTime": {
     "end_time": "2020-12-29T18:33:35.540673Z",
     "start_time": "2020-12-29T18:33:34.797211Z"
    }
   },
   "outputs": [
    {
     "data": {
      "application/vnd.jupyter.widget-view+json": {
       "model_id": "3963ba9348f44d909cd28591ea6bb255",
       "version_major": 2,
       "version_minor": 0
      },
      "text/plain": [
       "HBox(children=(HTML(value=''), FloatProgress(value=0.0, max=24300.0), HTML(value='')))"
      ]
     },
     "metadata": {},
     "output_type": "display_data"
    },
    {
     "name": "stdout",
     "output_type": "stream",
     "text": [
      "\n",
      "(24300, 96, 96, 2)\n"
     ]
    }
   ],
   "source": [
    "X_train, y_train = create_dataset_tensors('train')\n",
    "print(X_train.shape)"
   ]
  },
  {
   "cell_type": "code",
   "execution_count": 128,
   "metadata": {
    "ExecuteTime": {
     "end_time": "2020-12-29T18:33:36.625009Z",
     "start_time": "2020-12-29T18:33:35.885656Z"
    }
   },
   "outputs": [
    {
     "data": {
      "application/vnd.jupyter.widget-view+json": {
       "model_id": "a6c743cbe3084a0d95ab42594c6a8d64",
       "version_major": 2,
       "version_minor": 0
      },
      "text/plain": [
       "HBox(children=(HTML(value=''), FloatProgress(value=0.0, max=24300.0), HTML(value='')))"
      ]
     },
     "metadata": {},
     "output_type": "display_data"
    },
    {
     "name": "stdout",
     "output_type": "stream",
     "text": [
      "\n",
      "(24300, 96, 96, 2)\n"
     ]
    }
   ],
   "source": [
    "X_test, y_test = create_dataset_tensors('test')\n",
    "print(X_test.shape)"
   ]
  },
  {
   "cell_type": "markdown",
   "metadata": {},
   "source": [
    "# Pre-process the dataset"
   ]
  },
  {
   "cell_type": "code",
   "execution_count": 129,
   "metadata": {
    "ExecuteTime": {
     "end_time": "2020-12-29T18:33:36.985349Z",
     "start_time": "2020-12-29T18:33:36.965117Z"
    }
   },
   "outputs": [],
   "source": [
    "def rescale(x, y):\n",
    "    with tf.device(\"/cpu:0\"):\n",
    "        x = tf.image.resize(x ,[scale,scale])\n",
    "    return x, y\n",
    "\n",
    "def random_patches(x, y):\n",
    "    return tf.image.random_crop(x, [x.shape[0],patch, patch, 2]), y\n",
    "\n",
    "def generator_output(x, y):\n",
    "    return (x, y), (y, x)\n",
    "\n",
    "def test_patches(x, y):\n",
    "    return x[:,res:-res,res:-res,:], y\n",
    "\n",
    "def preProcess(x, y):\n",
    "    x[...,0] = (x[...,0] - x[...,0].mean()) / x[...,0].std()\n",
    "    x[...,1] = (x[...,1] - x[...,1].mean()) / x[...,1].std()\n",
    "    return x, tf.one_hot(y, 5)"
   ]
  },
  {
   "cell_type": "code",
   "execution_count": 130,
   "metadata": {
    "ExecuteTime": {
     "end_time": "2020-12-29T18:33:48.751585Z",
     "start_time": "2020-12-29T18:33:37.327662Z"
    }
   },
   "outputs": [],
   "source": [
    "X_train, y_train = preProcess(X_train, y_train)\n",
    "X_train, y_train = rescale(X_train, y_train)\n",
    "X_test, y_test = preProcess(X_test, y_test)\n",
    "X_test, y_test = rescale(X_test, y_test) \n",
    "X_test_s, y_test = test_patches(X_test, y_test)"
   ]
  },
  {
   "cell_type": "code",
   "execution_count": 131,
   "metadata": {
    "ExecuteTime": {
     "end_time": "2020-12-29T18:33:49.254231Z",
     "start_time": "2020-12-29T18:33:49.235294Z"
    }
   },
   "outputs": [],
   "source": [
    "def train_generator(x, y, batch_size, gen=False, aug=False):\n",
    "    train_datagen = tf.keras.preprocessing.image.ImageDataGenerator(rotation_range=30) \n",
    "    generator = train_datagen.flow(x, y, batch_size=batch_size, shuffle=True)\n",
    "    while True:\n",
    "        X_batch, y_batch = generator.next()\n",
    "        X_batch, y_batch = random_patches(X_batch, y_batch)\n",
    "        if aug:\n",
    "            X_batch = tf.image.random_brightness(X_batch, max_delta = 2.0)\n",
    "            X_batch = tf.image.random_contrast(X_batch, lower=0.5, upper=1.5)\n",
    "        if gen:\n",
    "            yield (X_batch, y_batch), (y_batch, X_batch)\n",
    "        else:\n",
    "            yield X_batch, y_batch"
   ]
  },
  {
   "cell_type": "markdown",
   "metadata": {
    "heading_collapsed": true
   },
   "source": [
    "# Hilton's Baseline"
   ]
  },
  {
   "cell_type": "code",
   "execution_count": null,
   "metadata": {
    "hidden": true
   },
   "outputs": [],
   "source": [
    "model_baseline = tf.keras.models.Sequential([\n",
    "            tf.keras.layers.Conv2D(32, 5, activation='relu', padding='same', input_shape=(32,32,2)),\n",
    "            tf.keras.layers.MaxPooling2D(),\n",
    "            tf.keras.layers.Conv2D(64, 5, activation='relu', padding='same'),\n",
    "            tf.keras.layers.MaxPooling2D(),\n",
    "            tf.keras.layers.Flatten(),\n",
    "            tf.keras.layers.Dense(1024, activation='relu'),\n",
    "            tf.keras.layers.Dropout(0.2),\n",
    "            tf.keras.layers.Dense(5, activation='softmax')\n",
    "])"
   ]
  },
  {
   "cell_type": "code",
   "execution_count": null,
   "metadata": {
    "hidden": true
   },
   "outputs": [],
   "source": [
    "model_baseline.summary()"
   ]
  },
  {
   "cell_type": "code",
   "execution_count": null,
   "metadata": {
    "hidden": true
   },
   "outputs": [],
   "source": [
    "lr = 0.001\n",
    "lr_dec = 0.99\n",
    "epochs = 150"
   ]
  },
  {
   "cell_type": "code",
   "execution_count": null,
   "metadata": {
    "hidden": true
   },
   "outputs": [],
   "source": [
    "model_baseline.compile(optimizer=tf.keras.optimizers.Adam(lr=lr), loss=tf.keras.losses.CategoricalCrossentropy(),\n",
    "                       metrics=['accuracy'])"
   ]
  },
  {
   "cell_type": "code",
   "execution_count": null,
   "metadata": {
    "hidden": true
   },
   "outputs": [],
   "source": [
    "lr_decay = tf.keras.callbacks.LearningRateScheduler(schedule=lambda epoch: lr * (lr_dec ** epoch))"
   ]
  },
  {
   "cell_type": "code",
   "execution_count": null,
   "metadata": {
    "hidden": true
   },
   "outputs": [],
   "source": [
    "model_baseline.fit(train_generator(X_train, y_train, BATCH), \n",
    "                  validation_data=(X_test, y_test), steps_per_epoch=int(y_train.shape[0] / BATCH),\n",
    "                  epochs=epochs, callbacks=[lr_decay])"
   ]
  },
  {
   "cell_type": "code",
   "execution_count": null,
   "metadata": {
    "hidden": true
   },
   "outputs": [],
   "source": [
    "model_baseline.evaluate(X_test, y_test)"
   ]
  },
  {
   "cell_type": "markdown",
   "metadata": {
    "id": "zWHZ-D9nH0wg"
   },
   "source": [
    "# CapsNet Classes and Utils"
   ]
  },
  {
   "cell_type": "code",
   "execution_count": 91,
   "metadata": {
    "ExecuteTime": {
     "end_time": "2020-12-29T18:30:19.994908Z",
     "start_time": "2020-12-29T18:30:19.976302Z"
    },
    "executionInfo": {
     "elapsed": 820,
     "status": "ok",
     "timestamp": 1606507412887,
     "user": {
      "displayName": "Francesco Salvetti",
      "photoUrl": "https://lh3.googleusercontent.com/a-/AOh14Gh51hhSjGpYBdTUoBi9QzXQ_ZQ71SITK1bwMzjV=s64",
      "userId": "12996531273344737864"
     },
     "user_tz": -60
    },
    "id": "CMeLu_sEH0wg"
   },
   "outputs": [],
   "source": [
    "def squash_hinton(s):\n",
    "    n = tf.norm(s,axis=-1,keepdims=True)\n",
    "    return tf.multiply(n**2/(1+n**2)/(n+10e-14),s)\n",
    "\n",
    "def squash(s):\n",
    "    n = tf.norm(s,axis=-1,keepdims=True)\n",
    "    return (1 - 1/(tf.math.exp(n)+10e-21))*(s/(n+10e-21))"
   ]
  },
  {
   "cell_type": "code",
   "execution_count": 92,
   "metadata": {
    "ExecuteTime": {
     "end_time": "2020-12-29T18:30:20.361975Z",
     "start_time": "2020-12-29T18:30:20.342795Z"
    }
   },
   "outputs": [],
   "source": [
    "class PrimaryCaps(tf.keras.layers.Layer):\n",
    "    def __init__(self, F, k, C, L, **kwargs):\n",
    "        super(PrimaryCaps, self).__init__(**kwargs)\n",
    "        self.F = F\n",
    "        self.k = k\n",
    "        self.C = C\n",
    "        self.L = L\n",
    "        \n",
    "    def build(self, input_shape):    \n",
    "        self.Conv2D = tf.keras.layers.Conv2D(self.F, self.k,\n",
    "                                             activation='relu', groups=self.F, padding='valid')\n",
    "\n",
    "        self.built = True\n",
    "    \n",
    "    def call(self, inputs):\n",
    "        x = self.Conv2D(inputs)\n",
    "        \n",
    "        \n",
    "        x = tf.keras.layers.Reshape((self.C, self.L))(x)\n",
    "        x = tf.keras.layers.Lambda(squash, name='squash')(x)\n",
    "        \n",
    "        return x"
   ]
  },
  {
   "cell_type": "code",
   "execution_count": 93,
   "metadata": {
    "ExecuteTime": {
     "end_time": "2020-12-29T18:30:20.732921Z",
     "start_time": "2020-12-29T18:30:20.709989Z"
    },
    "executionInfo": {
     "elapsed": 695,
     "status": "ok",
     "timestamp": 1606507560755,
     "user": {
      "displayName": "Francesco Salvetti",
      "photoUrl": "https://lh3.googleusercontent.com/a-/AOh14Gh51hhSjGpYBdTUoBi9QzXQ_ZQ71SITK1bwMzjV=s64",
      "userId": "12996531273344737864"
     },
     "user_tz": -60
    },
    "id": "tQpBX-4-H0wh"
   },
   "outputs": [],
   "source": [
    "class DigitCaps(tf.keras.layers.Layer):\n",
    "    def __init__(self,C,L,routing=None,kernel_initializer='he_normal',**kwargs):\n",
    "        super(DigitCaps, self).__init__(**kwargs)\n",
    "        self.C = C\n",
    "        self.L = L\n",
    "        self.routing = routing\n",
    "        self.kernel_initializer = tf.keras.initializers.get(kernel_initializer)\n",
    "        \n",
    "    def build(self, input_shape):\n",
    "        input_C = input_shape[-2]\n",
    "        input_L = input_shape[-1]\n",
    "\n",
    "        self.W = self.add_weight(shape=[self.C,input_C,input_L,self.L],initializer=self.kernel_initializer,name='W')\n",
    "        self.b = self.add_weight(shape=[self.C,input_C,1], initializer=tf.zeros_initializer(), name='b')\n",
    "        self.built = True\n",
    "    \n",
    "    def call(self, inputs, training=None):\n",
    "        \n",
    "        u = tf.einsum('...ji,kjiz->...kjz',inputs,self.W)    # u shape=(None,C,H*W*input_C,L)\n",
    "        \n",
    "        if self.routing is not None: #Hinton's routing\n",
    "            \n",
    "            c = tf.identity(self.b)       # b shape=(None,C,H*W*input_C,1) -> (None,j,i,1)\n",
    "            assert self.routing > 0, 'The routings should be > 0.'\n",
    "            for r in range(self.routing):\n",
    "                c = tf.nn.softmax(c,axis=1)                                # c shape=(None,C,H*W*input_C,1) -> (None,j,i,1)\n",
    "                s = tf.reduce_sum(tf.multiply(u,c),axis=-2,keepdims=True)  # s shape=(None,C,1,L)\n",
    "                v = squash(s)\n",
    "                if r<self.routing:\n",
    "                    c += tf.reduce_sum(tf.multiply(u,v),axis=-1,keepdims=True)\n",
    "            v = v[...,0,:]      # v shape=(None,C,L)\n",
    "        else: #ours routing\n",
    "            c = tf.einsum('...ij,...kj->...i',u,u)[...,None]        # b shape=(None,C,H*W*input_C,1) -> (None,j,i,1)\n",
    "            c = c/tf.sqrt(tf.cast(self.L, tf.float32))\n",
    "            c = tf.nn.softmax(c,axis=1)                             # c shape=(None,C,H*W*input_C,1) -> (None,j,i,1)\n",
    "            c = c + self.b\n",
    "            s = tf.reduce_sum(tf.multiply(u,c),axis=-2)             # s shape=(None,C,L)\n",
    "            v = squash(s)       # v shape=(None,C,L)\n",
    "        return v\n",
    "\n",
    "    def compute_output_shape(self, input_shape):\n",
    "        return (None, self.C, self.L)\n",
    "\n",
    "    def get_config(self):\n",
    "        config = {\n",
    "            'C': self.C,\n",
    "            'L': self.L,\n",
    "            'routing': self.routing\n",
    "        }\n",
    "        base_config = super(DigitCaps, self).get_config()\n",
    "        return dict(list(base_config.items()) + list(config.items()))"
   ]
  },
  {
   "cell_type": "code",
   "execution_count": 94,
   "metadata": {
    "ExecuteTime": {
     "end_time": "2020-12-29T18:30:21.096379Z",
     "start_time": "2020-12-29T18:30:21.077930Z"
    }
   },
   "outputs": [],
   "source": [
    "class Length(tf.keras.layers.Layer):\n",
    "    \"\"\"\n",
    "    Compute the length of vectors. This is used to compute a Tensor that has the same shape with y_true in margin_loss.\n",
    "    Using this layer as model's output can directly predict labels by using `y_pred = np.argmax(model.predict(x), 1)`\n",
    "    inputs: shape=[None, num_vectors, dim_vector]\n",
    "    output: shape=[None, num_vectors]\n",
    "    \"\"\"\n",
    "    def call(self, inputs, **kwargs):\n",
    "        return tf.sqrt(tf.reduce_sum(tf.square(inputs), -1) + tf.keras.backend.epsilon())\n",
    "\n",
    "    def compute_output_shape(self, input_shape):\n",
    "        return input_shape[:-1]\n",
    "\n",
    "    def get_config(self):\n",
    "        config = super(Length, self).get_config()\n",
    "        return config"
   ]
  },
  {
   "cell_type": "code",
   "execution_count": 95,
   "metadata": {
    "ExecuteTime": {
     "end_time": "2020-12-29T18:30:21.461475Z",
     "start_time": "2020-12-29T18:30:21.441613Z"
    }
   },
   "outputs": [],
   "source": [
    "def combine_images(generated_images, height=None, width=None):\n",
    "    num = generated_images.shape[0]\n",
    "    if width is None and height is None:\n",
    "        width = int(math.sqrt(num))\n",
    "        height = int(math.ceil(float(num)/width))\n",
    "    elif width is not None and height is None:  # height not given\n",
    "        height = int(math.ceil(float(num)/width))\n",
    "    elif height is not None and width is None:  # width not given\n",
    "        width = int(math.ceil(float(num)/height))\n",
    "\n",
    "    shape = generated_images.shape[1:3]\n",
    "    image = np.zeros((height*shape[0], width*shape[1]),\n",
    "                     dtype=generated_images.dtype)\n",
    "    for index, img in enumerate(generated_images):\n",
    "        i = int(index/width)\n",
    "        j = index % width\n",
    "        image[i*shape[0]:(i+1)*shape[0], j*shape[1]:(j+1)*shape[1]] = \\\n",
    "            img[:, :, 0]\n",
    "    return image"
   ]
  },
  {
   "cell_type": "code",
   "execution_count": 96,
   "metadata": {
    "ExecuteTime": {
     "end_time": "2020-12-29T18:30:21.838916Z",
     "start_time": "2020-12-29T18:30:21.820214Z"
    }
   },
   "outputs": [],
   "source": [
    "def marginLoss(y_true, y_pred):\n",
    "    \n",
    "    lbd = 0.5\n",
    "    m_plus = 0.9\n",
    "    m_minus = 0.1\n",
    "    \n",
    "    L = y_true * tf.square(tf.maximum(0., m_plus - y_pred)) + \\\n",
    "    lbd * (1 - y_true) * tf.square(tf.maximum(0., y_pred - m_minus))\n",
    "\n",
    "    return tf.reduce_mean(tf.reduce_sum(L, axis=1))"
   ]
  },
  {
   "cell_type": "code",
   "execution_count": 97,
   "metadata": {
    "ExecuteTime": {
     "end_time": "2020-12-29T18:30:21.859145Z",
     "start_time": "2020-12-29T18:30:21.839927Z"
    }
   },
   "outputs": [],
   "source": [
    "def spreadLoss(m):\n",
    "    def loss(y_true, y_pred):\n",
    "        num_class = 5\n",
    "\n",
    "        # spread loss\n",
    "        y_pred = tf.reshape(y_pred, shape=[BATCH, 1, num_class])\n",
    "        y_true = tf.expand_dims(y_true, axis=2)\n",
    "        at = tf.matmul(y_pred, y_true)\n",
    "        loss = tf.square(tf.maximum(0., m - (at - y_pred)))\n",
    "        loss = tf.matmul(loss, 1. - y_true)\n",
    "        loss = tf.reduce_mean(loss)\n",
    "        return loss"
   ]
  },
  {
   "cell_type": "markdown",
   "metadata": {
    "heading_collapsed": true
   },
   "source": [
    "# CapsNettt without Generator"
   ]
  },
  {
   "cell_type": "code",
   "execution_count": 98,
   "metadata": {
    "ExecuteTime": {
     "end_time": "2020-12-29T18:30:22.594667Z",
     "start_time": "2020-12-29T18:30:22.576191Z"
    },
    "hidden": true
   },
   "outputs": [],
   "source": [
    "def print_lr():\n",
    "    y = []\n",
    "    for epoch in range(epochs):\n",
    "        y.append(lr * (lr_dec ** epoch))\n",
    "        \n",
    "    plt.plot(range(epochs), y)"
   ]
  },
  {
   "cell_type": "code",
   "execution_count": null,
   "metadata": {
    "ExecuteTime": {
     "end_time": "2020-12-10T10:21:22.890922Z",
     "start_time": "2020-12-10T10:21:07.732Z"
    },
    "hidden": true
   },
   "outputs": [],
   "source": [
    "#decay_steps=2000\n",
    "lr = 0.001\n",
    "lr_dec = 0.98\n",
    "epochs = 150\n",
    "batch_size = 32\n",
    "version = '_v0'\n",
    "log_save_dir = log_dir.joinpath(name_model + '_' + version)"
   ]
  },
  {
   "cell_type": "code",
   "execution_count": null,
   "metadata": {
    "ExecuteTime": {
     "end_time": "2020-12-10T10:21:22.892168Z",
     "start_time": "2020-12-10T10:21:10.103Z"
    },
    "hidden": true
   },
   "outputs": [],
   "source": [
    "print_lr()"
   ]
  },
  {
   "cell_type": "code",
   "execution_count": null,
   "metadata": {
    "hidden": true
   },
   "outputs": [],
   "source": [
    "def CapsNet():\n",
    "    inputs = tf.keras.Input(input_shape)\n",
    "    \n",
    "    x = tf.keras.layers.Conv2D(32,7,activation=None, padding='valid')(inputs)\n",
    "    x = tf.keras.layers.LeakyReLU()(x)\n",
    "    x = tf.keras.layers.Conv2D(64,3, activation=None, padding='valid')(x)\n",
    "    x = tf.keras.layers.LeakyReLU()(x)\n",
    "    x = tf.keras.layers.Conv2D(64,3, activation=None, padding='valid')(x) \n",
    "    x = tf.keras.layers.LeakyReLU()(x)\n",
    "    x = tf.keras.layers.Conv2D(128,3,2, activation=None, padding='valid')(x)   \n",
    "    x = tf.keras.layers.LeakyReLU()(x)\n",
    "    x = tf.keras.layers.Conv2D(128,10, activation='linear', groups=128, padding='valid')(x)\n",
    "    x = tf.keras.layers.Reshape((16,8))(x)\n",
    "    digit_caps = DigitCaps(5,8, routing=3)(x)\n",
    "    \n",
    "    \n",
    "    digit_caps_len = Length(name='micro_capsnet_output')(digit_caps)\n",
    "\n",
    "    return tf.keras.Model(inputs=inputs,outputs=digit_caps_len, name='CapsNet')"
   ]
  },
  {
   "cell_type": "code",
   "execution_count": null,
   "metadata": {
    "hidden": true
   },
   "outputs": [],
   "source": [
    "model_train = CapsNet()\n",
    "model_train.summary()"
   ]
  },
  {
   "cell_type": "code",
   "execution_count": null,
   "metadata": {
    "hidden": true
   },
   "outputs": [],
   "source": [
    "model_train.compile(optimizer=tf.keras.optimizers.RMSprop(learning_rate=lr),\n",
    "              loss=marginLoss,\n",
    "              metrics=['accuracy'])\n",
    "\n",
    "checkpoint = tf.keras.callbacks.ModelCheckpoint(saved_model_name, monitor='val_CapsNet_accuracy',\n",
    "                                           save_best_only=True, save_weights_only=True, verbose=1)\n",
    "\n",
    "lr_decay = tf.keras.callbacks.LearningRateScheduler(schedule=lambda epoch: lr * (lr_dec ** epoch))"
   ]
  },
  {
   "cell_type": "code",
   "execution_count": null,
   "metadata": {
    "hidden": true
   },
   "outputs": [],
   "source": [
    "model_train.fit(train_generator(X_train, y_train, batch_size, gen=False, aug=False),\n",
    "          steps_per_epoch=int(y_train.shape[0] / batch_size),\n",
    "          epochs=epochs, validation_data=(X_test, y_test), batch_size=batch_size, initial_epoch=0,\n",
    "          callbacks=[lr_decay])"
   ]
  },
  {
   "cell_type": "code",
   "execution_count": null,
   "metadata": {
    "hidden": true
   },
   "outputs": [],
   "source": [
    "y_pred = model_train.predict(X_test)"
   ]
  },
  {
   "cell_type": "code",
   "execution_count": null,
   "metadata": {
    "hidden": true
   },
   "outputs": [],
   "source": [
    "print('-'*30 + 'smnallNorb test set' + '-'*30)\n",
    "acc = np.sum(np.argmax(y_pred, 1) == np.argmax(y_test, 1))/y_test.shape[0]\n",
    "print('Test acc:', acc)\n",
    "print(f\"Test error %: {(1 - acc)*100:.4f}\")\n"
   ]
  },
  {
   "cell_type": "markdown",
   "metadata": {},
   "source": [
    "# CapsNet with Generator"
   ]
  },
  {
   "cell_type": "code",
   "execution_count": 99,
   "metadata": {
    "ExecuteTime": {
     "end_time": "2020-12-29T18:30:23.062880Z",
     "start_time": "2020-12-29T18:30:23.043136Z"
    }
   },
   "outputs": [],
   "source": [
    "class Mask(tf.keras.layers.Layer):\n",
    "    \"\"\"\n",
    "    Mask a Tensor with shape=[None, num_capsule, dim_vector] either by the capsule with max length or by an additional \n",
    "    input mask. Except the max-length capsule (or specified capsule), all vectors are masked to zeros. Then flatten the\n",
    "    masked Tensor.\n",
    "    For example:\n",
    "        ```\n",
    "        x = keras.layers.Input(shape=[8, 3, 2])  # batch_size=8, each sample contains 3 capsules with dim_vector=2\n",
    "        y = keras.layers.Input(shape=[8, 3])  # True labels. 8 samples, 3 classes, one-hot coding.\n",
    "        out = Mask()(x)  # out.shape=[8, 6]\n",
    "        # or\n",
    "        out2 = Mask()([x, y])  # out2.shape=[8,6]. Masked with true labels y. Of course y can also be manipulated.\n",
    "        ```\n",
    "    \"\"\"\n",
    "    def call(self, inputs, **kwargs):\n",
    "        if type(inputs) is list:  # true label is provided with shape = [None, n_classes], i.e. one-hot code.\n",
    "            assert len(inputs) == 2\n",
    "            inputs, mask = inputs\n",
    "        else:  # if no true label, mask by the max length of capsules. Mainly used for prediction\n",
    "            # compute lengths of capsules\n",
    "            x = tf.sqrt(tf.reduce_sum(tf.square(inputs), -1))\n",
    "            # generate the mask which is a one-hot code.\n",
    "            # mask.shape=[None, n_classes]=[None, num_capsule]\n",
    "            mask = tf.keras.backend.one_hot(indices=tf.argmax(x, 1), num_classes=x.get_shape().as_list()[1])\n",
    "\n",
    "        # inputs.shape=[None, num_capsule, dim_capsule]\n",
    "        # mask.shape=[None, num_capsule]\n",
    "        # masked.shape=[None, num_capsule * dim_capsule]\n",
    "        masked = tf.keras.backend.batch_flatten(inputs * tf.expand_dims(mask, -1))\n",
    "        return masked\n",
    "\n",
    "    def compute_output_shape(self, input_shape):\n",
    "        if type(input_shape[0]) is tuple:  # true label provided\n",
    "            return tuple([None, input_shape[0][1] * input_shape[0][2]])\n",
    "        else:  # no true label provided\n",
    "            return tuple([None, input_shape[1] * input_shape[2]])\n",
    "\n",
    "    def get_config(self):\n",
    "        config = super(Mask, self).get_config()\n",
    "        return config"
   ]
  },
  {
   "cell_type": "code",
   "execution_count": 152,
   "metadata": {
    "ExecuteTime": {
     "end_time": "2020-12-29T18:37:20.418160Z",
     "start_time": "2020-12-29T18:37:20.367693Z"
    }
   },
   "outputs": [],
   "source": [
    "def Generator2D():\n",
    "    inputs = tf.keras.Input(16*5)\n",
    "    x = tf.keras.layers.Dense(64)(inputs)\n",
    "    x = tf.keras.layers.Reshape(target_shape=(8,8,1))(x)\n",
    "    x = tf.keras.layers.UpSampling2D(size=(2,2), interpolation='bilinear')(x)\n",
    "    x = tf.keras.layers.Conv2D(filters=64, kernel_size=(3,3), padding=\"valid\", activation=tf.nn.leaky_relu)(x)\n",
    "    x = tf.keras.layers.UpSampling2D(size=(2,2), interpolation='bilinear')(x)\n",
    "    x = tf.keras.layers.Conv2D(filters=128, kernel_size=(3,3), padding=\"valid\", activation=tf.nn.leaky_relu)(x)\n",
    "    x = tf.keras.layers.UpSampling2D(size=(2,2), interpolation='bilinear')(x)\n",
    "    x = tf.keras.layers.Conv2D(filters=128, kernel_size=(3,3), padding=\"valid\", activation=tf.nn.leaky_relu)(x)\n",
    "    x = tf.keras.layers.Conv2D(filters=2, kernel_size=(3,3), padding=\"valid\", activation=tf.nn.sigmoid)   (x)         \n",
    "    \n",
    "    return tf.keras.Model(inputs=inputs, outputs=x, name='Generator')"
   ]
  },
  {
   "cell_type": "code",
   "execution_count": 101,
   "metadata": {
    "ExecuteTime": {
     "end_time": "2020-12-29T18:30:23.803780Z",
     "start_time": "2020-12-29T18:30:23.785366Z"
    }
   },
   "outputs": [],
   "source": [
    "def Generator():\n",
    "    inputs = tf.keras.Input(16*5)\n",
    "    \n",
    "    x = tf.keras.layers.Dense(512, activation='relu')(inputs)\n",
    "    x = tf.keras.layers.Dense(1024, activation='relu')(x)\n",
    "    x = tf.keras.layers.Dense(np.prod(input_shape), activation='sigmoid')(x)\n",
    "    x = tf.keras.layers.Reshape(target_shape=input_shape, name='out_generator')(x)\n",
    "    \n",
    "    return tf.keras.Model(inputs=inputs, outputs=x, name='Generator')"
   ]
  },
  {
   "cell_type": "code",
   "execution_count": 136,
   "metadata": {
    "ExecuteTime": {
     "end_time": "2020-12-29T18:34:05.685602Z",
     "start_time": "2020-12-29T18:34:05.664012Z"
    }
   },
   "outputs": [],
   "source": [
    "def CapsNet():\n",
    "    inputs = tf.keras.Input(input_shape)\n",
    "    \n",
    "    x = tf.keras.layers.Conv2D(32,7,2,activation=None, padding='valid', kernel_initializer='he_normal')(inputs)\n",
    "    x = tf.keras.layers.LeakyReLU()(x)\n",
    "    x =   tfa.layers.InstanceNormalization(axis=3, \n",
    "                                   center=True, \n",
    "                                   scale=True,\n",
    "                                   beta_initializer=\"random_uniform\",\n",
    "                                   gamma_initializer=\"random_uniform\")(x)\n",
    "    x = tf.keras.layers.Conv2D(64,3, activation=None, padding='valid', kernel_initializer='he_normal')(x)\n",
    "    x = tf.keras.layers.LeakyReLU()(x)\n",
    "    x =   tfa.layers.InstanceNormalization(axis=3, \n",
    "                                   center=True, \n",
    "                                   scale=True,\n",
    "                                   beta_initializer=\"random_uniform\",\n",
    "                                   gamma_initializer=\"random_uniform\")(x)\n",
    "    x = tf.keras.layers.Conv2D(64,3, activation=None, padding='valid', kernel_initializer='he_normal')(x) \n",
    "    x = tf.keras.layers.LeakyReLU()(x)\n",
    "    x =   tfa.layers.InstanceNormalization(axis=3, \n",
    "                                   center=True, \n",
    "                                   scale=True,\n",
    "                                   beta_initializer=\"random_uniform\",\n",
    "                                   gamma_initializer=\"random_uniform\")(x)\n",
    "    x = tf.keras.layers.Conv2D(128,3,2, activation=None, padding='valid', kernel_initializer='he_normal')(x)   \n",
    "    x = tf.keras.layers.LeakyReLU()(x)\n",
    "    x =   tfa.layers.InstanceNormalization(axis=3, \n",
    "                                   center=True, \n",
    "                                   scale=True,\n",
    "                                   beta_initializer=\"random_uniform\",\n",
    "                                   gamma_initializer=\"random_uniform\")(x)\n",
    "    x = tf.keras.layers.Conv2D(128,8, activation='linear', groups=64, padding='valid')(x)\n",
    "    x = tf.keras.layers.Reshape((16,8))(x)\n",
    "    x = tf.keras.layers.Lambda(squash, name='squash')(x)\n",
    "    digit_caps = DigitCaps(5,16)(x)\n",
    "    \n",
    "    digit_caps_len = Length(name='efficient_capsnet_output')(digit_caps)\n",
    "\n",
    "    return tf.keras.Model(inputs=inputs,outputs=[digit_caps,digit_caps_len], name='CapsNet')"
   ]
  },
  {
   "cell_type": "code",
   "execution_count": 137,
   "metadata": {
    "ExecuteTime": {
     "end_time": "2020-12-29T18:34:06.145272Z",
     "start_time": "2020-12-29T18:34:06.126482Z"
    }
   },
   "outputs": [],
   "source": [
    "def Model(generator):\n",
    "    inputs = tf.keras.Input(input_shape)\n",
    "    y_true = tf.keras.layers.Input(shape=(5,))\n",
    "    \n",
    "    \n",
    "    # create capsNet\n",
    "    capsnet = CapsNet()\n",
    "    capsnet.summary()\n",
    "    \n",
    "    digit_caps, digit_caps_len = capsnet(inputs)\n",
    "    \n",
    "    masked_by_y = Mask()([digit_caps, y_true])  # The true label is used to mask the output of capsule layer. For training\n",
    "    masked = Mask()(digit_caps)  # Mask using the capsule with maximal length. For prediction\n",
    "    \n",
    "    x_rec_train = generator(masked_by_y)\n",
    "    x_rec_eval = generator(masked)\n",
    "    \n",
    "    return tf.keras.models.Model([inputs, y_true], [digit_caps_len, x_rec_train]), tf.keras.models.Model([inputs, y_true], [digit_caps_len, x_rec_eval])"
   ]
  },
  {
   "cell_type": "code",
   "execution_count": 153,
   "metadata": {
    "ExecuteTime": {
     "end_time": "2020-12-29T18:37:23.019583Z",
     "start_time": "2020-12-29T18:37:22.676919Z"
    }
   },
   "outputs": [
    {
     "name": "stdout",
     "output_type": "stream",
     "text": [
      "Model: \"CapsNet\"\n",
      "_________________________________________________________________\n",
      "Layer (type)                 Output Shape              Param #   \n",
      "=================================================================\n",
      "input_80 (InputLayer)        [(None, 48, 48, 2)]       0         \n",
      "_________________________________________________________________\n",
      "conv2d_118 (Conv2D)          (None, 21, 21, 32)        3168      \n",
      "_________________________________________________________________\n",
      "leaky_re_lu_82 (LeakyReLU)   (None, 21, 21, 32)        0         \n",
      "_________________________________________________________________\n",
      "instance_normalization_82 (I (None, 21, 21, 32)        64        \n",
      "_________________________________________________________________\n",
      "conv2d_119 (Conv2D)          (None, 19, 19, 64)        18496     \n",
      "_________________________________________________________________\n",
      "leaky_re_lu_83 (LeakyReLU)   (None, 19, 19, 64)        0         \n",
      "_________________________________________________________________\n",
      "instance_normalization_83 (I (None, 19, 19, 64)        128       \n",
      "_________________________________________________________________\n",
      "conv2d_120 (Conv2D)          (None, 17, 17, 64)        36928     \n",
      "_________________________________________________________________\n",
      "leaky_re_lu_84 (LeakyReLU)   (None, 17, 17, 64)        0         \n",
      "_________________________________________________________________\n",
      "instance_normalization_84 (I (None, 17, 17, 64)        128       \n",
      "_________________________________________________________________\n",
      "conv2d_121 (Conv2D)          (None, 8, 8, 128)         73856     \n",
      "_________________________________________________________________\n",
      "leaky_re_lu_85 (LeakyReLU)   (None, 8, 8, 128)         0         \n",
      "_________________________________________________________________\n",
      "instance_normalization_85 (I (None, 8, 8, 128)         256       \n",
      "_________________________________________________________________\n",
      "conv2d_122 (Conv2D)          (None, 1, 1, 128)         16512     \n",
      "_________________________________________________________________\n",
      "reshape_20 (Reshape)         (None, 16, 8)             0         \n",
      "_________________________________________________________________\n",
      "squash (Lambda)              (None, 16, 8)             0         \n",
      "_________________________________________________________________\n",
      "digit_caps_12 (DigitCaps)    (None, 5, 16)             10320     \n",
      "_________________________________________________________________\n",
      "efficient_capsnet_output (Le (None, 5)                 0         \n",
      "=================================================================\n",
      "Total params: 159,856\n",
      "Trainable params: 159,856\n",
      "Non-trainable params: 0\n",
      "_________________________________________________________________\n",
      "Model: \"functional_49\"\n",
      "__________________________________________________________________________________________________\n",
      "Layer (type)                    Output Shape         Param #     Connected to                     \n",
      "==================================================================================================\n",
      "input_78 (InputLayer)           [(None, 48, 48, 2)]  0                                            \n",
      "__________________________________________________________________________________________________\n",
      "CapsNet (Functional)            [(None, 5, 16), (Non 159856      input_78[0][0]                   \n",
      "__________________________________________________________________________________________________\n",
      "input_79 (InputLayer)           [(None, 5)]          0                                            \n",
      "__________________________________________________________________________________________________\n",
      "mask_24 (Mask)                  (None, 80)           0           CapsNet[0][0]                    \n",
      "                                                                 input_79[0][0]                   \n",
      "__________________________________________________________________________________________________\n",
      "Generator (Functional)          (None, 48, 48, 2)    229570      mask_24[0][0]                    \n",
      "==================================================================================================\n",
      "Total params: 389,426\n",
      "Trainable params: 389,426\n",
      "Non-trainable params: 0\n",
      "__________________________________________________________________________________________________\n"
     ]
    }
   ],
   "source": [
    "model_train, model_eval = Model(Generator2D())\n",
    "model_train.summary()"
   ]
  },
  {
   "cell_type": "markdown",
   "metadata": {},
   "source": [
    "## Train Networks"
   ]
  },
  {
   "cell_type": "code",
   "execution_count": 154,
   "metadata": {
    "ExecuteTime": {
     "end_time": "2020-12-29T18:37:25.432069Z",
     "start_time": "2020-12-29T18:37:25.413763Z"
    }
   },
   "outputs": [],
   "source": [
    "def print_lr():\n",
    "    y = []\n",
    "    for epoch in range(epochs):\n",
    "        y.append(lr * (lr_dec ** epoch))\n",
    "        \n",
    "    plt.plot(range(epochs), y)"
   ]
  },
  {
   "cell_type": "code",
   "execution_count": 155,
   "metadata": {
    "ExecuteTime": {
     "end_time": "2020-12-29T18:37:25.854204Z",
     "start_time": "2020-12-29T18:37:25.836675Z"
    }
   },
   "outputs": [],
   "source": [
    "#decay_steps=2000\n",
    "lr = 5e-4\n",
    "lr_dec = 0.992\n",
    "epochs = 200\n",
    "lam_recon = 0.392\n",
    "batch_size = 16\n",
    "version = '_v0'\n",
    "log_save_dir = log_dir.joinpath(name_model + '_' + version)"
   ]
  },
  {
   "cell_type": "code",
   "execution_count": 156,
   "metadata": {
    "ExecuteTime": {
     "end_time": "2020-12-29T18:37:26.304824Z",
     "start_time": "2020-12-29T18:37:26.199708Z"
    }
   },
   "outputs": [
    {
     "data": {
      "image/png": "[encoded data removed]",
      "text/plain": [
       "<Figure size 432x288 with 1 Axes>"
      ]
     },
     "metadata": {
      "needs_background": "light"
     },
     "output_type": "display_data"
    }
   ],
   "source": [
    "print_lr()"
   ]
  },
  {
   "cell_type": "code",
   "execution_count": 157,
   "metadata": {
    "ExecuteTime": {
     "end_time": "2020-12-29T18:37:26.668483Z",
     "start_time": "2020-12-29T18:37:26.650827Z"
    }
   },
   "outputs": [],
   "source": [
    "class changeMLoss(tf.keras.callbacks.Callback):\n",
    "    def on_epoch_begin(self, epoch, logs):\n",
    "        self.model.loss=[spreadLoss(0.4 + 0.9/epochs*epoch), 'mse']\n",
    "        \n",
    "m = 0.4"
   ]
  },
  {
   "cell_type": "code",
   "execution_count": 158,
   "metadata": {
    "ExecuteTime": {
     "end_time": "2020-12-29T18:37:27.037874Z",
     "start_time": "2020-12-29T18:37:27.012897Z"
    }
   },
   "outputs": [],
   "source": [
    "# compile the model\n",
    "model_train.compile(optimizer=tf.keras.optimizers.RMSprop(learning_rate=lr),\n",
    "              loss=[marginLoss, 'mse'],\n",
    "              loss_weights=[1., lam_recon],\n",
    "              metrics={'CapsNet': 'accuracy'})\n",
    "\n",
    "tb = tf.keras.callbacks.TensorBoard(log_dir=log_save_dir, histogram_freq=0)\n",
    "\n",
    "checkpoint = tf.keras.callbacks.ModelCheckpoint(saved_model_name, monitor='val_CapsNet_accuracy',\n",
    "                                           save_best_only=True, save_weights_only=True, verbose=1)\n",
    "\n",
    "\n",
    "lr_decay = tf.keras.callbacks.LearningRateScheduler(schedule=lambda epoch: lr * (lr_dec ** epoch))"
   ]
  },
  {
   "cell_type": "code",
   "execution_count": 159,
   "metadata": {
    "ExecuteTime": {
     "end_time": "2020-12-29T19:48:26.081532Z",
     "start_time": "2020-12-29T18:37:27.384636Z"
    },
    "scrolled": true
   },
   "outputs": [
    {
     "name": "stdout",
     "output_type": "stream",
     "text": [
      "Epoch 1/200\n",
      "   2/1518 [..............................] - ETA: 3:19 - loss: 1.6738 - CapsNet_loss: 0.7998 - Generator_loss: 2.2295 - CapsNet_accuracy: 0.3438WARNING:tensorflow:Callbacks method `on_train_batch_end` is slow compared to the batch time (batch time: 0.0083s vs `on_train_batch_end` time: 0.2542s). Check your callbacks.\n",
      "1518/1518 [==============================] - ETA: 0s - loss: 1.2217 - CapsNet_loss: 0.2410 - Generator_loss: 2.5018 - CapsNet_accuracy: 0.6460\n",
      "Epoch 00001: val_CapsNet_accuracy improved from -inf to 0.87329, saving model to /home/vitto/Documents/HyperCapsuleNet/bin/efficient_capsnet_smallNorrb.h5\n",
      "1518/1518 [==============================] - 22s 14ms/step - loss: 1.2217 - CapsNet_loss: 0.2410 - Generator_loss: 2.5018 - CapsNet_accuracy: 0.6460 - val_loss: 0.5563 - val_CapsNet_loss: 0.1102 - val_Generator_loss: 1.1382 - val_CapsNet_accuracy: 0.8733\n",
      "Epoch 2/200\n",
      "1514/1518 [============================>.] - ETA: 0s - loss: 1.0069 - CapsNet_loss: 0.1133 - Generator_loss: 2.2798 - CapsNet_accuracy: 0.8663\n",
      "Epoch 00002: val_CapsNet_accuracy improved from 0.87329 to 0.89078, saving model to /home/vitto/Documents/HyperCapsuleNet/bin/efficient_capsnet_smallNorrb.h5\n",
      "1518/1518 [==============================] - 21s 14ms/step - loss: 1.0061 - CapsNet_loss: 0.1132 - Generator_loss: 2.2778 - CapsNet_accuracy: 0.8663 - val_loss: 0.5182 - val_CapsNet_loss: 0.0923 - val_Generator_loss: 1.0863 - val_CapsNet_accuracy: 0.8908\n",
      "Epoch 3/200\n",
      "1516/1518 [============================>.] - ETA: 0s - loss: 0.8296 - CapsNet_loss: 0.0734 - Generator_loss: 1.9290 - CapsNet_accuracy: 0.9156\n",
      "Epoch 00003: val_CapsNet_accuracy improved from 0.89078 to 0.92815, saving model to /home/vitto/Documents/HyperCapsuleNet/bin/efficient_capsnet_smallNorrb.h5\n",
      "1518/1518 [==============================] - 21s 14ms/step - loss: 0.8292 - CapsNet_loss: 0.0734 - Generator_loss: 1.9282 - CapsNet_accuracy: 0.9157 - val_loss: 0.4500 - val_CapsNet_loss: 0.0573 - val_Generator_loss: 1.0017 - val_CapsNet_accuracy: 0.9281\n",
      "Epoch 4/200\n",
      "1514/1518 [============================>.] - ETA: 0s - loss: 0.8138 - CapsNet_loss: 0.0540 - Generator_loss: 1.9384 - CapsNet_accuracy: 0.9336\n",
      "Epoch 00004: val_CapsNet_accuracy improved from 0.92815 to 0.95420, saving model to /home/vitto/Documents/HyperCapsuleNet/bin/efficient_capsnet_smallNorrb.h5\n",
      "1518/1518 [==============================] - 21s 14ms/step - loss: 0.8137 - CapsNet_loss: 0.0539 - Generator_loss: 1.9384 - CapsNet_accuracy: 0.9337 - val_loss: 0.4335 - val_CapsNet_loss: 0.0386 - val_Generator_loss: 1.0073 - val_CapsNet_accuracy: 0.9542\n",
      "Epoch 5/200\n",
      "1514/1518 [============================>.] - ETA: 0s - loss: 0.7671 - CapsNet_loss: 0.0415 - Generator_loss: 1.8511 - CapsNet_accuracy: 0.9493\n",
      "Epoch 00005: val_CapsNet_accuracy did not improve from 0.95420\n",
      "1518/1518 [==============================] - 21s 14ms/step - loss: 0.7668 - CapsNet_loss: 0.0415 - Generator_loss: 1.8503 - CapsNet_accuracy: 0.9494 - val_loss: 0.4286 - val_CapsNet_loss: 0.0472 - val_Generator_loss: 0.9729 - val_CapsNet_accuracy: 0.9396\n",
      "Epoch 6/200\n",
      "1514/1518 [============================>.] - ETA: 0s - loss: 0.7666 - CapsNet_loss: 0.0323 - Generator_loss: 1.8732 - CapsNet_accuracy: 0.9622\n",
      "Epoch 00006: val_CapsNet_accuracy did not improve from 0.95420\n",
      "1518/1518 [==============================] - 21s 14ms/step - loss: 0.7685 - CapsNet_loss: 0.0324 - Generator_loss: 1.8778 - CapsNet_accuracy: 0.9622 - val_loss: 0.4450 - val_CapsNet_loss: 0.0633 - val_Generator_loss: 0.9736 - val_CapsNet_accuracy: 0.9118\n",
      "Epoch 7/200\n",
      "1517/1518 [============================>.] - ETA: 0s - loss: 0.7453 - CapsNet_loss: 0.0278 - Generator_loss: 1.8304 - CapsNet_accuracy: 0.9676\n",
      "Epoch 00007: val_CapsNet_accuracy did not improve from 0.95420\n",
      "1518/1518 [==============================] - 21s 14ms/step - loss: 0.7452 - CapsNet_loss: 0.0278 - Generator_loss: 1.8303 - CapsNet_accuracy: 0.9676 - val_loss: 0.4119 - val_CapsNet_loss: 0.0416 - val_Generator_loss: 0.9447 - val_CapsNet_accuracy: 0.9441\n",
      "Epoch 8/200\n",
      "1516/1518 [============================>.] - ETA: 0s - loss: 0.7434 - CapsNet_loss: 0.0239 - Generator_loss: 1.8353 - CapsNet_accuracy: 0.9720\n",
      "Epoch 00008: val_CapsNet_accuracy did not improve from 0.95420\n",
      "1518/1518 [==============================] - 21s 14ms/step - loss: 0.7436 - CapsNet_loss: 0.0240 - Generator_loss: 1.8360 - CapsNet_accuracy: 0.9720 - val_loss: 0.4048 - val_CapsNet_loss: 0.0401 - val_Generator_loss: 0.9305 - val_CapsNet_accuracy: 0.9460\n",
      "Epoch 9/200\n",
      "1517/1518 [============================>.] - ETA: 0s - loss: 0.7378 - CapsNet_loss: 0.0203 - Generator_loss: 1.8303 - CapsNet_accuracy: 0.9755\n",
      "Epoch 00009: val_CapsNet_accuracy improved from 0.95420 to 0.96708, saving model to /home/vitto/Documents/HyperCapsuleNet/bin/efficient_capsnet_smallNorrb.h5\n",
      "1518/1518 [==============================] - 21s 14ms/step - loss: 0.7381 - CapsNet_loss: 0.0203 - Generator_loss: 1.8312 - CapsNet_accuracy: 0.9755 - val_loss: 0.3913 - val_CapsNet_loss: 0.0267 - val_Generator_loss: 0.9301 - val_CapsNet_accuracy: 0.9671\n",
      "Epoch 10/200\n",
      "1518/1518 [==============================] - ETA: 0s - loss: 0.7388 - CapsNet_loss: 0.0174 - Generator_loss: 1.8405 - CapsNet_accuracy: 0.9803\n",
      "Epoch 00010: val_CapsNet_accuracy did not improve from 0.96708\n",
      "1518/1518 [==============================] - 21s 14ms/step - loss: 0.7388 - CapsNet_loss: 0.0174 - Generator_loss: 1.8405 - CapsNet_accuracy: 0.9803 - val_loss: 0.4345 - val_CapsNet_loss: 0.0652 - val_Generator_loss: 0.9421 - val_CapsNet_accuracy: 0.9133\n",
      "Epoch 11/200\n",
      "1516/1518 [============================>.] - ETA: 0s - loss: 0.7339 - CapsNet_loss: 0.0163 - Generator_loss: 1.8305 - CapsNet_accuracy: 0.9821\n",
      "Epoch 00011: val_CapsNet_accuracy did not improve from 0.96708\n",
      "1518/1518 [==============================] - 21s 14ms/step - loss: 0.7335 - CapsNet_loss: 0.0163 - Generator_loss: 1.8297 - CapsNet_accuracy: 0.9822 - val_loss: 0.4047 - val_CapsNet_loss: 0.0394 - val_Generator_loss: 0.9319 - val_CapsNet_accuracy: 0.9442\n",
      "Epoch 12/200\n",
      "1518/1518 [==============================] - ETA: 0s - loss: 0.7168 - CapsNet_loss: 0.0153 - Generator_loss: 1.7895 - CapsNet_accuracy: 0.9826\n",
      "Epoch 00012: val_CapsNet_accuracy did not improve from 0.96708\n",
      "1518/1518 [==============================] - 21s 14ms/step - loss: 0.7168 - CapsNet_loss: 0.0153 - Generator_loss: 1.7895 - CapsNet_accuracy: 0.9826 - val_loss: 0.4085 - val_CapsNet_loss: 0.0471 - val_Generator_loss: 0.9218 - val_CapsNet_accuracy: 0.9357\n",
      "Epoch 13/200\n",
      "1516/1518 [============================>.] - ETA: 0s - loss: 0.7256 - CapsNet_loss: 0.0136 - Generator_loss: 1.8165 - CapsNet_accuracy: 0.9852\n",
      "Epoch 00013: val_CapsNet_accuracy did not improve from 0.96708\n",
      "1518/1518 [==============================] - 21s 14ms/step - loss: 0.7259 - CapsNet_loss: 0.0136 - Generator_loss: 1.8173 - CapsNet_accuracy: 0.9852 - val_loss: 0.4125 - val_CapsNet_loss: 0.0362 - val_Generator_loss: 0.9598 - val_CapsNet_accuracy: 0.9519\n",
      "Epoch 14/200\n",
      "1518/1518 [==============================] - ETA: 0s - loss: 0.7443 - CapsNet_loss: 0.0121 - Generator_loss: 1.8679 - CapsNet_accuracy: 0.9867\n",
      "Epoch 00014: val_CapsNet_accuracy did not improve from 0.96708\n",
      "1518/1518 [==============================] - 21s 14ms/step - loss: 0.7443 - CapsNet_loss: 0.0121 - Generator_loss: 1.8679 - CapsNet_accuracy: 0.9867 - val_loss: 0.4350 - val_CapsNet_loss: 0.0734 - val_Generator_loss: 0.9224 - val_CapsNet_accuracy: 0.9041\n",
      "Epoch 15/200\n",
      "1518/1518 [==============================] - ETA: 0s - loss: 0.7186 - CapsNet_loss: 0.0107 - Generator_loss: 1.8059 - CapsNet_accuracy: 0.9896\n",
      "Epoch 00015: val_CapsNet_accuracy did not improve from 0.96708\n",
      "1518/1518 [==============================] - 21s 14ms/step - loss: 0.7186 - CapsNet_loss: 0.0107 - Generator_loss: 1.8059 - CapsNet_accuracy: 0.9896 - val_loss: 0.4353 - val_CapsNet_loss: 0.0742 - val_Generator_loss: 0.9210 - val_CapsNet_accuracy: 0.9067\n",
      "Epoch 16/200\n",
      "1518/1518 [==============================] - ETA: 0s - loss: 0.7138 - CapsNet_loss: 0.0108 - Generator_loss: 1.7934 - CapsNet_accuracy: 0.9887\n",
      "Epoch 00016: val_CapsNet_accuracy did not improve from 0.96708\n",
      "1518/1518 [==============================] - 21s 14ms/step - loss: 0.7138 - CapsNet_loss: 0.0108 - Generator_loss: 1.7934 - CapsNet_accuracy: 0.9887 - val_loss: 0.3942 - val_CapsNet_loss: 0.0370 - val_Generator_loss: 0.9114 - val_CapsNet_accuracy: 0.9462\n"
     ]
    },
    {
     "name": "stdout",
     "output_type": "stream",
     "text": [
      "Epoch 17/200\n",
      "1515/1518 [============================>.] - ETA: 0s - loss: 0.7101 - CapsNet_loss: 0.0097 - Generator_loss: 1.7868 - CapsNet_accuracy: 0.9898\n",
      "Epoch 00017: val_CapsNet_accuracy did not improve from 0.96708\n",
      "1518/1518 [==============================] - 21s 14ms/step - loss: 0.7096 - CapsNet_loss: 0.0097 - Generator_loss: 1.7855 - CapsNet_accuracy: 0.9898 - val_loss: 0.3987 - val_CapsNet_loss: 0.0374 - val_Generator_loss: 0.9218 - val_CapsNet_accuracy: 0.9498\n",
      "Epoch 18/200\n",
      "1515/1518 [============================>.] - ETA: 0s - loss: 0.6980 - CapsNet_loss: 0.0091 - Generator_loss: 1.7575 - CapsNet_accuracy: 0.9904\n",
      "Epoch 00018: val_CapsNet_accuracy did not improve from 0.96708\n",
      "1518/1518 [==============================] - 21s 14ms/step - loss: 0.6977 - CapsNet_loss: 0.0091 - Generator_loss: 1.7566 - CapsNet_accuracy: 0.9904 - val_loss: 0.4154 - val_CapsNet_loss: 0.0503 - val_Generator_loss: 0.9314 - val_CapsNet_accuracy: 0.9344\n",
      "Epoch 19/200\n",
      "1516/1518 [============================>.] - ETA: 0s - loss: 0.7258 - CapsNet_loss: 0.0085 - Generator_loss: 1.8299 - CapsNet_accuracy: 0.9913\n",
      "Epoch 00019: val_CapsNet_accuracy did not improve from 0.96708\n",
      "1518/1518 [==============================] - 21s 14ms/step - loss: 0.7272 - CapsNet_loss: 0.0085 - Generator_loss: 1.8335 - CapsNet_accuracy: 0.9914 - val_loss: 0.4031 - val_CapsNet_loss: 0.0426 - val_Generator_loss: 0.9197 - val_CapsNet_accuracy: 0.9430\n",
      "Epoch 20/200\n",
      "1518/1518 [==============================] - ETA: 0s - loss: 0.7205 - CapsNet_loss: 0.0081 - Generator_loss: 1.8173 - CapsNet_accuracy: 0.9914\n",
      "Epoch 00020: val_CapsNet_accuracy did not improve from 0.96708\n",
      "1518/1518 [==============================] - 21s 14ms/step - loss: 0.7205 - CapsNet_loss: 0.0081 - Generator_loss: 1.8173 - CapsNet_accuracy: 0.9914 - val_loss: 0.3930 - val_CapsNet_loss: 0.0371 - val_Generator_loss: 0.9081 - val_CapsNet_accuracy: 0.9480\n",
      "Epoch 21/200\n",
      "1515/1518 [============================>.] - ETA: 0s - loss: 0.7343 - CapsNet_loss: 0.0075 - Generator_loss: 1.8539 - CapsNet_accuracy: 0.9920\n",
      "Epoch 00021: val_CapsNet_accuracy did not improve from 0.96708\n",
      "1518/1518 [==============================] - 21s 14ms/step - loss: 0.7340 - CapsNet_loss: 0.0075 - Generator_loss: 1.8533 - CapsNet_accuracy: 0.9920 - val_loss: 0.3853 - val_CapsNet_loss: 0.0321 - val_Generator_loss: 0.9010 - val_CapsNet_accuracy: 0.9567\n",
      "Epoch 22/200\n",
      "1514/1518 [============================>.] - ETA: 0s - loss: 0.7171 - CapsNet_loss: 0.0065 - Generator_loss: 1.8127 - CapsNet_accuracy: 0.9935\n",
      "Epoch 00022: val_CapsNet_accuracy did not improve from 0.96708\n",
      "1518/1518 [==============================] - 21s 14ms/step - loss: 0.7165 - CapsNet_loss: 0.0065 - Generator_loss: 1.8112 - CapsNet_accuracy: 0.9935 - val_loss: 0.3878 - val_CapsNet_loss: 0.0325 - val_Generator_loss: 0.9061 - val_CapsNet_accuracy: 0.9558\n",
      "Epoch 23/200\n",
      "1514/1518 [============================>.] - ETA: 0s - loss: 0.7063 - CapsNet_loss: 0.0064 - Generator_loss: 1.7855 - CapsNet_accuracy: 0.9941\n",
      "Epoch 00023: val_CapsNet_accuracy did not improve from 0.96708\n",
      "1518/1518 [==============================] - 21s 14ms/step - loss: 0.7066 - CapsNet_loss: 0.0064 - Generator_loss: 1.7863 - CapsNet_accuracy: 0.9940 - val_loss: 0.3885 - val_CapsNet_loss: 0.0351 - val_Generator_loss: 0.9013 - val_CapsNet_accuracy: 0.9530\n",
      "Epoch 24/200\n",
      "1516/1518 [============================>.] - ETA: 0s - loss: 0.6926 - CapsNet_loss: 0.0068 - Generator_loss: 1.7493 - CapsNet_accuracy: 0.9931\n",
      "Epoch 00024: val_CapsNet_accuracy improved from 0.96708 to 0.97033, saving model to /home/vitto/Documents/HyperCapsuleNet/bin/efficient_capsnet_smallNorrb.h5\n",
      "1518/1518 [==============================] - 21s 14ms/step - loss: 0.6921 - CapsNet_loss: 0.0068 - Generator_loss: 1.7481 - CapsNet_accuracy: 0.9931 - val_loss: 0.3781 - val_CapsNet_loss: 0.0231 - val_Generator_loss: 0.9056 - val_CapsNet_accuracy: 0.9703\n",
      "Epoch 25/200\n",
      "1518/1518 [==============================] - ETA: 0s - loss: 0.6930 - CapsNet_loss: 0.0061 - Generator_loss: 1.7521 - CapsNet_accuracy: 0.9937\n",
      "Epoch 00025: val_CapsNet_accuracy did not improve from 0.97033\n",
      "1518/1518 [==============================] - 21s 14ms/step - loss: 0.6930 - CapsNet_loss: 0.0061 - Generator_loss: 1.7521 - CapsNet_accuracy: 0.9937 - val_loss: 0.3987 - val_CapsNet_loss: 0.0446 - val_Generator_loss: 0.9033 - val_CapsNet_accuracy: 0.9381\n",
      "Epoch 26/200\n",
      "1515/1518 [============================>.] - ETA: 0s - loss: 0.7572 - CapsNet_loss: 0.0060 - Generator_loss: 1.9161 - CapsNet_accuracy: 0.9941\n",
      "Epoch 00026: val_CapsNet_accuracy did not improve from 0.97033\n",
      "1518/1518 [==============================] - 21s 14ms/step - loss: 0.7564 - CapsNet_loss: 0.0060 - Generator_loss: 1.9141 - CapsNet_accuracy: 0.9941 - val_loss: 0.3744 - val_CapsNet_loss: 0.0230 - val_Generator_loss: 0.8964 - val_CapsNet_accuracy: 0.9692\n",
      "Epoch 27/200\n",
      "1514/1518 [============================>.] - ETA: 0s - loss: 0.7020 - CapsNet_loss: 0.0056 - Generator_loss: 1.7765 - CapsNet_accuracy: 0.9942\n",
      "Epoch 00027: val_CapsNet_accuracy did not improve from 0.97033\n",
      "1518/1518 [==============================] - 21s 14ms/step - loss: 0.7024 - CapsNet_loss: 0.0056 - Generator_loss: 1.7776 - CapsNet_accuracy: 0.9942 - val_loss: 0.3994 - val_CapsNet_loss: 0.0448 - val_Generator_loss: 0.9046 - val_CapsNet_accuracy: 0.9391\n",
      "Epoch 28/200\n",
      "1514/1518 [============================>.] - ETA: 0s - loss: 0.7488 - CapsNet_loss: 0.0053 - Generator_loss: 1.8968 - CapsNet_accuracy: 0.9947\n",
      "Epoch 00028: val_CapsNet_accuracy did not improve from 0.97033\n",
      "1518/1518 [==============================] - 21s 14ms/step - loss: 0.7492 - CapsNet_loss: 0.0053 - Generator_loss: 1.8977 - CapsNet_accuracy: 0.9947 - val_loss: 0.3808 - val_CapsNet_loss: 0.0259 - val_Generator_loss: 0.9054 - val_CapsNet_accuracy: 0.9633\n",
      "Epoch 29/200\n",
      "1516/1518 [============================>.] - ETA: 0s - loss: 0.7228 - CapsNet_loss: 0.0047 - Generator_loss: 1.8319 - CapsNet_accuracy: 0.9948\n",
      "Epoch 00029: val_CapsNet_accuracy did not improve from 0.97033\n",
      "1518/1518 [==============================] - 21s 14ms/step - loss: 0.7224 - CapsNet_loss: 0.0047 - Generator_loss: 1.8308 - CapsNet_accuracy: 0.9948 - val_loss: 0.3836 - val_CapsNet_loss: 0.0300 - val_Generator_loss: 0.9021 - val_CapsNet_accuracy: 0.9598\n",
      "Epoch 30/200\n",
      "1516/1518 [============================>.] - ETA: 0s - loss: 0.6916 - CapsNet_loss: 0.0052 - Generator_loss: 1.7511 - CapsNet_accuracy: 0.9948\n",
      "Epoch 00030: val_CapsNet_accuracy did not improve from 0.97033\n",
      "1518/1518 [==============================] - 21s 14ms/step - loss: 0.6909 - CapsNet_loss: 0.0052 - Generator_loss: 1.7493 - CapsNet_accuracy: 0.9948 - val_loss: 0.3948 - val_CapsNet_loss: 0.0366 - val_Generator_loss: 0.9139 - val_CapsNet_accuracy: 0.9503\n",
      "Epoch 31/200\n",
      "1516/1518 [============================>.] - ETA: 0s - loss: 0.7108 - CapsNet_loss: 0.0049 - Generator_loss: 1.8010 - CapsNet_accuracy: 0.9950\n",
      "Epoch 00031: val_CapsNet_accuracy did not improve from 0.97033\n",
      "1518/1518 [==============================] - 21s 14ms/step - loss: 0.7108 - CapsNet_loss: 0.0049 - Generator_loss: 1.8008 - CapsNet_accuracy: 0.9950 - val_loss: 0.3826 - val_CapsNet_loss: 0.0303 - val_Generator_loss: 0.8987 - val_CapsNet_accuracy: 0.9572\n",
      "Epoch 32/200\n",
      "1518/1518 [==============================] - ETA: 0s - loss: 0.6974 - CapsNet_loss: 0.0046 - Generator_loss: 1.7674 - CapsNet_accuracy: 0.9954\n",
      "Epoch 00032: val_CapsNet_accuracy did not improve from 0.97033\n",
      "1518/1518 [==============================] - 21s 14ms/step - loss: 0.6974 - CapsNet_loss: 0.0046 - Generator_loss: 1.7674 - CapsNet_accuracy: 0.9954 - val_loss: 0.3954 - val_CapsNet_loss: 0.0399 - val_Generator_loss: 0.9068 - val_CapsNet_accuracy: 0.9451\n",
      "Epoch 33/200\n",
      "1514/1518 [============================>.] - ETA: 0s - loss: 0.7075 - CapsNet_loss: 0.0046 - Generator_loss: 1.7933 - CapsNet_accuracy: 0.9955\n",
      "Epoch 00033: val_CapsNet_accuracy did not improve from 0.97033\n",
      "1518/1518 [==============================] - 21s 14ms/step - loss: 0.7064 - CapsNet_loss: 0.0046 - Generator_loss: 1.7904 - CapsNet_accuracy: 0.9955 - val_loss: 0.3890 - val_CapsNet_loss: 0.0334 - val_Generator_loss: 0.9074 - val_CapsNet_accuracy: 0.9558\n",
      "Epoch 34/200\n",
      "1518/1518 [==============================] - ETA: 0s - loss: 0.6979 - CapsNet_loss: 0.0046 - Generator_loss: 1.7685 - CapsNet_accuracy: 0.9950\n",
      "Epoch 00034: val_CapsNet_accuracy did not improve from 0.97033\n",
      "1518/1518 [==============================] - 21s 14ms/step - loss: 0.6979 - CapsNet_loss: 0.0046 - Generator_loss: 1.7685 - CapsNet_accuracy: 0.9950 - val_loss: 0.3737 - val_CapsNet_loss: 0.0228 - val_Generator_loss: 0.8951 - val_CapsNet_accuracy: 0.9698\n",
      "Epoch 35/200\n",
      "1516/1518 [============================>.] - ETA: 0s - loss: 0.7057 - CapsNet_loss: 0.0039 - Generator_loss: 1.7901 - CapsNet_accuracy: 0.9961\n",
      "Epoch 00035: val_CapsNet_accuracy did not improve from 0.97033\n",
      "1518/1518 [==============================] - 21s 14ms/step - loss: 0.7053 - CapsNet_loss: 0.0039 - Generator_loss: 1.7893 - CapsNet_accuracy: 0.9961 - val_loss: 0.3986 - val_CapsNet_loss: 0.0401 - val_Generator_loss: 0.9143 - val_CapsNet_accuracy: 0.9449\n",
      "Epoch 36/200\n",
      "1516/1518 [============================>.] - ETA: 0s - loss: 0.6871 - CapsNet_loss: 0.0039 - Generator_loss: 1.7427 - CapsNet_accuracy: 0.9963\n",
      "Epoch 00036: val_CapsNet_accuracy did not improve from 0.97033\n",
      "1518/1518 [==============================] - 21s 14ms/step - loss: 0.6864 - CapsNet_loss: 0.0039 - Generator_loss: 1.7411 - CapsNet_accuracy: 0.9963 - val_loss: 0.3837 - val_CapsNet_loss: 0.0317 - val_Generator_loss: 0.8979 - val_CapsNet_accuracy: 0.9560\n",
      "Epoch 37/200\n",
      "1517/1518 [============================>.] - ETA: 0s - loss: 0.6920 - CapsNet_loss: 0.0038 - Generator_loss: 1.7556 - CapsNet_accuracy: 0.9960\n",
      "Epoch 00037: val_CapsNet_accuracy did not improve from 0.97033\n",
      "1518/1518 [==============================] - 21s 14ms/step - loss: 0.6918 - CapsNet_loss: 0.0038 - Generator_loss: 1.7550 - CapsNet_accuracy: 0.9960 - val_loss: 0.3731 - val_CapsNet_loss: 0.0222 - val_Generator_loss: 0.8950 - val_CapsNet_accuracy: 0.9700\n",
      "Epoch 38/200\n",
      "1515/1518 [============================>.] - ETA: 0s - loss: 0.6940 - CapsNet_loss: 0.0035 - Generator_loss: 1.7615 - CapsNet_accuracy: 0.9967\n",
      "Epoch 00038: val_CapsNet_accuracy did not improve from 0.97033\n",
      "1518/1518 [==============================] - 21s 14ms/step - loss: 0.6942 - CapsNet_loss: 0.0035 - Generator_loss: 1.7620 - CapsNet_accuracy: 0.9967 - val_loss: 0.3766 - val_CapsNet_loss: 0.0235 - val_Generator_loss: 0.9007 - val_CapsNet_accuracy: 0.9675\n",
      "Epoch 39/200\n",
      "1518/1518 [==============================] - ETA: 0s - loss: 0.6908 - CapsNet_loss: 0.0039 - Generator_loss: 1.7523 - CapsNet_accuracy: 0.9962\n",
      "Epoch 00039: val_CapsNet_accuracy did not improve from 0.97033\n",
      "1518/1518 [==============================] - 21s 14ms/step - loss: 0.6908 - CapsNet_loss: 0.0039 - Generator_loss: 1.7523 - CapsNet_accuracy: 0.9962 - val_loss: 0.3977 - val_CapsNet_loss: 0.0287 - val_Generator_loss: 0.9413 - val_CapsNet_accuracy: 0.9618\n",
      "Epoch 40/200\n",
      "1517/1518 [============================>.] - ETA: 0s - loss: 0.7192 - CapsNet_loss: 0.0035 - Generator_loss: 1.8256 - CapsNet_accuracy: 0.9965\n",
      "Epoch 00040: val_CapsNet_accuracy did not improve from 0.97033\n",
      "1518/1518 [==============================] - 21s 14ms/step - loss: 0.7192 - CapsNet_loss: 0.0035 - Generator_loss: 1.8256 - CapsNet_accuracy: 0.9965 - val_loss: 0.4032 - val_CapsNet_loss: 0.0497 - val_Generator_loss: 0.9018 - val_CapsNet_accuracy: 0.9326\n",
      "Epoch 41/200\n",
      "1516/1518 [============================>.] - ETA: 0s - loss: 0.7145 - CapsNet_loss: 0.0034 - Generator_loss: 1.8142 - CapsNet_accuracy: 0.9965\n",
      "Epoch 00041: val_CapsNet_accuracy did not improve from 0.97033\n",
      "1518/1518 [==============================] - 21s 14ms/step - loss: 0.7154 - CapsNet_loss: 0.0034 - Generator_loss: 1.8164 - CapsNet_accuracy: 0.9965 - val_loss: 0.3725 - val_CapsNet_loss: 0.0230 - val_Generator_loss: 0.8916 - val_CapsNet_accuracy: 0.9700\n",
      "Epoch 42/200\n",
      "1517/1518 [============================>.] - ETA: 0s - loss: 0.6888 - CapsNet_loss: 0.0032 - Generator_loss: 1.7490 - CapsNet_accuracy: 0.9970\n",
      "Epoch 00042: val_CapsNet_accuracy did not improve from 0.97033\n",
      "1518/1518 [==============================] - 21s 14ms/step - loss: 0.6887 - CapsNet_loss: 0.0032 - Generator_loss: 1.7487 - CapsNet_accuracy: 0.9970 - val_loss: 0.3734 - val_CapsNet_loss: 0.0237 - val_Generator_loss: 0.8922 - val_CapsNet_accuracy: 0.9665\n",
      "Epoch 43/200\n",
      "1518/1518 [==============================] - ETA: 0s - loss: 0.6902 - CapsNet_loss: 0.0030 - Generator_loss: 1.7529 - CapsNet_accuracy: 0.9975\n",
      "Epoch 00043: val_CapsNet_accuracy did not improve from 0.97033\n",
      "1518/1518 [==============================] - 21s 14ms/step - loss: 0.6902 - CapsNet_loss: 0.0030 - Generator_loss: 1.7529 - CapsNet_accuracy: 0.9975 - val_loss: 0.3727 - val_CapsNet_loss: 0.0229 - val_Generator_loss: 0.8922 - val_CapsNet_accuracy: 0.9695\n",
      "Epoch 44/200\n",
      "1516/1518 [============================>.] - ETA: 0s - loss: 0.7205 - CapsNet_loss: 0.0030 - Generator_loss: 1.8303 - CapsNet_accuracy: 0.9969\n",
      "Epoch 00044: val_CapsNet_accuracy did not improve from 0.97033\n",
      "1518/1518 [==============================] - 21s 14ms/step - loss: 0.7207 - CapsNet_loss: 0.0030 - Generator_loss: 1.8310 - CapsNet_accuracy: 0.9969 - val_loss: 0.3911 - val_CapsNet_loss: 0.0386 - val_Generator_loss: 0.8993 - val_CapsNet_accuracy: 0.9479\n",
      "Epoch 45/200\n",
      "1514/1518 [============================>.] - ETA: 0s - loss: 0.7157 - CapsNet_loss: 0.0027 - Generator_loss: 1.8188 - CapsNet_accuracy: 0.9974\n",
      "Epoch 00045: val_CapsNet_accuracy did not improve from 0.97033\n",
      "1518/1518 [==============================] - 21s 14ms/step - loss: 0.7153 - CapsNet_loss: 0.0027 - Generator_loss: 1.8178 - CapsNet_accuracy: 0.9974 - val_loss: 0.3747 - val_CapsNet_loss: 0.0244 - val_Generator_loss: 0.8937 - val_CapsNet_accuracy: 0.9660\n",
      "Epoch 46/200\n",
      "1516/1518 [============================>.] - ETA: 0s - loss: 0.6837 - CapsNet_loss: 0.0028 - Generator_loss: 1.7369 - CapsNet_accuracy: 0.9971\n",
      "Epoch 00046: val_CapsNet_accuracy did not improve from 0.97033\n",
      "1518/1518 [==============================] - 21s 14ms/step - loss: 0.6841 - CapsNet_loss: 0.0028 - Generator_loss: 1.7380 - CapsNet_accuracy: 0.9971 - val_loss: 0.3821 - val_CapsNet_loss: 0.0320 - val_Generator_loss: 0.8933 - val_CapsNet_accuracy: 0.9568\n",
      "Epoch 47/200\n",
      "1514/1518 [============================>.] - ETA: 0s - loss: 0.7227 - CapsNet_loss: 0.0030 - Generator_loss: 1.8360 - CapsNet_accuracy: 0.9971\n",
      "Epoch 00047: val_CapsNet_accuracy did not improve from 0.97033\n",
      "1518/1518 [==============================] - 21s 14ms/step - loss: 0.7218 - CapsNet_loss: 0.0030 - Generator_loss: 1.8337 - CapsNet_accuracy: 0.9971 - val_loss: 0.3764 - val_CapsNet_loss: 0.0278 - val_Generator_loss: 0.8893 - val_CapsNet_accuracy: 0.9633\n",
      "Epoch 48/200\n",
      "1518/1518 [==============================] - ETA: 0s - loss: 0.7020 - CapsNet_loss: 0.0028 - Generator_loss: 1.7838 - CapsNet_accuracy: 0.9972\n",
      "Epoch 00048: val_CapsNet_accuracy did not improve from 0.97033\n",
      "1518/1518 [==============================] - 21s 14ms/step - loss: 0.7020 - CapsNet_loss: 0.0028 - Generator_loss: 1.7838 - CapsNet_accuracy: 0.9972 - val_loss: 0.3735 - val_CapsNet_loss: 0.0241 - val_Generator_loss: 0.8912 - val_CapsNet_accuracy: 0.9667\n",
      "Epoch 49/200\n",
      "1514/1518 [============================>.] - ETA: 0s - loss: 0.6670 - CapsNet_loss: 0.0023 - Generator_loss: 1.6958 - CapsNet_accuracy: 0.9980\n",
      "Epoch 00049: val_CapsNet_accuracy did not improve from 0.97033\n",
      "1518/1518 [==============================] - 21s 14ms/step - loss: 0.6667 - CapsNet_loss: 0.0023 - Generator_loss: 1.6950 - CapsNet_accuracy: 0.9980 - val_loss: 0.3806 - val_CapsNet_loss: 0.0297 - val_Generator_loss: 0.8952 - val_CapsNet_accuracy: 0.9597\n",
      "Epoch 50/200\n",
      "1517/1518 [============================>.] - ETA: 0s - loss: 0.7057 - CapsNet_loss: 0.0028 - Generator_loss: 1.7931 - CapsNet_accuracy: 0.9972\n",
      "Epoch 00050: val_CapsNet_accuracy did not improve from 0.97033\n",
      "1518/1518 [==============================] - 21s 14ms/step - loss: 0.7054 - CapsNet_loss: 0.0028 - Generator_loss: 1.7925 - CapsNet_accuracy: 0.9972 - val_loss: 0.3824 - val_CapsNet_loss: 0.0297 - val_Generator_loss: 0.8996 - val_CapsNet_accuracy: 0.9587\n",
      "Epoch 51/200\n"
     ]
    },
    {
     "name": "stdout",
     "output_type": "stream",
     "text": [
      "1515/1518 [============================>.] - ETA: 0s - loss: 0.6868 - CapsNet_loss: 0.0024 - Generator_loss: 1.7461 - CapsNet_accuracy: 0.9978\n",
      "Epoch 00051: val_CapsNet_accuracy did not improve from 0.97033\n",
      "1518/1518 [==============================] - 21s 14ms/step - loss: 0.6871 - CapsNet_loss: 0.0024 - Generator_loss: 1.7468 - CapsNet_accuracy: 0.9978 - val_loss: 0.3709 - val_CapsNet_loss: 0.0225 - val_Generator_loss: 0.8887 - val_CapsNet_accuracy: 0.9679\n",
      "Epoch 52/200\n",
      "1518/1518 [==============================] - ETA: 0s - loss: 0.6962 - CapsNet_loss: 0.0023 - Generator_loss: 1.7701 - CapsNet_accuracy: 0.9979\n",
      "Epoch 00052: val_CapsNet_accuracy did not improve from 0.97033\n",
      "1518/1518 [==============================] - 21s 14ms/step - loss: 0.6962 - CapsNet_loss: 0.0023 - Generator_loss: 1.7701 - CapsNet_accuracy: 0.9979 - val_loss: 0.3921 - val_CapsNet_loss: 0.0402 - val_Generator_loss: 0.8977 - val_CapsNet_accuracy: 0.9437\n",
      "Epoch 53/200\n",
      "1517/1518 [============================>.] - ETA: 0s - loss: 0.6949 - CapsNet_loss: 0.0022 - Generator_loss: 1.7670 - CapsNet_accuracy: 0.9981\n",
      "Epoch 00053: val_CapsNet_accuracy did not improve from 0.97033\n",
      "1518/1518 [==============================] - 21s 14ms/step - loss: 0.6947 - CapsNet_loss: 0.0022 - Generator_loss: 1.7664 - CapsNet_accuracy: 0.9981 - val_loss: 0.3713 - val_CapsNet_loss: 0.0231 - val_Generator_loss: 0.8885 - val_CapsNet_accuracy: 0.9679\n",
      "Epoch 54/200\n",
      "1516/1518 [============================>.] - ETA: 0s - loss: 0.6868 - CapsNet_loss: 0.0024 - Generator_loss: 1.7459 - CapsNet_accuracy: 0.9977\n",
      "Epoch 00054: val_CapsNet_accuracy improved from 0.97033 to 0.97165, saving model to /home/vitto/Documents/HyperCapsuleNet/bin/efficient_capsnet_smallNorrb.h5\n",
      "1518/1518 [==============================] - 21s 14ms/step - loss: 0.6864 - CapsNet_loss: 0.0024 - Generator_loss: 1.7449 - CapsNet_accuracy: 0.9977 - val_loss: 0.3723 - val_CapsNet_loss: 0.0226 - val_Generator_loss: 0.8920 - val_CapsNet_accuracy: 0.9716\n",
      "Epoch 55/200\n",
      "1518/1518 [==============================] - ETA: 0s - loss: 0.6842 - CapsNet_loss: 0.0022 - Generator_loss: 1.7398 - CapsNet_accuracy: 0.9979\n",
      "Epoch 00055: val_CapsNet_accuracy did not improve from 0.97165\n",
      "1518/1518 [==============================] - 21s 14ms/step - loss: 0.6842 - CapsNet_loss: 0.0022 - Generator_loss: 1.7398 - CapsNet_accuracy: 0.9979 - val_loss: 0.4108 - val_CapsNet_loss: 0.0592 - val_Generator_loss: 0.8969 - val_CapsNet_accuracy: 0.9206\n",
      "Epoch 56/200\n",
      "1517/1518 [============================>.] - ETA: 0s - loss: 0.7024 - CapsNet_loss: 0.0021 - Generator_loss: 1.7865 - CapsNet_accuracy: 0.9982\n",
      "Epoch 00056: val_CapsNet_accuracy did not improve from 0.97165\n",
      "1518/1518 [==============================] - 21s 14ms/step - loss: 0.7020 - CapsNet_loss: 0.0021 - Generator_loss: 1.7856 - CapsNet_accuracy: 0.9982 - val_loss: 0.3704 - val_CapsNet_loss: 0.0227 - val_Generator_loss: 0.8869 - val_CapsNet_accuracy: 0.9685\n",
      "Epoch 57/200\n",
      "1515/1518 [============================>.] - ETA: 0s - loss: 0.7015 - CapsNet_loss: 0.0023 - Generator_loss: 1.7836 - CapsNet_accuracy: 0.9977\n",
      "Epoch 00057: val_CapsNet_accuracy did not improve from 0.97165\n",
      "1518/1518 [==============================] - 21s 14ms/step - loss: 0.7008 - CapsNet_loss: 0.0023 - Generator_loss: 1.7819 - CapsNet_accuracy: 0.9977 - val_loss: 0.3721 - val_CapsNet_loss: 0.0231 - val_Generator_loss: 0.8903 - val_CapsNet_accuracy: 0.9670\n",
      "Epoch 58/200\n",
      "1516/1518 [============================>.] - ETA: 0s - loss: 0.6868 - CapsNet_loss: 0.0020 - Generator_loss: 1.7469 - CapsNet_accuracy: 0.9981\n",
      "Epoch 00058: val_CapsNet_accuracy did not improve from 0.97165\n",
      "1518/1518 [==============================] - 21s 14ms/step - loss: 0.6869 - CapsNet_loss: 0.0020 - Generator_loss: 1.7473 - CapsNet_accuracy: 0.9981 - val_loss: 0.3762 - val_CapsNet_loss: 0.0283 - val_Generator_loss: 0.8873 - val_CapsNet_accuracy: 0.9604\n",
      "Epoch 59/200\n",
      "1514/1518 [============================>.] - ETA: 0s - loss: 0.6902 - CapsNet_loss: 0.0020 - Generator_loss: 1.7556 - CapsNet_accuracy: 0.9980\n",
      "Epoch 00059: val_CapsNet_accuracy did not improve from 0.97165\n",
      "1518/1518 [==============================] - 21s 14ms/step - loss: 0.6906 - CapsNet_loss: 0.0020 - Generator_loss: 1.7566 - CapsNet_accuracy: 0.9980 - val_loss: 0.4238 - val_CapsNet_loss: 0.0496 - val_Generator_loss: 0.9546 - val_CapsNet_accuracy: 0.9361\n",
      "Epoch 60/200\n",
      "1516/1518 [============================>.] - ETA: 0s - loss: 0.7013 - CapsNet_loss: 0.0019 - Generator_loss: 1.7842 - CapsNet_accuracy: 0.9982\n",
      "Epoch 00060: val_CapsNet_accuracy improved from 0.97165 to 0.97658, saving model to /home/vitto/Documents/HyperCapsuleNet/bin/efficient_capsnet_smallNorrb.h5\n",
      "1518/1518 [==============================] - 21s 14ms/step - loss: 0.7007 - CapsNet_loss: 0.0019 - Generator_loss: 1.7829 - CapsNet_accuracy: 0.9982 - val_loss: 0.3649 - val_CapsNet_loss: 0.0177 - val_Generator_loss: 0.8855 - val_CapsNet_accuracy: 0.9766\n",
      "Epoch 61/200\n",
      "1518/1518 [==============================] - ETA: 0s - loss: 0.6745 - CapsNet_loss: 0.0021 - Generator_loss: 1.7153 - CapsNet_accuracy: 0.9982\n",
      "Epoch 00061: val_CapsNet_accuracy did not improve from 0.97658\n",
      "1518/1518 [==============================] - 21s 14ms/step - loss: 0.6745 - CapsNet_loss: 0.0021 - Generator_loss: 1.7153 - CapsNet_accuracy: 0.9982 - val_loss: 0.3666 - val_CapsNet_loss: 0.0187 - val_Generator_loss: 0.8874 - val_CapsNet_accuracy: 0.9730\n",
      "Epoch 62/200\n",
      "1514/1518 [============================>.] - ETA: 0s - loss: 0.6942 - CapsNet_loss: 0.0018 - Generator_loss: 1.7661 - CapsNet_accuracy: 0.9983\n",
      "Epoch 00062: val_CapsNet_accuracy did not improve from 0.97658\n",
      "1518/1518 [==============================] - 21s 14ms/step - loss: 0.6942 - CapsNet_loss: 0.0018 - Generator_loss: 1.7662 - CapsNet_accuracy: 0.9984 - val_loss: 0.3823 - val_CapsNet_loss: 0.0308 - val_Generator_loss: 0.8968 - val_CapsNet_accuracy: 0.9593\n",
      "Epoch 63/200\n",
      "1515/1518 [============================>.] - ETA: 0s - loss: 0.6850 - CapsNet_loss: 0.0020 - Generator_loss: 1.7424 - CapsNet_accuracy: 0.9981\n",
      "Epoch 00063: val_CapsNet_accuracy did not improve from 0.97658\n",
      "1518/1518 [==============================] - 21s 14ms/step - loss: 0.6858 - CapsNet_loss: 0.0020 - Generator_loss: 1.7444 - CapsNet_accuracy: 0.9981 - val_loss: 0.3885 - val_CapsNet_loss: 0.0359 - val_Generator_loss: 0.8995 - val_CapsNet_accuracy: 0.9507\n",
      "Epoch 64/200\n",
      "1514/1518 [============================>.] - ETA: 0s - loss: 0.6986 - CapsNet_loss: 0.0016 - Generator_loss: 1.7782 - CapsNet_accuracy: 0.9988\n",
      "Epoch 00064: val_CapsNet_accuracy did not improve from 0.97658\n",
      "1518/1518 [==============================] - 21s 14ms/step - loss: 0.6999 - CapsNet_loss: 0.0016 - Generator_loss: 1.7815 - CapsNet_accuracy: 0.9988 - val_loss: 0.3806 - val_CapsNet_loss: 0.0308 - val_Generator_loss: 0.8922 - val_CapsNet_accuracy: 0.9585\n",
      "Epoch 65/200\n",
      "1515/1518 [============================>.] - ETA: 0s - loss: 0.6962 - CapsNet_loss: 0.0019 - Generator_loss: 1.7711 - CapsNet_accuracy: 0.9981\n",
      "Epoch 00065: val_CapsNet_accuracy did not improve from 0.97658\n",
      "1518/1518 [==============================] - 21s 14ms/step - loss: 0.6967 - CapsNet_loss: 0.0019 - Generator_loss: 1.7724 - CapsNet_accuracy: 0.9981 - val_loss: 0.3690 - val_CapsNet_loss: 0.0212 - val_Generator_loss: 0.8872 - val_CapsNet_accuracy: 0.9693\n",
      "Epoch 66/200\n",
      "1516/1518 [============================>.] - ETA: 0s - loss: 0.7202 - CapsNet_loss: 0.0017 - Generator_loss: 1.8329 - CapsNet_accuracy: 0.9986\n",
      "Epoch 00066: val_CapsNet_accuracy did not improve from 0.97658\n",
      "1518/1518 [==============================] - 21s 14ms/step - loss: 0.7202 - CapsNet_loss: 0.0017 - Generator_loss: 1.8328 - CapsNet_accuracy: 0.9986 - val_loss: 0.3891 - val_CapsNet_loss: 0.0374 - val_Generator_loss: 0.8972 - val_CapsNet_accuracy: 0.9495\n",
      "Epoch 67/200\n",
      "1515/1518 [============================>.] - ETA: 0s - loss: 0.7108 - CapsNet_loss: 0.0018 - Generator_loss: 1.8087 - CapsNet_accuracy: 0.9981\n",
      "Epoch 00067: val_CapsNet_accuracy did not improve from 0.97658\n",
      "1518/1518 [==============================] - 21s 14ms/step - loss: 0.7104 - CapsNet_loss: 0.0018 - Generator_loss: 1.8076 - CapsNet_accuracy: 0.9981 - val_loss: 0.3681 - val_CapsNet_loss: 0.0213 - val_Generator_loss: 0.8848 - val_CapsNet_accuracy: 0.9705\n"
     ]
    },
    {
     "name": "stdout",
     "output_type": "stream",
     "text": [
      "Epoch 68/200\n",
      "1515/1518 [============================>.] - ETA: 0s - loss: 0.6947 - CapsNet_loss: 0.0014 - Generator_loss: 1.7684 - CapsNet_accuracy: 0.9988\n",
      "Epoch 00068: val_CapsNet_accuracy did not improve from 0.97658\n",
      "1518/1518 [==============================] - 21s 14ms/step - loss: 0.6943 - CapsNet_loss: 0.0014 - Generator_loss: 1.7676 - CapsNet_accuracy: 0.9988 - val_loss: 0.3825 - val_CapsNet_loss: 0.0316 - val_Generator_loss: 0.8951 - val_CapsNet_accuracy: 0.9560\n",
      "Epoch 69/200\n",
      "1514/1518 [============================>.] - ETA: 0s - loss: 0.7226 - CapsNet_loss: 0.0016 - Generator_loss: 1.8393 - CapsNet_accuracy: 0.9986\n",
      "Epoch 00069: val_CapsNet_accuracy did not improve from 0.97658\n",
      "1518/1518 [==============================] - 21s 14ms/step - loss: 0.7223 - CapsNet_loss: 0.0016 - Generator_loss: 1.8386 - CapsNet_accuracy: 0.9986 - val_loss: 0.3780 - val_CapsNet_loss: 0.0304 - val_Generator_loss: 0.8867 - val_CapsNet_accuracy: 0.9586\n",
      "Epoch 70/200\n",
      "1514/1518 [============================>.] - ETA: 0s - loss: 0.6855 - CapsNet_loss: 0.0015 - Generator_loss: 1.7449 - CapsNet_accuracy: 0.9987\n",
      "Epoch 00070: val_CapsNet_accuracy did not improve from 0.97658\n",
      "1518/1518 [==============================] - 21s 14ms/step - loss: 0.6844 - CapsNet_loss: 0.0016 - Generator_loss: 1.7420 - CapsNet_accuracy: 0.9987 - val_loss: 0.3982 - val_CapsNet_loss: 0.0463 - val_Generator_loss: 0.8978 - val_CapsNet_accuracy: 0.9401\n",
      "Epoch 71/200\n",
      "1514/1518 [============================>.] - ETA: 0s - loss: 0.7146 - CapsNet_loss: 0.0016 - Generator_loss: 1.8188 - CapsNet_accuracy: 0.9988\n",
      "Epoch 00071: val_CapsNet_accuracy did not improve from 0.97658\n",
      "1518/1518 [==============================] - 21s 14ms/step - loss: 0.7140 - CapsNet_loss: 0.0016 - Generator_loss: 1.8173 - CapsNet_accuracy: 0.9988 - val_loss: 0.3817 - val_CapsNet_loss: 0.0326 - val_Generator_loss: 0.8906 - val_CapsNet_accuracy: 0.9535\n",
      "Epoch 72/200\n",
      "1516/1518 [============================>.] - ETA: 0s - loss: 0.7240 - CapsNet_loss: 0.0013 - Generator_loss: 1.8434 - CapsNet_accuracy: 0.9991\n",
      "Epoch 00072: val_CapsNet_accuracy did not improve from 0.97658\n",
      "1518/1518 [==============================] - 21s 14ms/step - loss: 0.7235 - CapsNet_loss: 0.0013 - Generator_loss: 1.8422 - CapsNet_accuracy: 0.9991 - val_loss: 0.3897 - val_CapsNet_loss: 0.0386 - val_Generator_loss: 0.8957 - val_CapsNet_accuracy: 0.9484\n",
      "Epoch 73/200\n",
      "1518/1518 [==============================] - ETA: 0s - loss: 0.6964 - CapsNet_loss: 0.0016 - Generator_loss: 1.7726 - CapsNet_accuracy: 0.9987\n",
      "Epoch 00073: val_CapsNet_accuracy did not improve from 0.97658\n",
      "1518/1518 [==============================] - 21s 14ms/step - loss: 0.6964 - CapsNet_loss: 0.0016 - Generator_loss: 1.7726 - CapsNet_accuracy: 0.9987 - val_loss: 0.3664 - val_CapsNet_loss: 0.0191 - val_Generator_loss: 0.8860 - val_CapsNet_accuracy: 0.9719\n",
      "Epoch 74/200\n",
      "1516/1518 [============================>.] - ETA: 0s - loss: 0.6844 - CapsNet_loss: 0.0014 - Generator_loss: 1.7425 - CapsNet_accuracy: 0.9988\n",
      "Epoch 00074: val_CapsNet_accuracy did not improve from 0.97658\n",
      "1518/1518 [==============================] - 21s 14ms/step - loss: 0.6853 - CapsNet_loss: 0.0014 - Generator_loss: 1.7447 - CapsNet_accuracy: 0.9988 - val_loss: 0.3840 - val_CapsNet_loss: 0.0349 - val_Generator_loss: 0.8905 - val_CapsNet_accuracy: 0.9527\n",
      "Epoch 75/200\n",
      "1515/1518 [============================>.] - ETA: 0s - loss: 0.7060 - CapsNet_loss: 0.0014 - Generator_loss: 1.7975 - CapsNet_accuracy: 0.9988\n",
      "Epoch 00075: val_CapsNet_accuracy did not improve from 0.97658\n",
      "1518/1518 [==============================] - 21s 14ms/step - loss: 0.7061 - CapsNet_loss: 0.0014 - Generator_loss: 1.7978 - CapsNet_accuracy: 0.9988 - val_loss: 0.3850 - val_CapsNet_loss: 0.0360 - val_Generator_loss: 0.8903 - val_CapsNet_accuracy: 0.9491\n",
      "Epoch 76/200\n",
      "1518/1518 [==============================] - ETA: 0s - loss: 0.6990 - CapsNet_loss: 0.0015 - Generator_loss: 1.7793 - CapsNet_accuracy: 0.9986\n",
      "Epoch 00076: val_CapsNet_accuracy did not improve from 0.97658\n",
      "1518/1518 [==============================] - 21s 14ms/step - loss: 0.6990 - CapsNet_loss: 0.0015 - Generator_loss: 1.7793 - CapsNet_accuracy: 0.9986 - val_loss: 0.3809 - val_CapsNet_loss: 0.0314 - val_Generator_loss: 0.8914 - val_CapsNet_accuracy: 0.9573\n",
      "Epoch 77/200\n",
      "1518/1518 [==============================] - ETA: 0s - loss: 0.6884 - CapsNet_loss: 0.0013 - Generator_loss: 1.7526 - CapsNet_accuracy: 0.9987\n",
      "Epoch 00077: val_CapsNet_accuracy did not improve from 0.97658\n",
      "1518/1518 [==============================] - 21s 14ms/step - loss: 0.6884 - CapsNet_loss: 0.0013 - Generator_loss: 1.7526 - CapsNet_accuracy: 0.9987 - val_loss: 0.3898 - val_CapsNet_loss: 0.0395 - val_Generator_loss: 0.8936 - val_CapsNet_accuracy: 0.9444\n",
      "Epoch 78/200\n",
      "1516/1518 [============================>.] - ETA: 0s - loss: 0.6939 - CapsNet_loss: 0.0015 - Generator_loss: 1.7664 - CapsNet_accuracy: 0.9987\n",
      "Epoch 00078: val_CapsNet_accuracy did not improve from 0.97658\n",
      "1518/1518 [==============================] - 21s 14ms/step - loss: 0.6939 - CapsNet_loss: 0.0015 - Generator_loss: 1.7662 - CapsNet_accuracy: 0.9987 - val_loss: 0.3670 - val_CapsNet_loss: 0.0203 - val_Generator_loss: 0.8844 - val_CapsNet_accuracy: 0.9718\n",
      "Epoch 79/200\n",
      "1515/1518 [============================>.] - ETA: 0s - loss: 0.6908 - CapsNet_loss: 0.0013 - Generator_loss: 1.7590 - CapsNet_accuracy: 0.9991\n",
      "Epoch 00079: val_CapsNet_accuracy did not improve from 0.97658\n",
      "1518/1518 [==============================] - 21s 14ms/step - loss: 0.6913 - CapsNet_loss: 0.0013 - Generator_loss: 1.7602 - CapsNet_accuracy: 0.9991 - val_loss: 0.3887 - val_CapsNet_loss: 0.0384 - val_Generator_loss: 0.8936 - val_CapsNet_accuracy: 0.9476\n",
      "Epoch 80/200\n",
      "1517/1518 [============================>.] - ETA: 0s - loss: 0.6653 - CapsNet_loss: 0.0012 - Generator_loss: 1.6941 - CapsNet_accuracy: 0.9989\n",
      "Epoch 00080: val_CapsNet_accuracy did not improve from 0.97658\n",
      "1518/1518 [==============================] - 21s 14ms/step - loss: 0.6652 - CapsNet_loss: 0.0012 - Generator_loss: 1.6938 - CapsNet_accuracy: 0.9989 - val_loss: 0.3663 - val_CapsNet_loss: 0.0183 - val_Generator_loss: 0.8877 - val_CapsNet_accuracy: 0.9741\n",
      "Epoch 81/200\n",
      "1514/1518 [============================>.] - ETA: 0s - loss: 0.7076 - CapsNet_loss: 0.0014 - Generator_loss: 1.8014 - CapsNet_accuracy: 0.9986\n",
      "Epoch 00081: val_CapsNet_accuracy did not improve from 0.97658\n",
      "1518/1518 [==============================] - 21s 14ms/step - loss: 0.7065 - CapsNet_loss: 0.0014 - Generator_loss: 1.7987 - CapsNet_accuracy: 0.9986 - val_loss: 0.3879 - val_CapsNet_loss: 0.0376 - val_Generator_loss: 0.8936 - val_CapsNet_accuracy: 0.9470\n",
      "Epoch 82/200\n",
      "1517/1518 [============================>.] - ETA: 0s - loss: 0.7027 - CapsNet_loss: 0.0013 - Generator_loss: 1.7891 - CapsNet_accuracy: 0.9987\n",
      "Epoch 00082: val_CapsNet_accuracy did not improve from 0.97658\n",
      "1518/1518 [==============================] - 21s 14ms/step - loss: 0.7033 - CapsNet_loss: 0.0013 - Generator_loss: 1.7908 - CapsNet_accuracy: 0.9987 - val_loss: 0.4056 - val_CapsNet_loss: 0.0523 - val_Generator_loss: 0.9013 - val_CapsNet_accuracy: 0.9289\n",
      "Epoch 83/200\n",
      "1517/1518 [============================>.] - ETA: 0s - loss: 0.6818 - CapsNet_loss: 0.0012 - Generator_loss: 1.7363 - CapsNet_accuracy: 0.9991\n",
      "Epoch 00083: val_CapsNet_accuracy did not improve from 0.97658\n",
      "1518/1518 [==============================] - 21s 14ms/step - loss: 0.6816 - CapsNet_loss: 0.0012 - Generator_loss: 1.7356 - CapsNet_accuracy: 0.9991 - val_loss: 0.3740 - val_CapsNet_loss: 0.0259 - val_Generator_loss: 0.8880 - val_CapsNet_accuracy: 0.9653\n",
      "Epoch 84/200\n",
      "1515/1518 [============================>.] - ETA: 0s - loss: 0.7098 - CapsNet_loss: 0.0011 - Generator_loss: 1.8079 - CapsNet_accuracy: 0.9990\n",
      "Epoch 00084: val_CapsNet_accuracy did not improve from 0.97658\n",
      "1518/1518 [==============================] - 21s 14ms/step - loss: 0.7095 - CapsNet_loss: 0.0011 - Generator_loss: 1.8072 - CapsNet_accuracy: 0.9990 - val_loss: 0.3691 - val_CapsNet_loss: 0.0224 - val_Generator_loss: 0.8844 - val_CapsNet_accuracy: 0.9699\n",
      "Epoch 85/200\n",
      "1514/1518 [============================>.] - ETA: 0s - loss: 0.7109 - CapsNet_loss: 0.0012 - Generator_loss: 1.8107 - CapsNet_accuracy: 0.9991\n",
      "Epoch 00085: val_CapsNet_accuracy did not improve from 0.97658\n",
      "1518/1518 [==============================] - 21s 14ms/step - loss: 0.7111 - CapsNet_loss: 0.0012 - Generator_loss: 1.8111 - CapsNet_accuracy: 0.9991 - val_loss: 0.3763 - val_CapsNet_loss: 0.0281 - val_Generator_loss: 0.8883 - val_CapsNet_accuracy: 0.9607\n",
      "Epoch 86/200\n",
      "1517/1518 [============================>.] - ETA: 0s - loss: 0.6933 - CapsNet_loss: 0.0014 - Generator_loss: 1.7651 - CapsNet_accuracy: 0.9986\n",
      "Epoch 00086: val_CapsNet_accuracy did not improve from 0.97658\n",
      "1518/1518 [==============================] - 21s 14ms/step - loss: 0.6943 - CapsNet_loss: 0.0014 - Generator_loss: 1.7677 - CapsNet_accuracy: 0.9986 - val_loss: 0.3743 - val_CapsNet_loss: 0.0258 - val_Generator_loss: 0.8891 - val_CapsNet_accuracy: 0.9649\n",
      "Epoch 87/200\n",
      "1514/1518 [============================>.] - ETA: 0s - loss: 0.6861 - CapsNet_loss: 0.0012 - Generator_loss: 1.7473 - CapsNet_accuracy: 0.9991\n",
      "Epoch 00087: val_CapsNet_accuracy did not improve from 0.97658\n",
      "1518/1518 [==============================] - 21s 14ms/step - loss: 0.6879 - CapsNet_loss: 0.0012 - Generator_loss: 1.7518 - CapsNet_accuracy: 0.9991 - val_loss: 0.3736 - val_CapsNet_loss: 0.0211 - val_Generator_loss: 0.8992 - val_CapsNet_accuracy: 0.9710\n",
      "Epoch 88/200\n",
      "1514/1518 [============================>.] - ETA: 0s - loss: 0.6839 - CapsNet_loss: 0.0011 - Generator_loss: 1.7418 - CapsNet_accuracy: 0.9990\n",
      "Epoch 00088: val_CapsNet_accuracy did not improve from 0.97658\n",
      "1518/1518 [==============================] - 21s 14ms/step - loss: 0.6846 - CapsNet_loss: 0.0011 - Generator_loss: 1.7436 - CapsNet_accuracy: 0.9990 - val_loss: 0.3834 - val_CapsNet_loss: 0.0314 - val_Generator_loss: 0.8981 - val_CapsNet_accuracy: 0.9568\n",
      "Epoch 89/200\n",
      "1518/1518 [==============================] - ETA: 0s - loss: 0.7052 - CapsNet_loss: 0.0012 - Generator_loss: 1.7958 - CapsNet_accuracy: 0.9990\n",
      "Epoch 00089: val_CapsNet_accuracy did not improve from 0.97658\n",
      "1518/1518 [==============================] - 21s 14ms/step - loss: 0.7052 - CapsNet_loss: 0.0012 - Generator_loss: 1.7958 - CapsNet_accuracy: 0.9990 - val_loss: 0.3891 - val_CapsNet_loss: 0.0400 - val_Generator_loss: 0.8904 - val_CapsNet_accuracy: 0.9452\n",
      "Epoch 90/200\n",
      "1516/1518 [============================>.] - ETA: 0s - loss: 0.6805 - CapsNet_loss: 0.0012 - Generator_loss: 1.7329 - CapsNet_accuracy: 0.9989\n",
      "Epoch 00090: val_CapsNet_accuracy did not improve from 0.97658\n",
      "1518/1518 [==============================] - 21s 14ms/step - loss: 0.6807 - CapsNet_loss: 0.0012 - Generator_loss: 1.7335 - CapsNet_accuracy: 0.9989 - val_loss: 0.3639 - val_CapsNet_loss: 0.0178 - val_Generator_loss: 0.8829 - val_CapsNet_accuracy: 0.9760\n",
      "Epoch 91/200\n",
      "1517/1518 [============================>.] - ETA: 0s - loss: 0.7119 - CapsNet_loss: 0.0012 - Generator_loss: 1.8131 - CapsNet_accuracy: 0.9990\n",
      "Epoch 00091: val_CapsNet_accuracy did not improve from 0.97658\n",
      "1518/1518 [==============================] - 21s 14ms/step - loss: 0.7121 - CapsNet_loss: 0.0012 - Generator_loss: 1.8136 - CapsNet_accuracy: 0.9990 - val_loss: 0.3742 - val_CapsNet_loss: 0.0246 - val_Generator_loss: 0.8920 - val_CapsNet_accuracy: 0.9667\n",
      "Epoch 92/200\n",
      "1518/1518 [==============================] - ETA: 0s - loss: 0.7079 - CapsNet_loss: 0.0012 - Generator_loss: 1.8028 - CapsNet_accuracy: 0.9988\n",
      "Epoch 00092: val_CapsNet_accuracy did not improve from 0.97658\n",
      "1518/1518 [==============================] - 21s 14ms/step - loss: 0.7079 - CapsNet_loss: 0.0012 - Generator_loss: 1.8028 - CapsNet_accuracy: 0.9988 - val_loss: 0.3815 - val_CapsNet_loss: 0.0320 - val_Generator_loss: 0.8917 - val_CapsNet_accuracy: 0.9566\n",
      "Epoch 93/200\n",
      "1516/1518 [============================>.] - ETA: 0s - loss: 0.6939 - CapsNet_loss: 0.0010 - Generator_loss: 1.7676 - CapsNet_accuracy: 0.9991\n",
      "Epoch 00093: val_CapsNet_accuracy did not improve from 0.97658\n",
      "1518/1518 [==============================] - 21s 14ms/step - loss: 0.6936 - CapsNet_loss: 0.0010 - Generator_loss: 1.7668 - CapsNet_accuracy: 0.9991 - val_loss: 0.3735 - val_CapsNet_loss: 0.0240 - val_Generator_loss: 0.8916 - val_CapsNet_accuracy: 0.9672\n",
      "Epoch 94/200\n",
      "1514/1518 [============================>.] - ETA: 0s - loss: 0.7033 - CapsNet_loss: 0.0012 - Generator_loss: 1.7909 - CapsNet_accuracy: 0.9990\n",
      "Epoch 00094: val_CapsNet_accuracy did not improve from 0.97658\n",
      "1518/1518 [==============================] - 21s 14ms/step - loss: 0.7029 - CapsNet_loss: 0.0012 - Generator_loss: 1.7900 - CapsNet_accuracy: 0.9990 - val_loss: 0.3778 - val_CapsNet_loss: 0.0295 - val_Generator_loss: 0.8885 - val_CapsNet_accuracy: 0.9583\n",
      "Epoch 95/200\n",
      "1516/1518 [============================>.] - ETA: 0s - loss: 0.7000 - CapsNet_loss: 7.6898e-04 - Generator_loss: 1.7838 - CapsNet_accuracy: 0.9995\n",
      "Epoch 00095: val_CapsNet_accuracy did not improve from 0.97658\n",
      "1518/1518 [==============================] - 21s 14ms/step - loss: 0.7004 - CapsNet_loss: 7.6890e-04 - Generator_loss: 1.7848 - CapsNet_accuracy: 0.9995 - val_loss: 0.3791 - val_CapsNet_loss: 0.0295 - val_Generator_loss: 0.8918 - val_CapsNet_accuracy: 0.9580\n",
      "Epoch 96/200\n",
      "1517/1518 [============================>.] - ETA: 0s - loss: 0.6673 - CapsNet_loss: 9.3812e-04 - Generator_loss: 1.7000 - CapsNet_accuracy: 0.9992\n",
      "Epoch 00096: val_CapsNet_accuracy did not improve from 0.97658\n",
      "1518/1518 [==============================] - 21s 14ms/step - loss: 0.6671 - CapsNet_loss: 9.3756e-04 - Generator_loss: 1.6995 - CapsNet_accuracy: 0.9992 - val_loss: 0.3709 - val_CapsNet_loss: 0.0231 - val_Generator_loss: 0.8873 - val_CapsNet_accuracy: 0.9660\n",
      "Epoch 97/200\n",
      "1514/1518 [============================>.] - ETA: 0s - loss: 0.6821 - CapsNet_loss: 0.0010 - Generator_loss: 1.7374 - CapsNet_accuracy: 0.9993\n",
      "Epoch 00097: val_CapsNet_accuracy did not improve from 0.97658\n",
      "1518/1518 [==============================] - 21s 14ms/step - loss: 0.6821 - CapsNet_loss: 0.0010 - Generator_loss: 1.7375 - CapsNet_accuracy: 0.9993 - val_loss: 0.3652 - val_CapsNet_loss: 0.0189 - val_Generator_loss: 0.8835 - val_CapsNet_accuracy: 0.9742\n",
      "Epoch 98/200\n",
      "1516/1518 [============================>.] - ETA: 0s - loss: 0.6952 - CapsNet_loss: 0.0010 - Generator_loss: 1.7709 - CapsNet_accuracy: 0.9991\n",
      "Epoch 00098: val_CapsNet_accuracy did not improve from 0.97658\n",
      "1518/1518 [==============================] - 21s 14ms/step - loss: 0.6948 - CapsNet_loss: 0.0010 - Generator_loss: 1.7699 - CapsNet_accuracy: 0.9991 - val_loss: 0.3815 - val_CapsNet_loss: 0.0332 - val_Generator_loss: 0.8884 - val_CapsNet_accuracy: 0.9543\n",
      "Epoch 99/200\n",
      "1518/1518 [==============================] - ETA: 0s - loss: 0.6854 - CapsNet_loss: 9.7734e-04 - Generator_loss: 1.7460 - CapsNet_accuracy: 0.9992\n",
      "Epoch 00099: val_CapsNet_accuracy did not improve from 0.97658\n",
      "1518/1518 [==============================] - 21s 14ms/step - loss: 0.6854 - CapsNet_loss: 9.7734e-04 - Generator_loss: 1.7460 - CapsNet_accuracy: 0.9992 - val_loss: 0.3882 - val_CapsNet_loss: 0.0368 - val_Generator_loss: 0.8966 - val_CapsNet_accuracy: 0.9512\n",
      "Epoch 100/200\n",
      "1517/1518 [============================>.] - ETA: 0s - loss: 0.7080 - CapsNet_loss: 0.0010 - Generator_loss: 1.8034 - CapsNet_accuracy: 0.9991\n",
      "Epoch 00100: val_CapsNet_accuracy improved from 0.97658 to 0.97823, saving model to /home/vitto/Documents/HyperCapsuleNet/bin/efficient_capsnet_smallNorrb.h5\n",
      "1518/1518 [==============================] - 21s 14ms/step - loss: 0.7092 - CapsNet_loss: 0.0010 - Generator_loss: 1.8067 - CapsNet_accuracy: 0.9991 - val_loss: 0.3615 - val_CapsNet_loss: 0.0162 - val_Generator_loss: 0.8806 - val_CapsNet_accuracy: 0.9782\n",
      "Epoch 101/200\n",
      "1518/1518 [==============================] - ETA: 0s - loss: 0.6991 - CapsNet_loss: 9.2976e-04 - Generator_loss: 1.7810 - CapsNet_accuracy: 0.9991\n",
      "Epoch 00101: val_CapsNet_accuracy did not improve from 0.97823\n",
      "1518/1518 [==============================] - 21s 14ms/step - loss: 0.6991 - CapsNet_loss: 9.2976e-04 - Generator_loss: 1.7810 - CapsNet_accuracy: 0.9991 - val_loss: 0.3722 - val_CapsNet_loss: 0.0246 - val_Generator_loss: 0.8867 - val_CapsNet_accuracy: 0.9660\n",
      "Epoch 102/200\n"
     ]
    },
    {
     "name": "stdout",
     "output_type": "stream",
     "text": [
      "1515/1518 [============================>.] - ETA: 0s - loss: 0.6918 - CapsNet_loss: 9.0286e-04 - Generator_loss: 1.7625 - CapsNet_accuracy: 0.9994\n",
      "Epoch 00102: val_CapsNet_accuracy did not improve from 0.97823\n",
      "1518/1518 [==============================] - 21s 14ms/step - loss: 0.6912 - CapsNet_loss: 9.0134e-04 - Generator_loss: 1.7610 - CapsNet_accuracy: 0.9994 - val_loss: 0.3681 - val_CapsNet_loss: 0.0224 - val_Generator_loss: 0.8819 - val_CapsNet_accuracy: 0.9695\n",
      "Epoch 103/200\n",
      "1518/1518 [==============================] - ETA: 0s - loss: 0.6995 - CapsNet_loss: 8.5889e-04 - Generator_loss: 1.7823 - CapsNet_accuracy: 0.9994\n",
      "Epoch 00103: val_CapsNet_accuracy did not improve from 0.97823\n",
      "1518/1518 [==============================] - 21s 14ms/step - loss: 0.6995 - CapsNet_loss: 8.5889e-04 - Generator_loss: 1.7823 - CapsNet_accuracy: 0.9994 - val_loss: 0.3760 - val_CapsNet_loss: 0.0288 - val_Generator_loss: 0.8858 - val_CapsNet_accuracy: 0.9621\n",
      "Epoch 104/200\n",
      "1514/1518 [============================>.] - ETA: 0s - loss: 0.7000 - CapsNet_loss: 0.0012 - Generator_loss: 1.7828 - CapsNet_accuracy: 0.9988\n",
      "Epoch 00104: val_CapsNet_accuracy did not improve from 0.97823\n",
      "1518/1518 [==============================] - 21s 14ms/step - loss: 0.6996 - CapsNet_loss: 0.0012 - Generator_loss: 1.7817 - CapsNet_accuracy: 0.9988 - val_loss: 0.3720 - val_CapsNet_loss: 0.0248 - val_Generator_loss: 0.8857 - val_CapsNet_accuracy: 0.9664\n",
      "Epoch 105/200\n",
      "1518/1518 [==============================] - ETA: 0s - loss: 0.6916 - CapsNet_loss: 9.1183e-04 - Generator_loss: 1.7619 - CapsNet_accuracy: 0.9991\n",
      "Epoch 00105: val_CapsNet_accuracy did not improve from 0.97823\n",
      "1518/1518 [==============================] - 21s 14ms/step - loss: 0.6916 - CapsNet_loss: 9.1183e-04 - Generator_loss: 1.7619 - CapsNet_accuracy: 0.9991 - val_loss: 0.3770 - val_CapsNet_loss: 0.0263 - val_Generator_loss: 0.8946 - val_CapsNet_accuracy: 0.9634\n",
      "Epoch 106/200\n",
      "1514/1518 [============================>.] - ETA: 0s - loss: 0.7178 - CapsNet_loss: 8.2919e-04 - Generator_loss: 1.8290 - CapsNet_accuracy: 0.9995\n",
      "Epoch 00106: val_CapsNet_accuracy did not improve from 0.97823\n",
      "1518/1518 [==============================] - 21s 14ms/step - loss: 0.7175 - CapsNet_loss: 8.2848e-04 - Generator_loss: 1.8282 - CapsNet_accuracy: 0.9995 - val_loss: 0.3938 - val_CapsNet_loss: 0.0440 - val_Generator_loss: 0.8923 - val_CapsNet_accuracy: 0.9423\n",
      "Epoch 107/200\n",
      "1517/1518 [============================>.] - ETA: 0s - loss: 0.6829 - CapsNet_loss: 9.3989e-04 - Generator_loss: 1.7396 - CapsNet_accuracy: 0.9990\n",
      "Epoch 00107: val_CapsNet_accuracy did not improve from 0.97823\n",
      "1518/1518 [==============================] - 21s 14ms/step - loss: 0.6833 - CapsNet_loss: 9.3929e-04 - Generator_loss: 1.7407 - CapsNet_accuracy: 0.9990 - val_loss: 0.3654 - val_CapsNet_loss: 0.0179 - val_Generator_loss: 0.8863 - val_CapsNet_accuracy: 0.9739\n",
      "Epoch 108/200\n",
      "1518/1518 [==============================] - ETA: 0s - loss: 0.6940 - CapsNet_loss: 8.5136e-04 - Generator_loss: 1.7683 - CapsNet_accuracy: 0.9993\n",
      "Epoch 00108: val_CapsNet_accuracy did not improve from 0.97823\n",
      "1518/1518 [==============================] - 21s 14ms/step - loss: 0.6940 - CapsNet_loss: 8.5136e-04 - Generator_loss: 1.7683 - CapsNet_accuracy: 0.9993 - val_loss: 0.3690 - val_CapsNet_loss: 0.0227 - val_Generator_loss: 0.8835 - val_CapsNet_accuracy: 0.9695\n",
      "Epoch 109/200\n",
      "1518/1518 [==============================] - ETA: 0s - loss: 0.7033 - CapsNet_loss: 7.4048e-04 - Generator_loss: 1.7922 - CapsNet_accuracy: 0.9994\n",
      "Epoch 00109: val_CapsNet_accuracy did not improve from 0.97823\n",
      "1518/1518 [==============================] - 21s 14ms/step - loss: 0.7033 - CapsNet_loss: 7.4048e-04 - Generator_loss: 1.7922 - CapsNet_accuracy: 0.9994 - val_loss: 0.3661 - val_CapsNet_loss: 0.0180 - val_Generator_loss: 0.8880 - val_CapsNet_accuracy: 0.9758\n",
      "Epoch 110/200\n",
      "1515/1518 [============================>.] - ETA: 0s - loss: 0.6771 - CapsNet_loss: 9.1906e-04 - Generator_loss: 1.7249 - CapsNet_accuracy: 0.9993\n",
      "Epoch 00110: val_CapsNet_accuracy did not improve from 0.97823\n",
      "1518/1518 [==============================] - 21s 14ms/step - loss: 0.6776 - CapsNet_loss: 9.1739e-04 - Generator_loss: 1.7263 - CapsNet_accuracy: 0.9993 - val_loss: 0.3657 - val_CapsNet_loss: 0.0200 - val_Generator_loss: 0.8820 - val_CapsNet_accuracy: 0.9727\n",
      "Epoch 111/200\n",
      "1516/1518 [============================>.] - ETA: 0s - loss: 0.6730 - CapsNet_loss: 9.2000e-04 - Generator_loss: 1.7144 - CapsNet_accuracy: 0.9993\n",
      "Epoch 00111: val_CapsNet_accuracy did not improve from 0.97823\n",
      "1518/1518 [==============================] - 21s 14ms/step - loss: 0.6739 - CapsNet_loss: 9.1883e-04 - Generator_loss: 1.7167 - CapsNet_accuracy: 0.9993 - val_loss: 0.3621 - val_CapsNet_loss: 0.0171 - val_Generator_loss: 0.8799 - val_CapsNet_accuracy: 0.9765\n",
      "Epoch 112/200\n",
      "1516/1518 [============================>.] - ETA: 0s - loss: 0.7119 - CapsNet_loss: 7.7712e-04 - Generator_loss: 1.8142 - CapsNet_accuracy: 0.9993\n",
      "Epoch 00112: val_CapsNet_accuracy did not improve from 0.97823\n",
      "1518/1518 [==============================] - 21s 14ms/step - loss: 0.7119 - CapsNet_loss: 7.7619e-04 - Generator_loss: 1.8141 - CapsNet_accuracy: 0.9993 - val_loss: 0.3777 - val_CapsNet_loss: 0.0295 - val_Generator_loss: 0.8883 - val_CapsNet_accuracy: 0.9591\n",
      "Epoch 113/200\n",
      "1515/1518 [============================>.] - ETA: 0s - loss: 0.6998 - CapsNet_loss: 9.0595e-04 - Generator_loss: 1.7828 - CapsNet_accuracy: 0.9990\n",
      "Epoch 00113: val_CapsNet_accuracy did not improve from 0.97823\n",
      "1518/1518 [==============================] - 21s 14ms/step - loss: 0.6989 - CapsNet_loss: 9.0431e-04 - Generator_loss: 1.7807 - CapsNet_accuracy: 0.9990 - val_loss: 0.3695 - val_CapsNet_loss: 0.0232 - val_Generator_loss: 0.8834 - val_CapsNet_accuracy: 0.9684\n",
      "Epoch 114/200\n",
      "1514/1518 [============================>.] - ETA: 0s - loss: 0.7096 - CapsNet_loss: 7.3806e-04 - Generator_loss: 1.8084 - CapsNet_accuracy: 0.9995\n",
      "Epoch 00114: val_CapsNet_accuracy did not improve from 0.97823\n",
      "1518/1518 [==============================] - 21s 14ms/step - loss: 0.7088 - CapsNet_loss: 7.3618e-04 - Generator_loss: 1.8063 - CapsNet_accuracy: 0.9995 - val_loss: 0.3719 - val_CapsNet_loss: 0.0246 - val_Generator_loss: 0.8861 - val_CapsNet_accuracy: 0.9665\n",
      "Epoch 115/200\n",
      "1514/1518 [============================>.] - ETA: 0s - loss: 0.6745 - CapsNet_loss: 7.3567e-04 - Generator_loss: 1.7189 - CapsNet_accuracy: 0.9993\n",
      "Epoch 00115: val_CapsNet_accuracy did not improve from 0.97823\n",
      "1518/1518 [==============================] - 21s 14ms/step - loss: 0.6748 - CapsNet_loss: 7.3376e-04 - Generator_loss: 1.7194 - CapsNet_accuracy: 0.9993 - val_loss: 0.3917 - val_CapsNet_loss: 0.0405 - val_Generator_loss: 0.8961 - val_CapsNet_accuracy: 0.9444\n",
      "Epoch 116/200\n",
      "1516/1518 [============================>.] - ETA: 0s - loss: 0.7012 - CapsNet_loss: 7.7504e-04 - Generator_loss: 1.7868 - CapsNet_accuracy: 0.9994\n",
      "Epoch 00116: val_CapsNet_accuracy did not improve from 0.97823\n",
      "1518/1518 [==============================] - 21s 14ms/step - loss: 0.7007 - CapsNet_loss: 7.7475e-04 - Generator_loss: 1.7856 - CapsNet_accuracy: 0.9994 - val_loss: 0.3732 - val_CapsNet_loss: 0.0257 - val_Generator_loss: 0.8865 - val_CapsNet_accuracy: 0.9631\n",
      "Epoch 117/200\n",
      "1516/1518 [============================>.] - ETA: 0s - loss: 0.7089 - CapsNet_loss: 6.7071e-04 - Generator_loss: 1.8068 - CapsNet_accuracy: 0.9996\n",
      "Epoch 00117: val_CapsNet_accuracy did not improve from 0.97823\n",
      "1518/1518 [==============================] - 21s 14ms/step - loss: 0.7084 - CapsNet_loss: 6.6984e-04 - Generator_loss: 1.8055 - CapsNet_accuracy: 0.9996 - val_loss: 0.3706 - val_CapsNet_loss: 0.0238 - val_Generator_loss: 0.8846 - val_CapsNet_accuracy: 0.9675\n",
      "Epoch 118/200\n",
      "1517/1518 [============================>.] - ETA: 0s - loss: 0.6823 - CapsNet_loss: 6.9598e-04 - Generator_loss: 1.7387 - CapsNet_accuracy: 0.9993\n",
      "Epoch 00118: val_CapsNet_accuracy did not improve from 0.97823\n",
      "1518/1518 [==============================] - 21s 14ms/step - loss: 0.6829 - CapsNet_loss: 6.9565e-04 - Generator_loss: 1.7404 - CapsNet_accuracy: 0.9993 - val_loss: 0.3689 - val_CapsNet_loss: 0.0220 - val_Generator_loss: 0.8848 - val_CapsNet_accuracy: 0.9696\n",
      "Epoch 119/200\n"
     ]
    },
    {
     "name": "stdout",
     "output_type": "stream",
     "text": [
      "1518/1518 [==============================] - ETA: 0s - loss: 0.7096 - CapsNet_loss: 8.2527e-04 - Generator_loss: 1.8081 - CapsNet_accuracy: 0.9993\n",
      "Epoch 00119: val_CapsNet_accuracy did not improve from 0.97823\n",
      "1518/1518 [==============================] - 21s 14ms/step - loss: 0.7096 - CapsNet_loss: 8.2527e-04 - Generator_loss: 1.8081 - CapsNet_accuracy: 0.9993 - val_loss: 0.3742 - val_CapsNet_loss: 0.0282 - val_Generator_loss: 0.8827 - val_CapsNet_accuracy: 0.9640\n",
      "Epoch 120/200\n",
      "1514/1518 [============================>.] - ETA: 0s - loss: 0.6949 - CapsNet_loss: 8.7624e-04 - Generator_loss: 1.7704 - CapsNet_accuracy: 0.9993\n",
      "Epoch 00120: val_CapsNet_accuracy did not improve from 0.97823\n",
      "1518/1518 [==============================] - 21s 14ms/step - loss: 0.6946 - CapsNet_loss: 8.7409e-04 - Generator_loss: 1.7696 - CapsNet_accuracy: 0.9993 - val_loss: 0.3745 - val_CapsNet_loss: 0.0267 - val_Generator_loss: 0.8871 - val_CapsNet_accuracy: 0.9624\n",
      "Epoch 121/200\n",
      "1516/1518 [============================>.] - ETA: 0s - loss: 0.7005 - CapsNet_loss: 6.9054e-04 - Generator_loss: 1.7852 - CapsNet_accuracy: 0.9994\n",
      "Epoch 00121: val_CapsNet_accuracy did not improve from 0.97823\n",
      "1518/1518 [==============================] - 21s 14ms/step - loss: 0.7009 - CapsNet_loss: 6.8966e-04 - Generator_loss: 1.7862 - CapsNet_accuracy: 0.9994 - val_loss: 0.3760 - val_CapsNet_loss: 0.0274 - val_Generator_loss: 0.8893 - val_CapsNet_accuracy: 0.9618\n",
      "Epoch 122/200\n",
      "1518/1518 [==============================] - ETA: 0s - loss: 0.7063 - CapsNet_loss: 8.1240e-04 - Generator_loss: 1.7997 - CapsNet_accuracy: 0.9991\n",
      "Epoch 00122: val_CapsNet_accuracy did not improve from 0.97823\n",
      "1518/1518 [==============================] - 21s 14ms/step - loss: 0.7063 - CapsNet_loss: 8.1240e-04 - Generator_loss: 1.7997 - CapsNet_accuracy: 0.9991 - val_loss: 0.3791 - val_CapsNet_loss: 0.0303 - val_Generator_loss: 0.8898 - val_CapsNet_accuracy: 0.9574\n",
      "Epoch 123/200\n",
      "1516/1518 [============================>.] - ETA: 0s - loss: 0.6962 - CapsNet_loss: 7.9869e-04 - Generator_loss: 1.7740 - CapsNet_accuracy: 0.9992\n",
      "Epoch 00123: val_CapsNet_accuracy did not improve from 0.97823\n",
      "1518/1518 [==============================] - 21s 14ms/step - loss: 0.6957 - CapsNet_loss: 7.9764e-04 - Generator_loss: 1.7726 - CapsNet_accuracy: 0.9992 - val_loss: 0.3790 - val_CapsNet_loss: 0.0309 - val_Generator_loss: 0.8880 - val_CapsNet_accuracy: 0.9566\n",
      "Epoch 124/200\n",
      "1514/1518 [============================>.] - ETA: 0s - loss: 0.7088 - CapsNet_loss: 7.5058e-04 - Generator_loss: 1.8061 - CapsNet_accuracy: 0.9995\n",
      "Epoch 00124: val_CapsNet_accuracy did not improve from 0.97823\n",
      "1518/1518 [==============================] - 21s 14ms/step - loss: 0.7074 - CapsNet_loss: 7.4874e-04 - Generator_loss: 1.8026 - CapsNet_accuracy: 0.9995 - val_loss: 0.3862 - val_CapsNet_loss: 0.0372 - val_Generator_loss: 0.8902 - val_CapsNet_accuracy: 0.9507\n",
      "Epoch 125/200\n",
      "1518/1518 [==============================] - ETA: 0s - loss: 0.6934 - CapsNet_loss: 6.2698e-04 - Generator_loss: 1.7672 - CapsNet_accuracy: 0.9995\n",
      "Epoch 00129: val_CapsNet_accuracy did not improve from 0.97823\n",
      "1518/1518 [==============================] - 21s 14ms/step - loss: 0.6934 - CapsNet_loss: 6.2698e-04 - Generator_loss: 1.7672 - CapsNet_accuracy: 0.9995 - val_loss: 0.3716 - val_CapsNet_loss: 0.0255 - val_Generator_loss: 0.8829 - val_CapsNet_accuracy: 0.9642\n",
      "Epoch 130/200\n",
      "1516/1518 [============================>.] - ETA: 0s - loss: 0.7177 - CapsNet_loss: 6.7575e-04 - Generator_loss: 1.8290 - CapsNet_accuracy: 0.9995\n",
      "Epoch 00130: val_CapsNet_accuracy did not improve from 0.97823\n",
      "1518/1518 [==============================] - 21s 14ms/step - loss: 0.7181 - CapsNet_loss: 6.7489e-04 - Generator_loss: 1.8302 - CapsNet_accuracy: 0.9995 - val_loss: 0.3929 - val_CapsNet_loss: 0.0435 - val_Generator_loss: 0.8914 - val_CapsNet_accuracy: 0.9380\n",
      "Epoch 131/200\n",
      "1514/1518 [============================>.] - ETA: 0s - loss: 0.6947 - CapsNet_loss: 5.5201e-04 - Generator_loss: 1.7708 - CapsNet_accuracy: 0.9998\n",
      "Epoch 00131: val_CapsNet_accuracy did not improve from 0.97823\n",
      "1518/1518 [==============================] - 21s 14ms/step - loss: 0.6943 - CapsNet_loss: 5.5115e-04 - Generator_loss: 1.7698 - CapsNet_accuracy: 0.9998 - val_loss: 0.3723 - val_CapsNet_loss: 0.0257 - val_Generator_loss: 0.8841 - val_CapsNet_accuracy: 0.9650\n",
      "Epoch 132/200\n",
      "1517/1518 [============================>.] - ETA: 0s - loss: 0.7019 - CapsNet_loss: 5.9934e-04 - Generator_loss: 1.7891 - CapsNet_accuracy: 0.9997\n",
      "Epoch 00132: val_CapsNet_accuracy did not improve from 0.97823\n",
      "1518/1518 [==============================] - 21s 14ms/step - loss: 0.7023 - CapsNet_loss: 5.9918e-04 - Generator_loss: 1.7900 - CapsNet_accuracy: 0.9997 - val_loss: 0.3811 - val_CapsNet_loss: 0.0327 - val_Generator_loss: 0.8887 - val_CapsNet_accuracy: 0.9553\n",
      "Epoch 133/200\n",
      "1516/1518 [============================>.] - ETA: 0s - loss: 0.6888 - CapsNet_loss: 6.0121e-04 - Generator_loss: 1.7557 - CapsNet_accuracy: 0.9995\n",
      "Epoch 00133: val_CapsNet_accuracy did not improve from 0.97823\n",
      "1518/1518 [==============================] - 21s 14ms/step - loss: 0.6891 - CapsNet_loss: 6.0044e-04 - Generator_loss: 1.7564 - CapsNet_accuracy: 0.9995 - val_loss: 0.3711 - val_CapsNet_loss: 0.0245 - val_Generator_loss: 0.8842 - val_CapsNet_accuracy: 0.9660\n",
      "Epoch 134/200\n",
      "1517/1518 [============================>.] - ETA: 0s - loss: 0.7045 - CapsNet_loss: 6.9655e-04 - Generator_loss: 1.7955 - CapsNet_accuracy: 0.9994\n",
      "Epoch 00134: val_CapsNet_accuracy did not improve from 0.97823\n",
      "1518/1518 [==============================] - 21s 14ms/step - loss: 0.7055 - CapsNet_loss: 6.9610e-04 - Generator_loss: 1.7979 - CapsNet_accuracy: 0.9994 - val_loss: 0.3612 - val_CapsNet_loss: 0.0167 - val_Generator_loss: 0.8787 - val_CapsNet_accuracy: 0.9767\n",
      "Epoch 135/200\n",
      "1516/1518 [============================>.] - ETA: 0s - loss: 0.6937 - CapsNet_loss: 7.1166e-04 - Generator_loss: 1.7678 - CapsNet_accuracy: 0.9995\n",
      "Epoch 00135: val_CapsNet_accuracy did not improve from 0.97823\n",
      "1518/1518 [==============================] - 21s 14ms/step - loss: 0.6946 - CapsNet_loss: 7.1083e-04 - Generator_loss: 1.7701 - CapsNet_accuracy: 0.9995 - val_loss: 0.3663 - val_CapsNet_loss: 0.0205 - val_Generator_loss: 0.8819 - val_CapsNet_accuracy: 0.9721\n",
      "Epoch 136/200\n",
      "1517/1518 [============================>.] - ETA: 0s - loss: 0.6946 - CapsNet_loss: 5.9607e-04 - Generator_loss: 1.7704 - CapsNet_accuracy: 0.9995\n",
      "Epoch 00136: val_CapsNet_accuracy did not improve from 0.97823\n",
      "1518/1518 [==============================] - 21s 14ms/step - loss: 0.6948 - CapsNet_loss: 5.9568e-04 - Generator_loss: 1.7709 - CapsNet_accuracy: 0.9995 - val_loss: 0.3669 - val_CapsNet_loss: 0.0211 - val_Generator_loss: 0.8821 - val_CapsNet_accuracy: 0.9710\n",
      "Epoch 137/200\n",
      "1516/1518 [============================>.] - ETA: 0s - loss: 0.7038 - CapsNet_loss: 6.6714e-04 - Generator_loss: 1.7937 - CapsNet_accuracy: 0.9994\n",
      "Epoch 00137: val_CapsNet_accuracy did not improve from 0.97823\n",
      "1518/1518 [==============================] - 21s 14ms/step - loss: 0.7031 - CapsNet_loss: 6.6634e-04 - Generator_loss: 1.7920 - CapsNet_accuracy: 0.9994 - val_loss: 0.3750 - val_CapsNet_loss: 0.0281 - val_Generator_loss: 0.8850 - val_CapsNet_accuracy: 0.9606\n",
      "Epoch 138/200\n",
      "1518/1518 [==============================] - ETA: 0s - loss: 0.7107 - CapsNet_loss: 5.8707e-04 - Generator_loss: 1.8115 - CapsNet_accuracy: 0.9994\n",
      "Epoch 00138: val_CapsNet_accuracy did not improve from 0.97823\n",
      "1518/1518 [==============================] - 21s 14ms/step - loss: 0.7107 - CapsNet_loss: 5.8707e-04 - Generator_loss: 1.8115 - CapsNet_accuracy: 0.9994 - val_loss: 0.3753 - val_CapsNet_loss: 0.0287 - val_Generator_loss: 0.8843 - val_CapsNet_accuracy: 0.9608\n",
      "Epoch 139/200\n",
      "1516/1518 [============================>.] - ETA: 0s - loss: 0.6725 - CapsNet_loss: 5.3620e-04 - Generator_loss: 1.7141 - CapsNet_accuracy: 0.9996\n",
      "Epoch 00139: val_CapsNet_accuracy did not improve from 0.97823\n",
      "1518/1518 [==============================] - 21s 14ms/step - loss: 0.6728 - CapsNet_loss: 5.3589e-04 - Generator_loss: 1.7149 - CapsNet_accuracy: 0.9996 - val_loss: 0.3740 - val_CapsNet_loss: 0.0263 - val_Generator_loss: 0.8870 - val_CapsNet_accuracy: 0.9660\n"
     ]
    },
    {
     "name": "stdout",
     "output_type": "stream",
     "text": [
      "Epoch 140/200\n",
      "1517/1518 [============================>.] - ETA: 0s - loss: 0.7068 - CapsNet_loss: 5.2150e-04 - Generator_loss: 1.8018 - CapsNet_accuracy: 0.9995\n",
      "Epoch 00140: val_CapsNet_accuracy did not improve from 0.97823\n",
      "1518/1518 [==============================] - 21s 14ms/step - loss: 0.7065 - CapsNet_loss: 5.2136e-04 - Generator_loss: 1.8009 - CapsNet_accuracy: 0.9995 - val_loss: 0.3844 - val_CapsNet_loss: 0.0366 - val_Generator_loss: 0.8873 - val_CapsNet_accuracy: 0.9471\n",
      "Epoch 141/200\n",
      "1516/1518 [============================>.] - ETA: 0s - loss: 0.6958 - CapsNet_loss: 7.2760e-04 - Generator_loss: 1.7731 - CapsNet_accuracy: 0.9993\n",
      "Epoch 00141: val_CapsNet_accuracy did not improve from 0.97823\n",
      "1518/1518 [==============================] - 21s 14ms/step - loss: 0.6955 - CapsNet_loss: 7.3316e-04 - Generator_loss: 1.7725 - CapsNet_accuracy: 0.9993 - val_loss: 0.3786 - val_CapsNet_loss: 0.0310 - val_Generator_loss: 0.8867 - val_CapsNet_accuracy: 0.9556\n",
      "Epoch 142/200\n",
      "1515/1518 [============================>.] - ETA: 0s - loss: 0.7068 - CapsNet_loss: 6.1494e-04 - Generator_loss: 1.8014 - CapsNet_accuracy: 0.9994\n",
      "Epoch 00142: val_CapsNet_accuracy did not improve from 0.97823\n",
      "1518/1518 [==============================] - 21s 14ms/step - loss: 0.7061 - CapsNet_loss: 6.1378e-04 - Generator_loss: 1.7998 - CapsNet_accuracy: 0.9994 - val_loss: 0.3790 - val_CapsNet_loss: 0.0317 - val_Generator_loss: 0.8860 - val_CapsNet_accuracy: 0.9560\n",
      "Epoch 143/200\n",
      "1515/1518 [============================>.] - ETA: 0s - loss: 0.7061 - CapsNet_loss: 6.2055e-04 - Generator_loss: 1.7996 - CapsNet_accuracy: 0.9995\n",
      "Epoch 00143: val_CapsNet_accuracy did not improve from 0.97823\n",
      "1518/1518 [==============================] - 21s 14ms/step - loss: 0.7058 - CapsNet_loss: 6.1938e-04 - Generator_loss: 1.7990 - CapsNet_accuracy: 0.9995 - val_loss: 0.3694 - val_CapsNet_loss: 0.0235 - val_Generator_loss: 0.8824 - val_CapsNet_accuracy: 0.9675\n",
      "Epoch 144/200\n",
      "1516/1518 [============================>.] - ETA: 0s - loss: 0.6889 - CapsNet_loss: 4.6299e-04 - Generator_loss: 1.7561 - CapsNet_accuracy: 0.9999\n",
      "Epoch 00144: val_CapsNet_accuracy did not improve from 0.97823\n",
      "1518/1518 [==============================] - 21s 14ms/step - loss: 0.6884 - CapsNet_loss: 4.6242e-04 - Generator_loss: 1.7551 - CapsNet_accuracy: 0.9999 - val_loss: 0.3745 - val_CapsNet_loss: 0.0267 - val_Generator_loss: 0.8872 - val_CapsNet_accuracy: 0.9631\n",
      "Epoch 145/200\n",
      "1514/1518 [============================>.] - ETA: 0s - loss: 0.6686 - CapsNet_loss: 6.5448e-04 - Generator_loss: 1.7040 - CapsNet_accuracy: 0.9995\n",
      "Epoch 00145: val_CapsNet_accuracy did not improve from 0.97823\n",
      "1518/1518 [==============================] - 21s 14ms/step - loss: 0.6694 - CapsNet_loss: 6.5287e-04 - Generator_loss: 1.7059 - CapsNet_accuracy: 0.9995 - val_loss: 0.3765 - val_CapsNet_loss: 0.0276 - val_Generator_loss: 0.8900 - val_CapsNet_accuracy: 0.9626\n",
      "Epoch 146/200\n",
      "1518/1518 [==============================] - ETA: 0s - loss: 0.6706 - CapsNet_loss: 5.9779e-04 - Generator_loss: 1.7092 - CapsNet_accuracy: 0.9996\n",
      "Epoch 00146: val_CapsNet_accuracy did not improve from 0.97823\n",
      "1518/1518 [==============================] - 21s 14ms/step - loss: 0.6706 - CapsNet_loss: 5.9779e-04 - Generator_loss: 1.7092 - CapsNet_accuracy: 0.9996 - val_loss: 0.3728 - val_CapsNet_loss: 0.0252 - val_Generator_loss: 0.8867 - val_CapsNet_accuracy: 0.9651\n",
      "Epoch 147/200\n",
      "1516/1518 [============================>.] - ETA: 0s - loss: 0.6891 - CapsNet_loss: 6.9513e-04 - Generator_loss: 1.7562 - CapsNet_accuracy: 0.9994\n",
      "Epoch 00147: val_CapsNet_accuracy did not improve from 0.97823\n",
      "1518/1518 [==============================] - 21s 14ms/step - loss: 0.6894 - CapsNet_loss: 6.9451e-04 - Generator_loss: 1.7570 - CapsNet_accuracy: 0.9994 - val_loss: 0.3660 - val_CapsNet_loss: 0.0196 - val_Generator_loss: 0.8837 - val_CapsNet_accuracy: 0.9738\n",
      "Epoch 148/200\n",
      "1518/1518 [==============================] - ETA: 0s - loss: 0.6879 - CapsNet_loss: 6.5270e-04 - Generator_loss: 1.7532 - CapsNet_accuracy: 0.9995\n",
      "Epoch 00148: val_CapsNet_accuracy did not improve from 0.97823\n",
      "1518/1518 [==============================] - 21s 14ms/step - loss: 0.6879 - CapsNet_loss: 6.5270e-04 - Generator_loss: 1.7532 - CapsNet_accuracy: 0.9995 - val_loss: 0.3823 - val_CapsNet_loss: 0.0337 - val_Generator_loss: 0.8894 - val_CapsNet_accuracy: 0.9531\n",
      "Epoch 149/200\n",
      "1516/1518 [============================>.] - ETA: 0s - loss: 0.6910 - CapsNet_loss: 5.5901e-04 - Generator_loss: 1.7614 - CapsNet_accuracy: 0.9995\n",
      "Epoch 00149: val_CapsNet_accuracy did not improve from 0.97823\n",
      "1518/1518 [==============================] - 21s 14ms/step - loss: 0.6907 - CapsNet_loss: 5.5831e-04 - Generator_loss: 1.7607 - CapsNet_accuracy: 0.9995 - val_loss: 0.3699 - val_CapsNet_loss: 0.0239 - val_Generator_loss: 0.8828 - val_CapsNet_accuracy: 0.9683\n",
      "Epoch 150/200\n",
      "1518/1518 [==============================] - ETA: 0s - loss: 0.7116 - CapsNet_loss: 4.7649e-04 - Generator_loss: 1.8140 - CapsNet_accuracy: 0.9997\n",
      "Epoch 00150: val_CapsNet_accuracy did not improve from 0.97823\n",
      "1518/1518 [==============================] - 21s 14ms/step - loss: 0.7116 - CapsNet_loss: 4.7649e-04 - Generator_loss: 1.8140 - CapsNet_accuracy: 0.9997 - val_loss: 0.3708 - val_CapsNet_loss: 0.0249 - val_Generator_loss: 0.8823 - val_CapsNet_accuracy: 0.9659\n",
      "Epoch 151/200\n",
      "1516/1518 [============================>.] - ETA: 0s - loss: 0.6797 - CapsNet_loss: 4.5268e-04 - Generator_loss: 1.7328 - CapsNet_accuracy: 0.9997\n",
      "Epoch 00151: val_CapsNet_accuracy did not improve from 0.97823\n",
      "1518/1518 [==============================] - 21s 14ms/step - loss: 0.6795 - CapsNet_loss: 4.5225e-04 - Generator_loss: 1.7323 - CapsNet_accuracy: 0.9997 - val_loss: 0.3664 - val_CapsNet_loss: 0.0213 - val_Generator_loss: 0.8805 - val_CapsNet_accuracy: 0.9709\n",
      "Epoch 152/200\n",
      "1517/1518 [============================>.] - ETA: 0s - loss: 0.6871 - CapsNet_loss: 6.5110e-04 - Generator_loss: 1.7511 - CapsNet_accuracy: 0.9992\n",
      "Epoch 00152: val_CapsNet_accuracy did not improve from 0.97823\n",
      "1518/1518 [==============================] - 21s 14ms/step - loss: 0.6871 - CapsNet_loss: 6.5071e-04 - Generator_loss: 1.7511 - CapsNet_accuracy: 0.9992 - val_loss: 0.3703 - val_CapsNet_loss: 0.0229 - val_Generator_loss: 0.8863 - val_CapsNet_accuracy: 0.9687\n",
      "Epoch 153/200\n",
      "1517/1518 [============================>.] - ETA: 0s - loss: 0.6760 - CapsNet_loss: 4.7554e-04 - Generator_loss: 1.7234 - CapsNet_accuracy: 0.9997\n",
      "Epoch 00153: val_CapsNet_accuracy did not improve from 0.97823\n",
      "1518/1518 [==============================] - 21s 14ms/step - loss: 0.6767 - CapsNet_loss: 4.7528e-04 - Generator_loss: 1.7250 - CapsNet_accuracy: 0.9997 - val_loss: 0.3652 - val_CapsNet_loss: 0.0199 - val_Generator_loss: 0.8810 - val_CapsNet_accuracy: 0.9739\n",
      "Epoch 154/200\n",
      "1515/1518 [============================>.] - ETA: 0s - loss: 0.6740 - CapsNet_loss: 4.5018e-04 - Generator_loss: 1.7183 - CapsNet_accuracy: 0.9998\n",
      "Epoch 00154: val_CapsNet_accuracy did not improve from 0.97823\n",
      "1518/1518 [==============================] - 21s 14ms/step - loss: 0.6734 - CapsNet_loss: 4.4941e-04 - Generator_loss: 1.7167 - CapsNet_accuracy: 0.9998 - val_loss: 0.3749 - val_CapsNet_loss: 0.0283 - val_Generator_loss: 0.8840 - val_CapsNet_accuracy: 0.9615\n",
      "Epoch 155/200\n",
      "1516/1518 [============================>.] - ETA: 0s - loss: 0.7035 - CapsNet_loss: 4.9526e-04 - Generator_loss: 1.7934 - CapsNet_accuracy: 0.9995\n",
      "Epoch 00155: val_CapsNet_accuracy did not improve from 0.97823\n",
      "1518/1518 [==============================] - 21s 14ms/step - loss: 0.7029 - CapsNet_loss: 5.0365e-04 - Generator_loss: 1.7919 - CapsNet_accuracy: 0.9995 - val_loss: 0.3623 - val_CapsNet_loss: 0.0183 - val_Generator_loss: 0.8776 - val_CapsNet_accuracy: 0.9749\n",
      "Epoch 156/200\n",
      "1515/1518 [============================>.] - ETA: 0s - loss: 0.6915 - CapsNet_loss: 5.6506e-04 - Generator_loss: 1.7626 - CapsNet_accuracy: 0.9995\n",
      "Epoch 00156: val_CapsNet_accuracy did not improve from 0.97823\n",
      "1518/1518 [==============================] - 21s 14ms/step - loss: 0.6907 - CapsNet_loss: 5.6399e-04 - Generator_loss: 1.7605 - CapsNet_accuracy: 0.9995 - val_loss: 0.3713 - val_CapsNet_loss: 0.0253 - val_Generator_loss: 0.8827 - val_CapsNet_accuracy: 0.9668\n"
     ]
    },
    {
     "name": "stdout",
     "output_type": "stream",
     "text": [
      "Epoch 157/200\n",
      "1514/1518 [============================>.] - ETA: 0s - loss: 0.6841 - CapsNet_loss: 4.3642e-04 - Generator_loss: 1.7440 - CapsNet_accuracy: 0.9998\n",
      "Epoch 00157: val_CapsNet_accuracy did not improve from 0.97823\n",
      "1518/1518 [==============================] - 21s 14ms/step - loss: 0.6838 - CapsNet_loss: 4.3593e-04 - Generator_loss: 1.7433 - CapsNet_accuracy: 0.9998 - val_loss: 0.3658 - val_CapsNet_loss: 0.0197 - val_Generator_loss: 0.8830 - val_CapsNet_accuracy: 0.9738\n",
      "Epoch 158/200\n",
      "1515/1518 [============================>.] - ETA: 0s - loss: 0.6772 - CapsNet_loss: 4.7352e-04 - Generator_loss: 1.7264 - CapsNet_accuracy: 0.9996\n",
      "Epoch 00158: val_CapsNet_accuracy did not improve from 0.97823\n",
      "1518/1518 [==============================] - 21s 14ms/step - loss: 0.6776 - CapsNet_loss: 4.7281e-04 - Generator_loss: 1.7273 - CapsNet_accuracy: 0.9996 - val_loss: 0.3799 - val_CapsNet_loss: 0.0325 - val_Generator_loss: 0.8863 - val_CapsNet_accuracy: 0.9552\n",
      "Epoch 159/200\n",
      "1517/1518 [============================>.] - ETA: 0s - loss: 0.7060 - CapsNet_loss: 4.5840e-04 - Generator_loss: 1.7998 - CapsNet_accuracy: 0.9998\n",
      "Epoch 00159: val_CapsNet_accuracy did not improve from 0.97823\n",
      "1518/1518 [==============================] - 21s 14ms/step - loss: 0.7059 - CapsNet_loss: 4.5812e-04 - Generator_loss: 1.7995 - CapsNet_accuracy: 0.9998 - val_loss: 0.3815 - val_CapsNet_loss: 0.0329 - val_Generator_loss: 0.8893 - val_CapsNet_accuracy: 0.9538\n",
      "Epoch 160/200\n",
      "1516/1518 [============================>.] - ETA: 0s - loss: 0.6984 - CapsNet_loss: 5.5395e-04 - Generator_loss: 1.7801 - CapsNet_accuracy: 0.9995\n",
      "Epoch 00160: val_CapsNet_accuracy did not improve from 0.97823\n",
      "1518/1518 [==============================] - 21s 14ms/step - loss: 0.6977 - CapsNet_loss: 5.5324e-04 - Generator_loss: 1.7785 - CapsNet_accuracy: 0.9995 - val_loss: 0.3676 - val_CapsNet_loss: 0.0214 - val_Generator_loss: 0.8833 - val_CapsNet_accuracy: 0.9722\n",
      "Epoch 161/200\n",
      "1516/1518 [============================>.] - ETA: 0s - loss: 0.6728 - CapsNet_loss: 4.4839e-04 - Generator_loss: 1.7151 - CapsNet_accuracy: 0.9997\n",
      "Epoch 00161: val_CapsNet_accuracy did not improve from 0.97823\n",
      "1518/1518 [==============================] - 21s 14ms/step - loss: 0.6723 - CapsNet_loss: 4.4791e-04 - Generator_loss: 1.7140 - CapsNet_accuracy: 0.9997 - val_loss: 0.3683 - val_CapsNet_loss: 0.0218 - val_Generator_loss: 0.8841 - val_CapsNet_accuracy: 0.9707\n",
      "Epoch 162/200\n",
      "1515/1518 [============================>.] - ETA: 0s - loss: 0.6840 - CapsNet_loss: 4.7711e-04 - Generator_loss: 1.7437 - CapsNet_accuracy: 0.9996\n",
      "Epoch 00162: val_CapsNet_accuracy did not improve from 0.97823\n",
      "1518/1518 [==============================] - 21s 14ms/step - loss: 0.6838 - CapsNet_loss: 4.7633e-04 - Generator_loss: 1.7432 - CapsNet_accuracy: 0.9996 - val_loss: 0.3768 - val_CapsNet_loss: 0.0298 - val_Generator_loss: 0.8852 - val_CapsNet_accuracy: 0.9597\n",
      "Epoch 163/200\n",
      "1516/1518 [============================>.] - ETA: 0s - loss: 0.7008 - CapsNet_loss: 6.5509e-04 - Generator_loss: 1.7862 - CapsNet_accuracy: 0.9992\n",
      "Epoch 00163: val_CapsNet_accuracy did not improve from 0.97823\n",
      "1518/1518 [==============================] - 21s 14ms/step - loss: 0.7013 - CapsNet_loss: 6.5445e-04 - Generator_loss: 1.7874 - CapsNet_accuracy: 0.9992 - val_loss: 0.3756 - val_CapsNet_loss: 0.0274 - val_Generator_loss: 0.8882 - val_CapsNet_accuracy: 0.9630\n",
      "Epoch 164/200\n",
      "1518/1518 [==============================] - ETA: 0s - loss: 0.6813 - CapsNet_loss: 4.2889e-04 - Generator_loss: 1.7369 - CapsNet_accuracy: 0.9997\n",
      "Epoch 00164: val_CapsNet_accuracy did not improve from 0.97823\n",
      "1518/1518 [==============================] - 21s 14ms/step - loss: 0.6813 - CapsNet_loss: 4.2889e-04 - Generator_loss: 1.7369 - CapsNet_accuracy: 0.9997 - val_loss: 0.3733 - val_CapsNet_loss: 0.0248 - val_Generator_loss: 0.8891 - val_CapsNet_accuracy: 0.9668\n",
      "Epoch 165/200\n",
      "1516/1518 [============================>.] - ETA: 0s - loss: 0.6776 - CapsNet_loss: 4.1585e-04 - Generator_loss: 1.7274 - CapsNet_accuracy: 0.9998\n",
      "Epoch 00165: val_CapsNet_accuracy did not improve from 0.97823\n",
      "1518/1518 [==============================] - 21s 14ms/step - loss: 0.6771 - CapsNet_loss: 4.1555e-04 - Generator_loss: 1.7262 - CapsNet_accuracy: 0.9998 - val_loss: 0.3755 - val_CapsNet_loss: 0.0284 - val_Generator_loss: 0.8854 - val_CapsNet_accuracy: 0.9614\n",
      "Epoch 166/200\n",
      "1518/1518 [==============================] - ETA: 0s - loss: 0.6999 - CapsNet_loss: 4.7805e-04 - Generator_loss: 1.7841 - CapsNet_accuracy: 0.9996\n",
      "Epoch 00166: val_CapsNet_accuracy did not improve from 0.97823\n",
      "1518/1518 [==============================] - 21s 14ms/step - loss: 0.6999 - CapsNet_loss: 4.7805e-04 - Generator_loss: 1.7841 - CapsNet_accuracy: 0.9996 - val_loss: 0.3773 - val_CapsNet_loss: 0.0306 - val_Generator_loss: 0.8844 - val_CapsNet_accuracy: 0.9583\n",
      "Epoch 167/200\n",
      "1516/1518 [============================>.] - ETA: 0s - loss: 0.6972 - CapsNet_loss: 4.5397e-04 - Generator_loss: 1.7775 - CapsNet_accuracy: 0.9996\n",
      "Epoch 00167: val_CapsNet_accuracy did not improve from 0.97823\n",
      "1518/1518 [==============================] - 21s 14ms/step - loss: 0.6966 - CapsNet_loss: 4.5723e-04 - Generator_loss: 1.7760 - CapsNet_accuracy: 0.9996 - val_loss: 0.3714 - val_CapsNet_loss: 0.0251 - val_Generator_loss: 0.8835 - val_CapsNet_accuracy: 0.9659\n",
      "Epoch 168/200\n",
      "1514/1518 [============================>.] - ETA: 0s - loss: 0.6752 - CapsNet_loss: 4.3698e-04 - Generator_loss: 1.7212 - CapsNet_accuracy: 0.9997\n",
      "Epoch 00168: val_CapsNet_accuracy did not improve from 0.97823\n",
      "1518/1518 [==============================] - 21s 14ms/step - loss: 0.6763 - CapsNet_loss: 4.3605e-04 - Generator_loss: 1.7242 - CapsNet_accuracy: 0.9997 - val_loss: 0.3746 - val_CapsNet_loss: 0.0274 - val_Generator_loss: 0.8856 - val_CapsNet_accuracy: 0.9626\n",
      "Epoch 169/200\n",
      "1517/1518 [============================>.] - ETA: 0s - loss: 0.6880 - CapsNet_loss: 4.4966e-04 - Generator_loss: 1.7539 - CapsNet_accuracy: 0.9996\n",
      "Epoch 00169: val_CapsNet_accuracy did not improve from 0.97823\n",
      "1518/1518 [==============================] - 21s 14ms/step - loss: 0.6880 - CapsNet_loss: 4.4938e-04 - Generator_loss: 1.7540 - CapsNet_accuracy: 0.9996 - val_loss: 0.3688 - val_CapsNet_loss: 0.0231 - val_Generator_loss: 0.8818 - val_CapsNet_accuracy: 0.9690\n",
      "Epoch 170/200\n",
      "1515/1518 [============================>.] - ETA: 0s - loss: 0.6785 - CapsNet_loss: 4.4702e-04 - Generator_loss: 1.7297 - CapsNet_accuracy: 0.9997\n",
      "Epoch 00170: val_CapsNet_accuracy did not improve from 0.97823\n",
      "1518/1518 [==============================] - 21s 14ms/step - loss: 0.6787 - CapsNet_loss: 4.4658e-04 - Generator_loss: 1.7303 - CapsNet_accuracy: 0.9997 - val_loss: 0.3951 - val_CapsNet_loss: 0.0459 - val_Generator_loss: 0.8907 - val_CapsNet_accuracy: 0.9388\n",
      "Epoch 171/200\n",
      "1515/1518 [============================>.] - ETA: 0s - loss: 0.7069 - CapsNet_loss: 4.1064e-04 - Generator_loss: 1.8023 - CapsNet_accuracy: 0.9998\n",
      "Epoch 00171: val_CapsNet_accuracy did not improve from 0.97823\n",
      "1518/1518 [==============================] - 21s 14ms/step - loss: 0.7062 - CapsNet_loss: 4.0993e-04 - Generator_loss: 1.8004 - CapsNet_accuracy: 0.9998 - val_loss: 0.3701 - val_CapsNet_loss: 0.0247 - val_Generator_loss: 0.8812 - val_CapsNet_accuracy: 0.9670\n",
      "Epoch 172/200\n",
      "1515/1518 [============================>.] - ETA: 0s - loss: 0.6992 - CapsNet_loss: 4.8572e-04 - Generator_loss: 1.7824 - CapsNet_accuracy: 0.9997\n",
      "Epoch 00172: val_CapsNet_accuracy did not improve from 0.97823\n",
      "1518/1518 [==============================] - 21s 14ms/step - loss: 0.6985 - CapsNet_loss: 4.8482e-04 - Generator_loss: 1.7806 - CapsNet_accuracy: 0.9997 - val_loss: 0.3705 - val_CapsNet_loss: 0.0241 - val_Generator_loss: 0.8838 - val_CapsNet_accuracy: 0.9679\n",
      "Epoch 173/200\n",
      "1514/1518 [============================>.] - ETA: 0s - loss: 0.6787 - CapsNet_loss: 4.5869e-04 - Generator_loss: 1.7302 - CapsNet_accuracy: 0.9997\n",
      "Epoch 00173: val_CapsNet_accuracy did not improve from 0.97823\n",
      "1518/1518 [==============================] - 21s 14ms/step - loss: 0.6790 - CapsNet_loss: 4.5817e-04 - Generator_loss: 1.7310 - CapsNet_accuracy: 0.9997 - val_loss: 0.3726 - val_CapsNet_loss: 0.0254 - val_Generator_loss: 0.8857 - val_CapsNet_accuracy: 0.9643\n"
     ]
    },
    {
     "name": "stdout",
     "output_type": "stream",
     "text": [
      "Epoch 174/200\n",
      "1518/1518 [==============================] - ETA: 0s - loss: 0.6899 - CapsNet_loss: 4.5751e-04 - Generator_loss: 1.7587 - CapsNet_accuracy: 0.9997\n",
      "Epoch 00174: val_CapsNet_accuracy did not improve from 0.97823\n",
      "1518/1518 [==============================] - 21s 14ms/step - loss: 0.6899 - CapsNet_loss: 4.5751e-04 - Generator_loss: 1.7587 - CapsNet_accuracy: 0.9997 - val_loss: 0.3703 - val_CapsNet_loss: 0.0245 - val_Generator_loss: 0.8820 - val_CapsNet_accuracy: 0.9665\n",
      "Epoch 175/200\n",
      "1516/1518 [============================>.] - ETA: 0s - loss: 0.7157 - CapsNet_loss: 4.0385e-04 - Generator_loss: 1.8247 - CapsNet_accuracy: 0.9995\n",
      "Epoch 00175: val_CapsNet_accuracy did not improve from 0.97823\n",
      "1518/1518 [==============================] - 21s 14ms/step - loss: 0.7154 - CapsNet_loss: 4.0332e-04 - Generator_loss: 1.8240 - CapsNet_accuracy: 0.9995 - val_loss: 0.3798 - val_CapsNet_loss: 0.0322 - val_Generator_loss: 0.8866 - val_CapsNet_accuracy: 0.9560\n",
      "Epoch 176/200\n",
      "1518/1518 [==============================] - ETA: 0s - loss: 0.6999 - CapsNet_loss: 5.1224e-04 - Generator_loss: 1.7840 - CapsNet_accuracy: 0.9995\n",
      "Epoch 00176: val_CapsNet_accuracy did not improve from 0.97823\n",
      "1518/1518 [==============================] - 21s 14ms/step - loss: 0.6999 - CapsNet_loss: 5.1224e-04 - Generator_loss: 1.7840 - CapsNet_accuracy: 0.9995 - val_loss: 0.3774 - val_CapsNet_loss: 0.0307 - val_Generator_loss: 0.8845 - val_CapsNet_accuracy: 0.9583\n",
      "Epoch 177/200\n",
      "1517/1518 [============================>.] - ETA: 0s - loss: 0.6902 - CapsNet_loss: 4.4783e-04 - Generator_loss: 1.7595 - CapsNet_accuracy: 0.9997\n",
      "Epoch 00177: val_CapsNet_accuracy did not improve from 0.97823\n",
      "1518/1518 [==============================] - 21s 14ms/step - loss: 0.6904 - CapsNet_loss: 4.4817e-04 - Generator_loss: 1.7601 - CapsNet_accuracy: 0.9997 - val_loss: 0.3835 - val_CapsNet_loss: 0.0337 - val_Generator_loss: 0.8922 - val_CapsNet_accuracy: 0.9529\n",
      "Epoch 178/200\n",
      "1518/1518 [==============================] - ETA: 0s - loss: 0.7109 - CapsNet_loss: 4.9346e-04 - Generator_loss: 1.8123 - CapsNet_accuracy: 0.9996\n",
      "Epoch 00178: val_CapsNet_accuracy did not improve from 0.97823\n",
      "1518/1518 [==============================] - 21s 14ms/step - loss: 0.7109 - CapsNet_loss: 4.9346e-04 - Generator_loss: 1.8123 - CapsNet_accuracy: 0.9996 - val_loss: 0.3732 - val_CapsNet_loss: 0.0268 - val_Generator_loss: 0.8838 - val_CapsNet_accuracy: 0.9635\n",
      "Epoch 179/200\n",
      "1515/1518 [============================>.] - ETA: 0s - loss: 0.6952 - CapsNet_loss: 5.7374e-04 - Generator_loss: 1.7719 - CapsNet_accuracy: 0.9993\n",
      "Epoch 00179: val_CapsNet_accuracy did not improve from 0.97823\n",
      "1518/1518 [==============================] - 21s 14ms/step - loss: 0.6958 - CapsNet_loss: 5.7281e-04 - Generator_loss: 1.7734 - CapsNet_accuracy: 0.9993 - val_loss: 0.3850 - val_CapsNet_loss: 0.0370 - val_Generator_loss: 0.8880 - val_CapsNet_accuracy: 0.9488\n",
      "Epoch 180/200\n",
      "1518/1518 [==============================] - ETA: 0s - loss: 0.6837 - CapsNet_loss: 3.9971e-04 - Generator_loss: 1.7432 - CapsNet_accuracy: 0.9997\n",
      "Epoch 00180: val_CapsNet_accuracy did not improve from 0.97823\n",
      "1518/1518 [==============================] - 21s 14ms/step - loss: 0.6837 - CapsNet_loss: 3.9971e-04 - Generator_loss: 1.7432 - CapsNet_accuracy: 0.9997 - val_loss: 0.3696 - val_CapsNet_loss: 0.0237 - val_Generator_loss: 0.8823 - val_CapsNet_accuracy: 0.9674\n",
      "Epoch 181/200\n",
      "1516/1518 [============================>.] - ETA: 0s - loss: 0.7020 - CapsNet_loss: 5.8906e-04 - Generator_loss: 1.7894 - CapsNet_accuracy: 0.9994\n",
      "Epoch 00181: val_CapsNet_accuracy did not improve from 0.97823\n",
      "1518/1518 [==============================] - 21s 14ms/step - loss: 0.7017 - CapsNet_loss: 5.8851e-04 - Generator_loss: 1.7886 - CapsNet_accuracy: 0.9994 - val_loss: 0.3660 - val_CapsNet_loss: 0.0208 - val_Generator_loss: 0.8807 - val_CapsNet_accuracy: 0.9719\n",
      "Epoch 182/200\n",
      "1518/1518 [==============================] - ETA: 0s - loss: 0.6725 - CapsNet_loss: 3.6193e-04 - Generator_loss: 1.7147 - CapsNet_accuracy: 0.9999\n",
      "Epoch 00182: val_CapsNet_accuracy did not improve from 0.97823\n",
      "1518/1518 [==============================] - 21s 14ms/step - loss: 0.6725 - CapsNet_loss: 3.6193e-04 - Generator_loss: 1.7147 - CapsNet_accuracy: 0.9999 - val_loss: 0.3618 - val_CapsNet_loss: 0.0178 - val_Generator_loss: 0.8776 - val_CapsNet_accuracy: 0.9763\n",
      "Epoch 183/200\n",
      "1517/1518 [============================>.] - ETA: 0s - loss: 0.6977 - CapsNet_loss: 4.3833e-04 - Generator_loss: 1.7786 - CapsNet_accuracy: 0.9996\n",
      "Epoch 00183: val_CapsNet_accuracy did not improve from 0.97823\n",
      "1518/1518 [==============================] - 21s 14ms/step - loss: 0.6982 - CapsNet_loss: 4.3804e-04 - Generator_loss: 1.7800 - CapsNet_accuracy: 0.9996 - val_loss: 0.3638 - val_CapsNet_loss: 0.0190 - val_Generator_loss: 0.8795 - val_CapsNet_accuracy: 0.9750\n",
      "Epoch 184/200\n",
      "1516/1518 [============================>.] - ETA: 0s - loss: 0.6964 - CapsNet_loss: 4.0984e-04 - Generator_loss: 1.7755 - CapsNet_accuracy: 0.9996\n",
      "Epoch 00184: val_CapsNet_accuracy did not improve from 0.97823\n",
      "1518/1518 [==============================] - 21s 14ms/step - loss: 0.6967 - CapsNet_loss: 4.0969e-04 - Generator_loss: 1.7764 - CapsNet_accuracy: 0.9996 - val_loss: 0.3745 - val_CapsNet_loss: 0.0274 - val_Generator_loss: 0.8856 - val_CapsNet_accuracy: 0.9609\n",
      "Epoch 185/200\n",
      "1515/1518 [============================>.] - ETA: 0s - loss: 0.6947 - CapsNet_loss: 3.8701e-04 - Generator_loss: 1.7713 - CapsNet_accuracy: 0.9999\n",
      "Epoch 00185: val_CapsNet_accuracy did not improve from 0.97823\n",
      "1518/1518 [==============================] - 21s 14ms/step - loss: 0.6941 - CapsNet_loss: 3.8626e-04 - Generator_loss: 1.7696 - CapsNet_accuracy: 0.9999 - val_loss: 0.3859 - val_CapsNet_loss: 0.0386 - val_Generator_loss: 0.8859 - val_CapsNet_accuracy: 0.9495\n",
      "Epoch 186/200\n",
      "1515/1518 [============================>.] - ETA: 0s - loss: 0.6772 - CapsNet_loss: 5.2120e-04 - Generator_loss: 1.7263 - CapsNet_accuracy: 0.9995\n",
      "Epoch 00186: val_CapsNet_accuracy did not improve from 0.97823\n",
      "1518/1518 [==============================] - 21s 14ms/step - loss: 0.6766 - CapsNet_loss: 5.2022e-04 - Generator_loss: 1.7247 - CapsNet_accuracy: 0.9995 - val_loss: 0.3853 - val_CapsNet_loss: 0.0378 - val_Generator_loss: 0.8864 - val_CapsNet_accuracy: 0.9496\n",
      "Epoch 187/200\n",
      "1518/1518 [==============================] - ETA: 0s - loss: 0.6802 - CapsNet_loss: 3.3933e-04 - Generator_loss: 1.7345 - CapsNet_accuracy: 0.9998\n",
      "Epoch 00187: val_CapsNet_accuracy did not improve from 0.97823\n",
      "1518/1518 [==============================] - 21s 14ms/step - loss: 0.6802 - CapsNet_loss: 3.3933e-04 - Generator_loss: 1.7345 - CapsNet_accuracy: 0.9998 - val_loss: 0.3768 - val_CapsNet_loss: 0.0274 - val_Generator_loss: 0.8914 - val_CapsNet_accuracy: 0.9629\n",
      "Epoch 188/200\n",
      "1518/1518 [==============================] - ETA: 0s - loss: 0.7049 - CapsNet_loss: 5.1506e-04 - Generator_loss: 1.7968 - CapsNet_accuracy: 0.9997\n",
      "Epoch 00188: val_CapsNet_accuracy did not improve from 0.97823\n",
      "1518/1518 [==============================] - 21s 14ms/step - loss: 0.7049 - CapsNet_loss: 5.1506e-04 - Generator_loss: 1.7968 - CapsNet_accuracy: 0.9997 - val_loss: 0.3765 - val_CapsNet_loss: 0.0296 - val_Generator_loss: 0.8850 - val_CapsNet_accuracy: 0.9613\n",
      "Epoch 189/200\n",
      "1514/1518 [============================>.] - ETA: 0s - loss: 0.6941 - CapsNet_loss: 2.6775e-04 - Generator_loss: 1.7701 - CapsNet_accuracy: 0.9999\n",
      "Epoch 00189: val_CapsNet_accuracy did not improve from 0.97823\n",
      "1518/1518 [==============================] - 21s 14ms/step - loss: 0.6930 - CapsNet_loss: 2.7634e-04 - Generator_loss: 1.7670 - CapsNet_accuracy: 0.9999 - val_loss: 0.3730 - val_CapsNet_loss: 0.0271 - val_Generator_loss: 0.8824 - val_CapsNet_accuracy: 0.9636\n",
      "Epoch 190/200\n",
      "1518/1518 [==============================] - ETA: 0s - loss: 0.7111 - CapsNet_loss: 2.9225e-04 - Generator_loss: 1.8133 - CapsNet_accuracy: 0.9999\n",
      "Epoch 00190: val_CapsNet_accuracy did not improve from 0.97823\n",
      "1518/1518 [==============================] - 21s 14ms/step - loss: 0.7111 - CapsNet_loss: 2.9225e-04 - Generator_loss: 1.8133 - CapsNet_accuracy: 0.9999 - val_loss: 0.3692 - val_CapsNet_loss: 0.0234 - val_Generator_loss: 0.8823 - val_CapsNet_accuracy: 0.9685\n"
     ]
    },
    {
     "name": "stdout",
     "output_type": "stream",
     "text": [
      "Epoch 191/200\n",
      "1517/1518 [============================>.] - ETA: 0s - loss: 0.7051 - CapsNet_loss: 4.3166e-04 - Generator_loss: 1.7977 - CapsNet_accuracy: 0.9997\n",
      "Epoch 00191: val_CapsNet_accuracy did not improve from 0.97823\n",
      "1518/1518 [==============================] - 21s 14ms/step - loss: 0.7052 - CapsNet_loss: 4.3178e-04 - Generator_loss: 1.7978 - CapsNet_accuracy: 0.9997 - val_loss: 0.3813 - val_CapsNet_loss: 0.0333 - val_Generator_loss: 0.8876 - val_CapsNet_accuracy: 0.9555\n",
      "Epoch 192/200\n",
      "1516/1518 [============================>.] - ETA: 0s - loss: 0.6804 - CapsNet_loss: 3.7837e-04 - Generator_loss: 1.7347 - CapsNet_accuracy: 0.9997\n",
      "Epoch 00192: val_CapsNet_accuracy did not improve from 0.97823\n",
      "1518/1518 [==============================] - 21s 14ms/step - loss: 0.6799 - CapsNet_loss: 3.7788e-04 - Generator_loss: 1.7336 - CapsNet_accuracy: 0.9997 - val_loss: 0.3677 - val_CapsNet_loss: 0.0228 - val_Generator_loss: 0.8799 - val_CapsNet_accuracy: 0.9699\n",
      "Epoch 193/200\n",
      "1516/1518 [============================>.] - ETA: 0s - loss: 0.6854 - CapsNet_loss: 4.6050e-04 - Generator_loss: 1.7474 - CapsNet_accuracy: 0.9997\n",
      "Epoch 00193: val_CapsNet_accuracy did not improve from 0.97823\n",
      "1518/1518 [==============================] - 21s 14ms/step - loss: 0.6855 - CapsNet_loss: 4.5990e-04 - Generator_loss: 1.7476 - CapsNet_accuracy: 0.9997 - val_loss: 0.3681 - val_CapsNet_loss: 0.0226 - val_Generator_loss: 0.8814 - val_CapsNet_accuracy: 0.9704\n",
      "Epoch 194/200\n",
      "1515/1518 [============================>.] - ETA: 0s - loss: 0.6952 - CapsNet_loss: 4.7974e-04 - Generator_loss: 1.7724 - CapsNet_accuracy: 0.9998\n",
      "Epoch 00194: val_CapsNet_accuracy did not improve from 0.97823\n",
      "1518/1518 [==============================] - 21s 14ms/step - loss: 0.6968 - CapsNet_loss: 4.7885e-04 - Generator_loss: 1.7763 - CapsNet_accuracy: 0.9998 - val_loss: 0.3751 - val_CapsNet_loss: 0.0282 - val_Generator_loss: 0.8849 - val_CapsNet_accuracy: 0.9612\n",
      "Epoch 195/200\n",
      "1516/1518 [============================>.] - ETA: 0s - loss: 0.6862 - CapsNet_loss: 3.8224e-04 - Generator_loss: 1.7495 - CapsNet_accuracy: 0.9998\n",
      "Epoch 00195: val_CapsNet_accuracy did not improve from 0.97823\n",
      "1518/1518 [==============================] - 21s 14ms/step - loss: 0.6857 - CapsNet_loss: 3.8257e-04 - Generator_loss: 1.7483 - CapsNet_accuracy: 0.9998 - val_loss: 0.3813 - val_CapsNet_loss: 0.0338 - val_Generator_loss: 0.8866 - val_CapsNet_accuracy: 0.9551\n",
      "Epoch 196/200\n",
      "1515/1518 [============================>.] - ETA: 0s - loss: 0.6905 - CapsNet_loss: 4.2033e-04 - Generator_loss: 1.7605 - CapsNet_accuracy: 0.9996\n",
      "Epoch 00196: val_CapsNet_accuracy did not improve from 0.97823\n",
      "1518/1518 [==============================] - 21s 14ms/step - loss: 0.6895 - CapsNet_loss: 4.1957e-04 - Generator_loss: 1.7579 - CapsNet_accuracy: 0.9996 - val_loss: 0.3727 - val_CapsNet_loss: 0.0272 - val_Generator_loss: 0.8815 - val_CapsNet_accuracy: 0.9648\n",
      "Epoch 197/200\n",
      "1516/1518 [============================>.] - ETA: 0s - loss: 0.6794 - CapsNet_loss: 3.7669e-04 - Generator_loss: 1.7321 - CapsNet_accuracy: 0.9997\n",
      "Epoch 00197: val_CapsNet_accuracy did not improve from 0.97823\n",
      "1518/1518 [==============================] - 21s 14ms/step - loss: 0.6790 - CapsNet_loss: 3.7626e-04 - Generator_loss: 1.7312 - CapsNet_accuracy: 0.9997 - val_loss: 0.3709 - val_CapsNet_loss: 0.0252 - val_Generator_loss: 0.8819 - val_CapsNet_accuracy: 0.9657\n",
      "Epoch 198/200\n",
      "1517/1518 [============================>.] - ETA: 0s - loss: 0.7079 - CapsNet_loss: 3.7690e-04 - Generator_loss: 1.8050 - CapsNet_accuracy: 0.9996\n",
      "Epoch 00198: val_CapsNet_accuracy did not improve from 0.97823\n",
      "1518/1518 [==============================] - 21s 14ms/step - loss: 0.7078 - CapsNet_loss: 3.7665e-04 - Generator_loss: 1.8046 - CapsNet_accuracy: 0.9996 - val_loss: 0.3696 - val_CapsNet_loss: 0.0237 - val_Generator_loss: 0.8824 - val_CapsNet_accuracy: 0.9688\n",
      "Epoch 199/200\n",
      "1518/1518 [==============================] - ETA: 0s - loss: 0.6750 - CapsNet_loss: 3.9371e-04 - Generator_loss: 1.7209 - CapsNet_accuracy: 0.9997\n",
      "Epoch 00199: val_CapsNet_accuracy did not improve from 0.97823\n",
      "1518/1518 [==============================] - 21s 14ms/step - loss: 0.6750 - CapsNet_loss: 3.9371e-04 - Generator_loss: 1.7209 - CapsNet_accuracy: 0.9997 - val_loss: 0.3709 - val_CapsNet_loss: 0.0256 - val_Generator_loss: 0.8810 - val_CapsNet_accuracy: 0.9656\n",
      "Epoch 200/200\n",
      "1518/1518 [==============================] - ETA: 0s - loss: 0.6872 - CapsNet_loss: 3.0633e-04 - Generator_loss: 1.7523 - CapsNet_accuracy: 0.9998\n",
      "Epoch 00200: val_CapsNet_accuracy did not improve from 0.97823\n",
      "1518/1518 [==============================] - 21s 14ms/step - loss: 0.6872 - CapsNet_loss: 3.0633e-04 - Generator_loss: 1.7523 - CapsNet_accuracy: 0.9998 - val_loss: 0.3638 - val_CapsNet_loss: 0.0192 - val_Generator_loss: 0.8791 - val_CapsNet_accuracy: 0.9750\n"
     ]
    },
    {
     "data": {
      "text/plain": [
       "<tensorflow.python.keras.callbacks.History at 0x7fe20a9e2128>"
      ]
     },
     "execution_count": 159,
     "metadata": {},
     "output_type": "execute_result"
    }
   ],
   "source": [
    "model_train.fit(train_generator(X_train, y_train, batch_size, gen=True, aug=True),\n",
    "          steps_per_epoch=int(y_train.shape[0] / batch_size),\n",
    "          epochs=epochs, validation_data=((X_test_s, y_test), (y_test, X_test_s)), batch_size=BATCH, initial_epoch=0,\n",
    "          callbacks=[checkpoint, lr_decay, tb])"
   ]
  },
  {
   "cell_type": "markdown",
   "metadata": {},
   "source": [
    "## Test the Network"
   ]
  },
  {
   "cell_type": "markdown",
   "metadata": {},
   "source": [
    "### With multiple patches"
   ]
  },
  {
   "cell_type": "code",
   "execution_count": 55,
   "metadata": {
    "ExecuteTime": {
     "end_time": "2020-12-29T16:54:07.901964Z",
     "start_time": "2020-12-29T16:54:07.883276Z"
    }
   },
   "outputs": [],
   "source": [
    "def augPred(model, X_test, n_rep):\n",
    "    y_preds = np.empty((X_test.shape[0], 5))\n",
    "    x_patches = np.empty((n_rep, patch, patch, 2))\n",
    "    for i in tqdm(range(X_test.shape[0])):\n",
    "        for r in range(n_rep):\n",
    "            x_patches[r] = tf.image.random_crop(X_test[i:i+1], [1, patch, patch, 2])\n",
    "            \n",
    "            \n",
    "        y_pred, _  = model_eval.predict(x_patches)\n",
    "        y_preds[i] = y_pred.sum(axis=0)\n",
    "    return y_preds"
   ]
  },
  {
   "cell_type": "code",
   "execution_count": 56,
   "metadata": {
    "ExecuteTime": {
     "end_time": "2020-12-29T17:05:43.100126Z",
     "start_time": "2020-12-29T16:54:08.314772Z"
    }
   },
   "outputs": [
    {
     "data": {
      "application/vnd.jupyter.widget-view+json": {
       "model_id": "d5de27db0eba412b81254a2cb415ac98",
       "version_major": 2,
       "version_minor": 0
      },
      "text/plain": [
       "HBox(children=(HTML(value=''), FloatProgress(value=0.0, max=24300.0), HTML(value='')))"
      ]
     },
     "metadata": {},
     "output_type": "display_data"
    },
    {
     "name": "stdout",
     "output_type": "stream",
     "text": [
      "\n"
     ]
    }
   ],
   "source": [
    "y_pred = augPred(model_eval, X_test, 10)"
   ]
  },
  {
   "cell_type": "code",
   "execution_count": 58,
   "metadata": {
    "ExecuteTime": {
     "end_time": "2020-12-29T17:10:03.967745Z",
     "start_time": "2020-12-29T17:10:03.948466Z"
    }
   },
   "outputs": [
    {
     "name": "stdout",
     "output_type": "stream",
     "text": [
      "------------------------------smnallNorb test set------------------------------\n",
      "Test acc: 0.9794650205761317\n",
      "Test error %: 2.0535\n"
     ]
    }
   ],
   "source": [
    "print('-'*30 + 'smnallNorb test set' + '-'*30)\n",
    "acc = np.sum(np.argmax(y_pred, 1) == np.argmax(y_test, 1))/y_test.shape[0]\n",
    "print('Test acc:', acc)\n",
    "print(f\"Test error %: {(1 - acc)*100:.4f}\")"
   ]
  },
  {
   "cell_type": "markdown",
   "metadata": {},
   "source": [
    "### Single patch"
   ]
  },
  {
   "cell_type": "code",
   "execution_count": 53,
   "metadata": {
    "ExecuteTime": {
     "end_time": "2020-12-29T16:53:35.152316Z",
     "start_time": "2020-12-29T16:53:35.100617Z"
    }
   },
   "outputs": [],
   "source": [
    "model_eval.load_weights(saved_model_name)"
   ]
  },
  {
   "cell_type": "code",
   "execution_count": 54,
   "metadata": {
    "ExecuteTime": {
     "end_time": "2020-12-29T16:53:37.405919Z",
     "start_time": "2020-12-29T16:53:35.609220Z"
    }
   },
   "outputs": [
    {
     "name": "stdout",
     "output_type": "stream",
     "text": [
      "------------------------------smnallNorb test set------------------------------\n",
      "Test acc: 0.9759670781893004\n",
      "Test error %: 2.4033\n"
     ]
    },
    {
     "data": {
      "image/png": "[encoded data removed]",
      "text/plain": [
       "<Figure size 720x720 with 1 Axes>"
      ]
     },
     "metadata": {
      "needs_background": "light"
     },
     "output_type": "display_data"
    }
   ],
   "source": [
    "y_pred, X_gen  = model_eval.predict(X_test_s)\n",
    "\n",
    "print('-'*30 + 'smnallNorb test set' + '-'*30)\n",
    "acc = np.sum(np.argmax(y_pred, 1) == np.argmax(y_test, 1))/y_test.shape[0]\n",
    "print('Test acc:', acc)\n",
    "print(f\"Test error %: {(1 - acc)*100:.4f}\")\n",
    "\n",
    "# plot some test and generatedd images\n",
    "img = combine_images(np.concatenate([X_test_s[:25,...,0:1],X_gen[:25,...,0:1]])) * 25\n",
    "Image.fromarray(img.astype(np.uint8)).save(media_dir.joinpath(f'{name_model}.png'))\n",
    "plt.figure(figsize=(10,10))\n",
    "plt.imshow(img)\n",
    "plt.show()"
   ]
  },
  {
   "cell_type": "markdown",
   "metadata": {},
   "source": [
    "## Plot misclassified images"
   ]
  },
  {
   "cell_type": "code",
   "execution_count": null,
   "metadata": {
    "ExecuteTime": {
     "end_time": "2020-12-28T19:51:03.234670Z",
     "start_time": "2020-12-28T19:51:03.215912Z"
    }
   },
   "outputs": [],
   "source": [
    "def plotImages(images, preds, labels, img_n):\n",
    "    \"\"\"\n",
    "    Take as input a batch from the generator and plt a number of images equal to img_n\n",
    "    Default columns equal to max_c. At least inputs of batch equal two\n",
    "    \"\"\"\n",
    "    max_c = 5\n",
    "    \n",
    "    if img_n <= max_c:\n",
    "        r = 1\n",
    "        c = img_n\n",
    "    else:\n",
    "        r = math.ceil(img_n/max_c)\n",
    "        c = max_c\n",
    "        \n",
    "    fig, axes = plt.subplots(r, c, figsize=(20,20))\n",
    "    axes = axes.flatten()\n",
    "    for img, pred, label, ax in zip(images, preds, labels, axes):\n",
    "        ax.imshow(img)\n",
    "        ax.grid()\n",
    "#    _ = plt.suptitle(\"Batch images\", verticalalignment='top')\n",
    "        ax.set_title('Class: {} Pred: {}'.format(classes[np.argmax(label)], classes[np.argmax(pred)]), color='red')\n",
    "    plt.tight_layout()\n",
    "    plt.show()"
   ]
  },
  {
   "cell_type": "code",
   "execution_count": null,
   "metadata": {
    "ExecuteTime": {
     "end_time": "2020-12-28T19:51:05.768895Z",
     "start_time": "2020-12-28T19:51:03.625391Z"
    }
   },
   "outputs": [],
   "source": [
    "print(f\"N misclassified images (10K): {np.sum(np.argmax(y_pred, 1) != np.argmax(y_test, 1))}\")\n",
    "\n",
    "images_to_plot = 30\n",
    "\n",
    "indices = np.argmax(y_pred, 1) != np.argmax(y_test, 1)\n",
    "plotImages(X_test[indices][...,0], y_pred[indices], y_test[indices], images_to_plot)"
   ]
  },
  {
   "cell_type": "markdown",
   "metadata": {},
   "source": [
    "## Play with the latent space"
   ]
  },
  {
   "cell_type": "code",
   "execution_count": null,
   "metadata": {},
   "outputs": [],
   "source": [
    "def modelPlay(generator):\n",
    "    inputs = tf.keras.Input(input_shape)\n",
    "    noise = tf.keras.layers.Input(shape=(10, 16))\n",
    "    y_true = tf.keras.layers.Input(shape=(10,))\n",
    "    \n",
    "    digit_caps, digit_caps_len = CapsNet()(inputs)\n",
    "    noised_digitcaps = tf.keras.layers.Add()([digit_caps, noise])\n",
    "\n",
    "    masked = Mask()(digit_caps)  # Mask using the capsule with maximal length. For prediction\n",
    "    masked_noised_y = Mask()([noised_digitcaps, y_true])\n",
    "    \n",
    "    x_rec_play = generator(masked_noised_y)\n",
    "    \n",
    "    \n",
    "    return  tf.keras.models.Model([inputs, y_true, noise], x_rec_play)"
   ]
  },
  {
   "cell_type": "code",
   "execution_count": null,
   "metadata": {},
   "outputs": [],
   "source": [
    "model_play = modelPlay(Generator())\n",
    "model_play.summary()"
   ]
  },
  {
   "cell_type": "code",
   "execution_count": null,
   "metadata": {},
   "outputs": [],
   "source": [
    "model_play.load_weights(saved_model_name)"
   ]
  },
  {
   "cell_type": "code",
   "execution_count": null,
   "metadata": {},
   "outputs": [],
   "source": [
    "def manipulate_latent(model, X, y, dim=0):\n",
    "\n",
    "    noise = np.zeros([1, 10, 16])  \n",
    "    x_aff = []\n",
    "    \n",
    "    for r in [-0.25, -0.2, -0.15, -0.1, -0.05, 0, 0.05, 0.1, 0.15, 0.2, 0.25]:\n",
    "        tmp = np.copy(noise)\n",
    "        tmp[:,:,dim] = r\n",
    "        x_gen = model.predict([X, y, tmp])\n",
    "        x_aff.append(x_gen)\n",
    "\n",
    "        img = np.concatenate(x_aff, axis=2)\n",
    "\n",
    "    image = img*255\n",
    "    plt.imshow(X[0], cmap='gray')\n",
    "    plt.show()\n",
    "    plt.figure(figsize=(10,10))\n",
    "    plt.imshow(img[0], cmap='gray')\n",
    "    plt.axis('off')\n",
    "    plt.show()"
   ]
  },
  {
   "cell_type": "code",
   "execution_count": null,
   "metadata": {},
   "outputs": [],
   "source": [
    "def manipulate_latent_multi(model, X, y, dim=0):\n",
    "\n",
    "    noise = np.zeros([1, 10, 16])  \n",
    "    imgs= []\n",
    "    \n",
    "    for d in range(dim):\n",
    "        x_aff = []\n",
    "        for r in [-0.35, -0.30, -0.25, -0.2, -0.15, -0.1, -0.05, 0, 0.05, 0.1, 0.15, 0.2, 0.25, +0.30, +0.35]:\n",
    "            tmp = np.copy(noise)\n",
    "            tmp[:,:,d] = r\n",
    "            x_gen = model.predict([X, y, tmp])\n",
    "            x_aff.append(x_gen)\n",
    "\n",
    "        imgs.append(np.concatenate(x_aff, axis=2))\n",
    "\n",
    "    img = np.concatenate(imgs, axis=1)\n",
    "    image = img*255\n",
    "    plt.imshow(X[0], cmap='gray')\n",
    "    plt.show()\n",
    "    plt.figure(figsize=(10,10))\n",
    "    plt.imshow(img[0], cmap='gray')\n",
    "    plt.axis('off')\n",
    "    plt.show()"
   ]
  },
  {
   "cell_type": "markdown",
   "metadata": {},
   "source": [
    "### One capsule dimension"
   ]
  },
  {
   "cell_type": "code",
   "execution_count": null,
   "metadata": {},
   "outputs": [],
   "source": [
    "index = 0\n",
    "manipulate_latent(model_play, X_test[index:index+1], y_test[index:index+1], 0)"
   ]
  },
  {
   "cell_type": "markdown",
   "metadata": {},
   "source": [
    "### All Capsule dimensions at a time"
   ]
  },
  {
   "cell_type": "code",
   "execution_count": null,
   "metadata": {},
   "outputs": [],
   "source": [
    "index = 0\n",
    "manipulate_latent_multi(model_play, X_test[index:index+1], y_test[index:index+1], 16)"
   ]
  },
  {
   "cell_type": "code",
   "execution_count": null,
   "metadata": {},
   "outputs": [],
   "source": []
  }
 ],
 "metadata": {
  "accelerator": "GPU",
  "colab": {
   "collapsed_sections": [],
   "name": "CapsNet.ipynb",
   "provenance": []
  },
  "kernelspec": {
   "display_name": "Tensorflow2.0",
   "language": "python",
   "name": "tensorflow2.0"
  },
  "language_info": {
   "codemirror_mode": {
    "name": "ipython",
    "version": 3
   },
   "file_extension": ".py",
   "mimetype": "text/x-python",
   "name": "python",
   "nbconvert_exporter": "python",
   "pygments_lexer": "ipython3",
   "version": "3.6.0"
  },
  "toc": {
   "base_numbering": "0",
   "nav_menu": {},
   "number_sections": true,
   "sideBar": true,
   "skip_h1_title": false,
   "title_cell": "Table of Contents",
   "title_sidebar": "Contents",
   "toc_cell": false,
   "toc_position": {
    "height": "calc(100% - 180px)",
    "left": "10px",
    "top": "150px",
    "width": "288px"
   },
   "toc_section_display": true,
   "toc_window_display": true
  },
  "varInspector": {
   "cols": {
    "lenName": 16,
    "lenType": 16,
    "lenVar": 40
   },
   "kernels_config": {
    "python": {
     "delete_cmd_postfix": "",
     "delete_cmd_prefix": "del ",
     "library": "var_list.py",
     "varRefreshCmd": "print(var_dic_list())"
    },
    "r": {
     "delete_cmd_postfix": ") ",
     "delete_cmd_prefix": "rm(",
     "library": "var_list.r",
     "varRefreshCmd": "cat(var_dic_list()) "
    }
   },
   "position": {
    "height": "515px",
    "left": "350px",
    "right": "20px",
    "top": "56px",
    "width": "800px"
   },
   "types_to_exclude": [
    "module",
    "function",
    "builtin_function_or_method",
    "instance",
    "_Feature"
   ],
   "window_display": false
  }
 },
 "nbformat": 4,
 "nbformat_minor": 1
}
